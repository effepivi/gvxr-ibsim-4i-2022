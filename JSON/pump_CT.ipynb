{
 "cells": [
  {
   "cell_type": "code",
   "execution_count": 1,
   "id": "ce2f272a-7923-47cf-baf9-053c16be2480",
   "metadata": {},
   "outputs": [
    {
     "name": "stdout",
     "output_type": "stream",
     "text": [
      "spekpy is not install, you won't be able to load a beam spectrum using spekpy\n",
      "SimpleGVXR 2.0.2 (2022-10-07T18:07:14) [Compiler: GNU g++] on Linux\n",
      "gVirtualXRay core library (gvxr) 2.0.2 (2022-10-07T18:07:13) [Compiler: GNU g++] on Linux\n"
     ]
    }
   ],
   "source": [
    "import math\n",
    "import numpy as np\n",
    "import matplotlib.pyplot as plt # Plotting\n",
    "\n",
    "from gvxrPython3 import gvxr # Simulate X-ray images`\n",
    "from gvxrPython3 import json2gvxr # Set the simulation parameters using a JSON file\n",
    "from utilities import recon_parallel, recon_widget, recon_cone"
   ]
  },
  {
   "cell_type": "code",
   "execution_count": 2,
   "id": "63925148-a241-419d-8048-7d5580a698e0",
   "metadata": {},
   "outputs": [
    {
     "name": "stdout",
     "output_type": "stream",
     "text": [
      "Create an OpenGL context: 450x450\n"
     ]
    },
    {
     "name": "stderr",
     "output_type": "stream",
     "text": [
      "Fri Oct 14 21:27:24 2022 ---- Create window (ID: -1)\n",
      "Fri Oct 14 21:27:24 2022 ---- Initialise GLFW\n",
      "Fri Oct 14 21:27:24 2022 ---- Create an OpenGL window with a 3.2 context.\n",
      "Fri Oct 14 21:27:25 2022 ---- Make the window's context current\n",
      "Fri Oct 14 21:27:25 2022 ---- Initialise GLEW\n",
      "Fri Oct 14 21:27:25 2022 ---- OpenGL vendor: NVIDIA Corporation\n",
      "Fri Oct 14 21:27:25 2022 ---- OpenGL renderer: NVIDIA GeForce RTX 2080 Ti/PCIe/SSE2\n",
      "Fri Oct 14 21:27:25 2022 ---- OpenGL version: 3.2.0 NVIDIA 510.73.08\n",
      "Fri Oct 14 21:27:25 2022 ---- Use OpenGL 4.5.\n",
      "Fri Oct 14 21:27:25 2022 ---- Initialise the X-ray renderer if needed and if possible\n"
     ]
    }
   ],
   "source": [
    "json2gvxr.initGVXR(\"Turbopump.json\", \"OPENGL\")"
   ]
  },
  {
   "cell_type": "code",
   "execution_count": 3,
   "id": "c857d869-8868-4b82-9b91-3cbca2545958",
   "metadata": {},
   "outputs": [
    {
     "name": "stdout",
     "output_type": "stream",
     "text": [
      "Set up the detector\n",
      "\tDetector position: [0, -150, 0, 'mm']\n",
      "\tDetector up vector: [0, 0, 1]\n",
      "\tDetector number of pixels: [900, 900]\n",
      "\tPixel spacing: [0.2, 0.2, 'mm']\n"
     ]
    }
   ],
   "source": [
    "json2gvxr.initDetector()"
   ]
  },
  {
   "cell_type": "code",
   "execution_count": 5,
   "id": "b65e5efc-a0be-45e8-9679-b8bdca5c6f57",
   "metadata": {},
   "outputs": [
    {
     "name": "stderr",
     "output_type": "stream",
     "text": [
      "Fri Oct 14 21:28:03 2022 ---- file_name:\t../input_data/TurboPump/internals.stl\tnb_faces:\t86276\tnb_vertices:\t258828\tbounding_box (in cm):\t(-3.48613, -5.55, -3.48613)\t(3.48613, -0.735, 3.48613)\n",
      "Fri Oct 14 21:28:03 2022 ---- file_name:\t../input_data/TurboPump/front_flange.stl\tnb_faces:\t6120\tnb_vertices:\t18360\tbounding_box (in cm):\t(-11.425, 0, -11.425)\t(11.425, 3.535, 11.425)\n",
      "Fri Oct 14 21:28:03 2022 ---- file_name:\t../input_data/TurboPump/rear_flange.stl\tnb_faces:\t10516\tnb_vertices:\t31548\tbounding_box (in cm):\t(-11.425, -15.535, -11.425)\t(11.425, -6.73, 11.425)\n",
      "Fri Oct 14 21:28:03 2022 ---- file_name:\t../input_data/TurboPump/housing.stl\tnb_faces:\t35076\tnb_vertices:\t105228\tbounding_box (in cm):\t(-12.3086, -8.5025, -14.9408)\t(16.5171, 1.8975, 14.8965)\n",
      "Fri Oct 14 21:28:03 2022 ---- file_name:\t../input_data/TurboPump/ThrustRollerBearing.stl\tnb_faces:\t26384\tnb_vertices:\t79152\tbounding_box (in cm):\t(-6.25, -9.27, -6.25)\t(6.25, -6.77, 6.25)\n"
     ]
    }
   ],
   "source": [
    "json2gvxr.initSamples()"
   ]
  },
  {
   "cell_type": "code",
   "execution_count": 6,
   "id": "0f881250-b23a-4acb-ad09-5b4f820930d1",
   "metadata": {},
   "outputs": [
    {
     "name": "stdout",
     "output_type": "stream",
     "text": [
      "Set up the beam\n",
      "\tSource position: [0, 200, 0, 'mm']\n",
      "\tSource shape: Point\n"
     ]
    },
    {
     "name": "stderr",
     "output_type": "stream",
     "text": [
      "Fri Oct 14 21:28:09 2022 ---- Initialise the renderer\n"
     ]
    }
   ],
   "source": [
    "json2gvxr.initSourceGeometry()\n",
    "json2gvxr.initSpectrum();"
   ]
  },
  {
   "cell_type": "code",
   "execution_count": 7,
   "id": "47447040-e48b-4025-94ad-9be87b252d07",
   "metadata": {},
   "outputs": [],
   "source": [
    "# gvxr.computeXRayImage()\n",
    "# gvxr.displayScene()\n",
    "# gvxr.renderLoop()\n",
    "\n",
    "# screenshot = gvxr.takeScreenshot()\n",
    "# plt.imsave(\"../img/turbo_pump-screenshot.png\", np.array(screenshot))"
   ]
  },
  {
   "cell_type": "code",
   "execution_count": null,
   "id": "5e346c4e-5116-4f85-9040-d5000909fe09",
   "metadata": {},
   "outputs": [],
   "source": [
    "xray_image_point_source = gvxr.computeXRayImage()\n",
    "gvxr.displayScene()\n",
    "screenshot_point_source = gvxr.takeScreenshot()"
   ]
  },
  {
   "cell_type": "code",
   "execution_count": null,
   "id": "6156882d-6e76-4255-829b-7bc8d1d91a4a",
   "metadata": {},
   "outputs": [],
   "source": [
    "theta = [];\n",
    "num_projections = 721\n",
    "angular_step = 360 / num_projections\n",
    "\n",
    "# Compute the intial X-ray image (zeroth angle) and add it to the list of projections\n",
    "xray_image = np.array(gvxr.computeXRayImage()).astype(np.single)\n",
    "\n",
    "# Flat-field correction\n",
    "xray_image /= gvxr.getTotalEnergyWithDetectorResponse()\n",
    "\n",
    "imwrite('output_data/pump_scan/03-Pump_0.tiff',xray_image)\n",
    "\n",
    "projections = []\n",
    "\n",
    "# Update the 3D visualisation\n",
    "gvxr.displayScene();\n",
    "theta.append(0.0);\n",
    "for i in range(1, num_projections):\n",
    "\n",
    "    #    Rotate the model by angular_step degrees\n",
    "    gvxr.rotateNode(\"root\", -1 * angular_step, 0,0,1);\n",
    "\n",
    "    # Compute an X-ray image and add it to the list of projections\n",
    "    xray_image = np.array(gvxr.computeXRayImage()).astype(np.single)\n",
    "    \n",
    "    # Flat-field correction\n",
    "    xray_image /= gvxr.getTotalEnergyWithDetectorResponse()\n",
    "    projections.append(xray_image)\n",
    "\n",
    "    # Update the 3D visualisation\n",
    "    gvxr.displayScene();\n",
    "\n",
    "    imwrite(f'output_data/pump_scan/03-Pump_{i}.tiff',xray_image)\n",
    "    theta.append(i * angular_step * math.pi / 180);"
   ]
  },
  {
   "cell_type": "code",
   "execution_count": null,
   "id": "3d42903b-5656-4259-827f-0dda9cb69d9d",
   "metadata": {},
   "outputs": [],
   "source": [
    "file = open(\"GVXR_angles.txt\", \"w\")\n",
    "file.write(f\"angles = {theta} \\n\")\n",
    "file.close()"
   ]
  },
  {
   "cell_type": "code",
   "execution_count": null,
   "id": "2d57e9fc-32cd-43b3-917b-07a5b11370b5",
   "metadata": {},
   "outputs": [],
   "source": [
    "gvxr.terminate()"
   ]
  }
 ],
 "metadata": {
  "kernelspec": {
   "display_name": "Python 3 (ipykernel)",
   "language": "python",
   "name": "python3"
  },
  "language_info": {
   "codemirror_mode": {
    "name": "ipython",
    "version": 3
   },
   "file_extension": ".py",
   "mimetype": "text/x-python",
   "name": "python",
   "nbconvert_exporter": "python",
   "pygments_lexer": "ipython3",
   "version": "3.10.5"
  }
 },
 "nbformat": 4,
 "nbformat_minor": 5
}
