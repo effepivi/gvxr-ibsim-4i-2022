{
 "cells": [
  {
   "cell_type": "code",
   "execution_count": 1,
   "metadata": {
    "slideshow": {
     "slide_type": "skip"
    },
    "tags": []
   },
   "outputs": [],
   "source": [
    "%matplotlib widget"
   ]
  },
  {
   "cell_type": "markdown",
   "metadata": {
    "slideshow": {
     "slide_type": "slide"
    },
    "tags": []
   },
   "source": [
    "# Session 2\n",
    "\n",
    "## First X-ray radiograph simulations with ![gVXR](img/gvxr_logo.png)\n",
    "\n",
    "## Author: Franck Vidal\n",
    "\n",
    "(version 1.0, 22 Sep 2022)"
   ]
  },
  {
   "cell_type": "markdown",
   "metadata": {},
   "source": [
    "# Aims of this session\n",
    "\n",
    "- Create our first X-ray simulation, step-by-step;\n",
    "- Save our X-ray image in a file format that preserves the original dynamic range;\n",
    "- Visualise the results with 3 different look-up tables;\n",
    "- Visualise the 3D environment.\n",
    "\n",
    "![](img/02-visualisation.png)"
   ]
  },
  {
   "cell_type": "markdown",
   "metadata": {
    "slideshow": {
     "slide_type": "slide"
    },
    "tags": []
   },
   "source": [
    "# Main steps\n",
    "\n",
    "![](img/dragon2.jpg)"
   ]
  },
  {
   "cell_type": "markdown",
   "metadata": {
    "slideshow": {
     "slide_type": "subslide"
    },
    "tags": []
   },
   "source": [
    "There are 6 main steps to simulate an X-ray image:\n",
    "\n",
    "1. Create a renderer (OpenGL context)\n",
    "2. Set the X-ray source\n",
    "3. Set the Spectrum\n",
    "4. Set the Detector\n",
    "5. Set the Sample\n",
    "6. Compute the corresponding X-ray image."
   ]
  },
  {
   "cell_type": "markdown",
   "metadata": {
    "slideshow": {
     "slide_type": "slide"
    },
    "tags": []
   },
   "source": [
    "## Import packages\n",
    "\n",
    "This is essentially just boilerplate code to set everything up for the session. We don't need to know the exact details at this stage so for now we can safely run this cell and move on. However, for the curious the comments explain what the various packages are for.  "
   ]
  },
  {
   "cell_type": "code",
   "execution_count": 3,
   "metadata": {},
   "outputs": [
    {
     "name": "stdout",
     "output_type": "stream",
     "text": [
      "Speckpy is not install, you won't be able to load a beam spectrum using Speckpy\n",
      "SimpleGVXR 2.0.2 (2022-09-23T13:26:05) [Compiler: GNU g++] on Linux\n",
      "gVirtualXRay core library (gvxr) 2.0.2 (2022-09-23T13:26:05) [Compiler: GNU g++] on Linux\n"
     ]
    }
   ],
   "source": [
    "import os\n",
    "import numpy as np # Who does not use Numpy?\n",
    "\n",
    "import matplotlib # To plot images\n",
    "import matplotlib.pyplot as plt # Plotting\n",
    "from matplotlib.colors import LogNorm # Look up table\n",
    "from matplotlib.colors import PowerNorm # Look up table\n",
    "\n",
    "font = {'family' : 'serif',\n",
    "         'size'   : 10\n",
    "       }\n",
    "matplotlib.rc('font', **font)\n",
    "\n",
    "# Uncomment the line below to use LaTeX fonts\n",
    "# matplotlib.rc('text', usetex=True)\n",
    "\n",
    "from tifffile import imread, imwrite # Write TIFF files\n",
    "\n",
    "import base64 # Save the visualisation\n",
    "\n",
    "from gvxrPython3 import gvxr # Simulate X-ray images\n",
    "from gvxrPython3.utils import saveProjections # Plot the X-ray image in linear, log and power law scales\n",
    "from gvxrPython3.utils import compareWithGroundTruth # Plot the ground truth, the test image, and the relative error map in %\n",
    "from gvxrPython3.utils import interactPlotPowerLaw # Plot the X-ray image using a Power law look-up table\n",
    "from gvxrPython3.utils import visualise # Visualise the 3D environment if k3D is supported"
   ]
  },
  {
   "cell_type": "markdown",
   "metadata": {
    "slideshow": {
     "slide_type": "slide"
    },
    "tags": []
   },
   "source": [
    "## Create an OpenGL context\n",
    "\n",
    "Our first real step is to create what is known as an OpenGl context. This can be thought of a digital blank canvas onto which we will place our objects (Detector, Sample, X-ray source etc). Depending on your Operating system GVXR supports 2 different types of OpenGl contexts (backends), \"OPENGL\" and \"EGL\".\n",
    "\n",
    "- \"OPENGL\" Creates an interactive window (available on Linux, MacOS, and Windows) for use on Laptop/desktop computers.\n",
    "- \"EGL\" Creates a context without a window (available on Linux and MacOS, but not Windows) for use on supercomputers or the cloud.\n",
    "\n",
    "For this tutorial we will stick with \"OPENGL\""
   ]
  },
  {
   "cell_type": "code",
   "execution_count": 4,
   "metadata": {
    "slideshow": {
     "slide_type": "subslide"
    },
    "tags": []
   },
   "outputs": [
    {
     "name": "stdout",
     "output_type": "stream",
     "text": [
      "Create an OpenGL context\n"
     ]
    },
    {
     "name": "stderr",
     "output_type": "stream",
     "text": [
      "Wed Sep 28 16:54:00 2022 ---- Create window (ID: 0)\n",
      "Wed Sep 28 16:54:00 2022 ---- Initialise GLFW\n",
      "Wed Sep 28 16:54:00 2022 ---- Create an OpenGL window with a 4.5 context.\n",
      "Wed Sep 28 16:54:01 2022 ---- Make the window's context current\n",
      "Wed Sep 28 16:54:01 2022 ---- Initialise GLEW\n",
      "Wed Sep 28 16:54:01 2022 ---- OpenGL vendor: Intel\n",
      "Wed Sep 28 16:54:01 2022 ---- OpenGL renderer: Mesa Intel(R) UHD Graphics 620 (KBL GT2)\n",
      "Wed Sep 28 16:54:01 2022 ---- OpenGL version: 4.6 (Core Profile) Mesa 21.2.6\n",
      "Wed Sep 28 16:54:01 2022 ---- Use OpenGL 4.5.\n",
      "Wed Sep 28 16:54:01 2022 ---- Initialise the X-ray renderer if needed and if possible\n"
     ]
    }
   ],
   "source": [
    "print(\"Create an OpenGL context\")\n",
    "\n",
    "window_id = 0\n",
    "opengl_major_version = 4\n",
    "opengl_minor_version = 5\n",
    "\n",
    "gvxr.createOpenGLContext(window_id, opengl_major_version, opengl_minor_version);\n",
    "\n",
    "backend = \"OPENGL\"\n",
    "visible = True\n",
    "\n",
    "# gvxr.createWindow(window_id, visible, backend, opengl_major_version, opengl_minor_version);\n",
    "\n",
    "visible = False\n",
    "# gvxr.createWindow(window_id, visible, backend, opengl_major_version, opengl_minor_version);\n",
    "\n",
    "backend = \"EGL\"\n",
    "# visible has no effect with EGL\n",
    "# gvxr.createWindow(window_id, visible, backend, opengl_major_version, opengl_minor_version);"
   ]
  },
  {
   "cell_type": "markdown",
   "metadata": {
    "slideshow": {
     "slide_type": "slide"
    },
    "tags": []
   },
   "source": [
    "## Setting up the X-ray source\n",
    "\n",
    "Next we need to set the position of the X-ray source. For this we use the `gvxr.setSourcePosition(x,y,z,units)` function. it takes in 4 values. The x,y and z coordinates as 3 floating point (decimal) values and a string (literal letters or numbers surrounded by quotes) to denote the units (\"mm\",\"cm\",\"m\" etc ...).\n",
    "\n",
    "In the next code cell set the X-ray Source to be at position x = 0.0 cm, y = -40.0 cm and z = 0.0 cm."
   ]
  },
  {
   "cell_type": "code",
   "execution_count": null,
   "metadata": {},
   "outputs": [],
   "source": []
  },
  {
   "cell_type": "markdown",
   "metadata": {
    "slideshow": {
     "slide_type": "subslide"
    },
    "tags": []
   },
   "source": [
    "We also need to define a beam shape. GVXR allows for two choices\n",
    "- Cone beam: `gvxr.usePointSource()`\n",
    "- Parallel beam (e.g. synchrotron): `gvxr.useParallelBeam()`\n",
    "\n",
    "For now in the next cell set the beam shape to be a cone beam."
   ]
  },
  {
   "cell_type": "code",
   "execution_count": null,
   "metadata": {},
   "outputs": [],
   "source": []
  },
  {
   "cell_type": "markdown",
   "metadata": {
    "slideshow": {
     "slide_type": "slide"
    },
    "tags": []
   },
   "source": [
    "Finally we need to set the beam spectrum. Out of the box GVXR supports Monochromatic and PolyChromatic sources. You can also use other external packages (e.g. Spekpy) to generate more realistic/complex spectra. This will be covered in a later session. For now we will stick with a simple Monochromatic source. This can be set with the function `gvxr.setMonoChromatic(energy,unit_of_energy,number_of_photons)`. This takes in three values a float for the beam energy. A string to denote the energy units (can be any of \"eV\", \"keV\" or \"MeV\" take care with capitalisation) and an integer (whole number) for the number of photons.\n",
    "\n",
    " In the next cell use the setMonoChromatic function to define a monochromatic X-ray source of energy 0.08 MeV (i.e. 80 keV) with 1000 photons per ray."
   ]
  },
  {
   "cell_type": "code",
   "execution_count": null,
   "metadata": {},
   "outputs": [],
   "source": []
  },
  {
   "cell_type": "markdown",
   "metadata": {
    "slideshow": {
     "slide_type": "slide"
    },
    "tags": []
   },
   "source": [
    "## Setting up the detector:\n",
    "\n",
    "In GVXR the X-ray detector is defined as a 2D plane of evenly spaced pixels. Thus we need to specify 4 things:\n",
    "\n",
    "- The resolution (number of pixels in x and y)\n",
    "- The Pixel spacing (this defines the physical size of the detector)\n",
    "- The position of the top left corner\n",
    "- It's orientation in 3D space\n",
    "\n",
    "The resolution is set with `gvxr.setDetectorNumberOfPixels(Px,Py)` where Px and Py are integers defining the number of pixels in x and y respectively. Note: this is also the resolution of the final output image.\n",
    "\n",
    "The pixel spacing is set with `gvxr.setDetectorPixelSize(width,height,units)` where width and height are floating point numbers defining the physical distance between pixels and units is once again a string to denote the units (\"mm\",\"cm\",\"m\" etc ...). Note: The Pixel spacing and resolution together define the physical size of the detector. For example a detector with with 600 pixels in x and 300 in y with a spacing of 0.1 mm in both directions would have a physical size of 60 mm by 30 mm.\n",
    "\n",
    "The position of the X-ray detector is taken from the top-left corner, which is just a convention in computer graphics. It is defined in much the same way as for the X-ray source. Only we use the `gvxr.setDetectorPosition(x,y,z,units)` function. Much like the source case this function takes in 4 values. The x,y and z coordinates as 3 floating point values and a string to denote the units (\"mm\",\"cm\",\"m\" etc ...).\n",
    "\n",
    "Finally since the detector is just a 2D plane we also need to set its orientation in 3D space. To do this we need to use `gvxr.setDetectorUpVector(ix,jy,kz)`. Here, the three inputs ix, jy and kz represent a unit vector, the direction of which points along the Y-axis of our detector. Note: By convention we generally define this to point along an axis in 3D space. \n",
    "\n",
    "With all this in mind. In the next cell set the top left corner of the detector to be at `x = 0.0 cm`, `y = 10.0 cm` and `z = 0.0 cm`. Also set the detector resolution to 640 by 320 pixels, spaced 0.5 mm apart in both x and y. Finally, set the Y-axis of the detector along the unit vector `(0,0,-1)`. That is pointing along the negative Z-axis."
   ]
  },
  {
   "cell_type": "code",
   "execution_count": null,
   "metadata": {},
   "outputs": [],
   "source": []
  },
  {
   "cell_type": "markdown",
   "metadata": {
    "slideshow": {
     "slide_type": "slide"
    },
    "tags": []
   },
   "source": [
    "# Set the sample\n",
    "\n",
    "- Welsh dragon in a STL file:\n",
    "    - ID: \"Dragon\",\n",
    "    - fname: \"input_data/welsh-dragon-small.stl\",\n",
    "    - Unit: mm.\n",
    "    \n",
    "```python\n",
    "gvxr.loadMeshFile(\n",
    "    ID, # string\n",
    "    fname, # string\n",
    "    unit of length # string, e.g. \"mm\"\n",
    ")\n",
    "```    "
   ]
  },
  {
   "cell_type": "code",
   "execution_count": 6,
   "metadata": {},
   "outputs": [
    {
     "name": "stderr",
     "output_type": "stream",
     "text": [
      "Wed Sep 28 16:57:44 2022 ---- file_name:\tinput_data/welsh-dragon-small.stl\tnb_faces:\t457345\tnb_vertices:\t1372035\tbounding_box (in cm):\t(-4.47065, -74.9368, 23.5909)\t(2.37482, -59.4256, 36.0343)\n"
     ]
    }
   ],
   "source": []
  },
  {
   "cell_type": "markdown",
   "metadata": {
    "slideshow": {
     "slide_type": "subslide"
    },
    "tags": []
   },
   "source": [
    "- Rotate the sample by 90 degrees around the axis (0, 0, 1)\n",
    "    - ID: \"Dragon\",\n",
    "    - angle: 90 degrees\n",
    "    - x: 0,\n",
    "    - y: 0, \n",
    "    - z: 1.\n",
    "   \n",
    "```python\n",
    "gvxr.rotateNode(\n",
    "    ID, # string\n",
    "    90, # float\n",
    "    0, # float\n",
    "    0, # float\n",
    "    1 # float\n",
    ")\n",
    "```"
   ]
  },
  {
   "cell_type": "code",
   "execution_count": null,
   "metadata": {},
   "outputs": [],
   "source": []
  },
  {
   "cell_type": "markdown",
   "metadata": {},
   "source": [
    "# Move the sample to the centre of the world\n",
    "\n",
    "No ID is provided in case the sample is made of several components.\n",
    "\n",
    "```python\n",
    "gvxr.moveToCentre()\n",
    "```    \n",
    "\n",
    "or\n",
    "\n",
    "```python\n",
    "gvxr.moveToCenter()\n",
    "```    \n",
    "\n",
    "or if you prefer the American spelling"
   ]
  },
  {
   "cell_type": "code",
   "execution_count": null,
   "metadata": {},
   "outputs": [],
   "source": []
  },
  {
   "cell_type": "markdown",
   "metadata": {
    "slideshow": {
     "slide_type": "subslide"
    },
    "tags": []
   },
   "source": [
    "# Set Material of the sample:\n",
    "\n",
    "We will cover this in more detail in the next section but for now we will keep things simple and set the sample to be made from a single element. \n",
    "\n",
    "- For a chemical element such as iron, you can use the name, atomic (Z) number or symbol:\n",
    "    - `gvxr.setElement(ID, \"Iron\")`\n",
    "    - `gvxr.setElement(ID, 26)`, or\n",
    "    - `gvxr.setElement(ID, \"Fe\")`\n",
    "\n",
    "For now set the dragon model to be made entirly from Titanium (Hint: the Z number is 22)."
   ]
  },
  {
   "cell_type": "code",
   "execution_count": 10,
   "metadata": {},
   "outputs": [],
   "source": []
  },
  {
   "cell_type": "markdown",
   "metadata": {
    "slideshow": {
     "slide_type": "subslide"
    },
    "tags": []
   },
   "source": [
    "# Compute the corresponding X-ray image\n",
    "\n",
    "Get a 2D array\n",
    "\n",
    "```python\n",
    "xray_image = gvxr.computeXRayImage()\n",
    "```\n",
    "\n",
    "or make sure it's a Numpy array in float32 with\n",
    "\n",
    "```python\n",
    "xray_image = np.array(gvxr.computeXRayImage()).astype(np.single)\n",
    "```"
   ]
  },
  {
   "cell_type": "code",
   "execution_count": null,
   "metadata": {},
   "outputs": [],
   "source": []
  },
  {
   "cell_type": "markdown",
   "metadata": {},
   "source": [
    "# Update the visualisation window\n",
    "\n",
    "To update the geometry and render a static view you can use:\n",
    "- gvxr.displayScene()\n",
    "\n",
    "or if you would like an interactive view where you can pan, rotate, zoom ect you can use:\n",
    "- gvxr.renderLoop()\n",
    "\n",
    "**Note: thease functions only work for \"OPENGL\" and have no effect when using \"EGL\" on supercomputers or the cloud, as there is no window to render to. They will however, work on a desktop or laptop computer.**\n",
    "\n",
    "When running in an interactive loop you can rotate the 3D scene and zoom-in with the mouse buttons and scroll wheel.\n",
    "\n",
    "Useful Keys are:\n",
    "- Q/Escape: to quit the event loop\\n'\n",
    "- B: display/hide the X-ray beam\\n'\n",
    "- W: display the polygon meshes in solid or wireframe\\n'\n",
    "- N: display the X-ray image in negative or positive\\n'\n",
    "- H: display/hide the X-ray detector\n",
    "        "
   ]
  },
  {
   "cell_type": "code",
   "execution_count": null,
   "metadata": {},
   "outputs": [],
   "source": [
    "gvxr.displayScene()"
   ]
  },
  {
   "cell_type": "markdown",
   "metadata": {},
   "source": [
    "# Create the output directory if needed"
   ]
  },
  {
   "cell_type": "code",
   "execution_count": null,
   "metadata": {},
   "outputs": [],
   "source": [
    "if not os.path.exists(\"output_data\"):\n",
    "    os.mkdir(\"output_data\")"
   ]
  },
  {
   "cell_type": "markdown",
   "metadata": {},
   "source": [
    "# Save the X-ray image in a TIFF file\n",
    "\n",
    "This stores the data using single-precision floating-point numbers. You can do this using gVXR directly with:\n",
    "\n",
    "```python\n",
    "gvxr.saveLastXRayImage(\n",
    "    filename # string\n",
    ")\n",
    "```\n",
    "Or you can use the the tifffile package\n",
    "```python\n",
    "from tifffile import imwrite\n",
    "imwrite(\n",
    "    filename, # string\n",
    "    xray_image # 2D array\n",
    ")\n",
    "```\n",
    "For now save the X-ray as a tiff stack with the filename 'output_data/02-gvxr-save.tif'"
   ]
  },
  {
   "cell_type": "code",
   "execution_count": null,
   "metadata": {},
   "outputs": [],
   "source": []
  },
  {
   "cell_type": "markdown",
   "metadata": {},
   "source": [
    "# Display the X-ray image"
   ]
  },
  {
   "cell_type": "markdown",
   "metadata": {},
   "source": [
    "### using a linear colour scale"
   ]
  },
  {
   "cell_type": "code",
   "execution_count": null,
   "metadata": {},
   "outputs": [],
   "source": [
    "plt.figure(figsize=(10, 5))\n",
    "plt.title(\"Image simulated using gVirtualXray\\nusing a linear colour scale\")\n",
    "plt.imshow(xray_image, cmap=\"gray\")\n",
    "plt.colorbar(orientation='vertical');\n",
    "plt.margins(0,0)"
   ]
  },
  {
   "cell_type": "markdown",
   "metadata": {},
   "source": [
    "### using a logarithmic colour scale"
   ]
  },
  {
   "cell_type": "code",
   "execution_count": null,
   "metadata": {},
   "outputs": [],
   "source": [
    "plt.figure(figsize=(10, 5))\n",
    "plt.title(\"Image simulated using gVirtualXray\\nusing a logarithmic colour scale\")\n",
    "plt.imshow(xray_image, cmap=\"gray\", norm=LogNorm(vmin=xray_image.min(), vmax=xray_image.max()))\n",
    "plt.colorbar(orientation='vertical');\n",
    "plt.margins(0,0)"
   ]
  },
  {
   "cell_type": "markdown",
   "metadata": {},
   "source": [
    "### Using a Power-law colour scale"
   ]
  },
  {
   "cell_type": "code",
   "execution_count": null,
   "metadata": {},
   "outputs": [],
   "source": [
    "interactPlotPowerLaw(xray_image, gamma=1.5, figsize=(10, 5))"
   ]
  },
  {
   "cell_type": "markdown",
   "metadata": {},
   "source": [
    "# Display the X-ray image and compare three different lookup tables\n",
    "\n",
    "Replace `???` below with the value of gamma that you selected above."
   ]
  },
  {
   "cell_type": "code",
   "execution_count": null,
   "metadata": {},
   "outputs": [],
   "source": [
    "saveProjections(xray_image, \"output_data/02-projections-dragon-TiAlV.pdf\", gamma=???, figsize=(12.5, 5))"
   ]
  },
  {
   "cell_type": "markdown",
   "metadata": {},
   "source": [
    "# Get some image statistics using Numpy\n",
    "\n",
    "and compare with the values I got. We should get the same, or at least something comparable.\n",
    "\n",
    "| What? | Value (in keV) |\n",
    "|-------|-------|\n",
    "| Min pixel value: | 0.0056294748 |\n",
    "| Mean pixel value: | 56.367035 |\n",
    "| Median pixel value: | 80.0 |\n",
    "| Stddev pixel value: | 33.96409 |\n",
    "| Max pixel value: | 80.0 |"
   ]
  },
  {
   "cell_type": "code",
   "execution_count": null,
   "metadata": {},
   "outputs": [],
   "source": [
    "print(\"Min pixel value:\", np.min(xray_image))\n",
    "print(\"Mean pixel value:\", np.mean(xray_image))\n",
    "print(\"Median pixel value:\", np.median(xray_image))\n",
    "print(\"Stddev pixel value:\", np.std(xray_image))\n",
    "print(\"Max pixel value:\", np.max(xray_image))"
   ]
  },
  {
   "cell_type": "markdown",
   "metadata": {},
   "source": [
    "# Compare with the ground truth"
   ]
  },
  {
   "cell_type": "code",
   "execution_count": null,
   "metadata": {},
   "outputs": [],
   "source": [
    "ground_truth = imread(\"input_data/02-dragon-TiAlV-groundtruth.tif\")\n",
    "compareWithGroundTruth(ground_truth, xray_image, figsize=(12.5, 5))"
   ]
  },
  {
   "cell_type": "markdown",
   "metadata": {},
   "source": [
    "# Change the sample's colour\n",
    "\n",
    "By default the object is white, which is not always pretty. Let's change it to purple."
   ]
  },
  {
   "cell_type": "code",
   "execution_count": null,
   "metadata": {},
   "outputs": [],
   "source": [
    "red = 102 / 255\n",
    "green = 51 / 255\n",
    "blue = 153 / 255\n",
    "gvxr.setColour(\"Dragon\", red, green, blue, 1.0)"
   ]
  },
  {
   "cell_type": "markdown",
   "metadata": {},
   "source": [
    "# 3D visualisation using k3D if possible"
   ]
  },
  {
   "cell_type": "code",
   "execution_count": null,
   "metadata": {},
   "outputs": [],
   "source": [
    "plot=visualise(use_log=True)\n",
    "plot.display()"
   ]
  },
  {
   "cell_type": "code",
   "execution_count": null,
   "metadata": {},
   "outputs": [],
   "source": [
    "if plot is not None:\n",
    "    plot.fetch_screenshot()\n",
    "\n",
    "    data = base64.b64decode(plot.screenshot)\n",
    "    with open(\"output_data/02-visualisation.png\",'wb') as fp:\n",
    "        fp.write(data)"
   ]
  },
  {
   "cell_type": "markdown",
   "metadata": {},
   "source": [
    "# Change the background colour to white\n",
    "\n",
    "This image can be used in a research paper to illustrate the simulation environment."
   ]
  },
  {
   "cell_type": "code",
   "execution_count": null,
   "metadata": {},
   "outputs": [],
   "source": [
    "gvxr.setWindowBackGroundColour(1.0, 1.0, 1.0)"
   ]
  },
  {
   "cell_type": "markdown",
   "metadata": {},
   "source": [
    "# Update the visualisation window"
   ]
  },
  {
   "cell_type": "code",
   "execution_count": null,
   "metadata": {},
   "outputs": [],
   "source": [
    "gvxr.displayScene()"
   ]
  },
  {
   "cell_type": "markdown",
   "metadata": {},
   "source": [
    "# Take the screenshot and save it in a file"
   ]
  },
  {
   "cell_type": "code",
   "execution_count": null,
   "metadata": {},
   "outputs": [],
   "source": [
    "screenshot = gvxr.takeScreenshot()\n",
    "plt.imsave(\"output_data/02-screenshot.png\", np.array(screenshot))"
   ]
  },
  {
   "cell_type": "markdown",
   "metadata": {},
   "source": [
    "# or display it using Matplotlib"
   ]
  },
  {
   "cell_type": "code",
   "execution_count": null,
   "metadata": {},
   "outputs": [],
   "source": [
    "plt.figure(figsize=(10, 10))\n",
    "plt.imshow(screenshot)\n",
    "plt.title(\"Screenshot of the X-ray simulation environment\")\n",
    "plt.axis('off');"
   ]
  },
  {
   "cell_type": "markdown",
   "metadata": {},
   "source": [
    "# Interactive visualisation\n",
    "\n",
    "The user can rotate the 3D scene and zoom-in and -out in the visualisation window.\n",
    "\n",
    "- Keys are:\n",
    "    - Q/Escape: to quit the event loop (does not close the window)\n",
    "    - B: display/hide the X-ray beam\n",
    "    - W: display the polygon meshes in solid or wireframe\n",
    "    - N: display the X-ray image in negative or positive\n",
    "    - H: display/hide the X-ray detector\n",
    "- Mouse interactions:\n",
    "    - Zoom in/out: mouse wheel\n",
    "    - Rotation: Right mouse button down + move cursor\n",
    "    \n",
    "**Note: this function has no effect on supercomputers and on the cloud, but will work on a desktop or laptop computer.**"
   ]
  },
  {
   "cell_type": "code",
   "execution_count": null,
   "metadata": {},
   "outputs": [],
   "source": [
    "gvxr.renderLoop()"
   ]
  },
  {
   "cell_type": "markdown",
   "metadata": {},
   "source": [
    "# All done"
   ]
  },
  {
   "cell_type": "code",
   "execution_count": null,
   "metadata": {},
   "outputs": [],
   "source": [
    "gvxr.terminate()"
   ]
  }
 ],
 "metadata": {
  "kernelspec": {
   "display_name": "Python 3.10.4 ('gvxr-ibsim')",
   "language": "python",
   "name": "python3"
  },
  "language_info": {
   "codemirror_mode": {
    "name": "ipython",
    "version": 3
   },
   "file_extension": ".py",
   "mimetype": "text/x-python",
   "name": "python",
   "nbconvert_exporter": "python",
   "pygments_lexer": "ipython3",
   "version": "3.10.4"
  },
  "vscode": {
   "interpreter": {
    "hash": "585e9fc9b818a92a95ff682530f87f6de2c4282b8239c594bde282f49476a8c7"
   }
  }
 },
 "nbformat": 4,
 "nbformat_minor": 4
}
