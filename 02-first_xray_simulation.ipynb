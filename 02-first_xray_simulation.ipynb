{
 "cells": [
  {
   "cell_type": "code",
   "execution_count": null,
   "metadata": {
    "slideshow": {
     "slide_type": "skip"
    },
    "tags": []
   },
   "outputs": [],
   "source": [
    "%matplotlib widget"
   ]
  },
  {
   "cell_type": "markdown",
   "metadata": {
    "slideshow": {
     "slide_type": "slide"
    },
    "tags": []
   },
   "source": [
    "# Session 0\n",
    "\n",
    "## First X-ray radiograph simulations with ![gVXR](https://gvirtualxray.fpvidal.net/assets/img/Logo.png)\n",
    "\n",
    "## Author: Franck Vidal\n",
    "\n",
    "(version 1.0, 22 Sep 2022)"
   ]
  },
  {
   "cell_type": "markdown",
   "metadata": {
    "slideshow": {
     "slide_type": "slide"
    },
    "tags": []
   },
   "source": [
    "# Main steps\n",
    "\n",
    "![](img/dragon2.jpg)"
   ]
  },
  {
   "cell_type": "markdown",
   "metadata": {
    "slideshow": {
     "slide_type": "subslide"
    },
    "tags": []
   },
   "source": [
    "There are 6 main steps to simulate an X-ray image:\n",
    "\n",
    "1. Create a renderer (OpenGL context);\n",
    "2. Set the X-ray source;\n",
    "3. Set the Spectrum;\n",
    "4. Set the Detector;\n",
    "5. Set the Sample; and\n",
    "6. Compute the corresponding X-ray image."
   ]
  },
  {
   "cell_type": "markdown",
   "metadata": {
    "slideshow": {
     "slide_type": "slide"
    },
    "tags": []
   },
   "source": [
    "# Import packages"
   ]
  },
  {
   "cell_type": "code",
   "execution_count": null,
   "metadata": {},
   "outputs": [],
   "source": [
    "import os\n",
    "import numpy as np # Who does not use Numpy?\n",
    "\n",
    "import matplotlib # To plot images\n",
    "import matplotlib.pyplot as plt # Plotting\n",
    "\n",
    "font = {'family' : 'serif',\n",
    "         'size'   : 15\n",
    "       }\n",
    "matplotlib.rc('font', **font)\n",
    "\n",
    "# Uncomment the line below to use LaTeX fonts\n",
    "# matplotlib.rc('text', usetex=True)\n",
    "\n",
    "from tifffile import imread, imwrite # Write TIFF files\n",
    "\n",
    "from gvxrPython3 import gvxr # Simulate X-ray images\n",
    "from gvxrPython3.utils import saveProjections # Plot the X-ray image in linear, log and power law scales\n",
    "from gvxrPython3.utils import compareWithGroundTruth # Plot the ground truth, the test image, and the relative error map in %"
   ]
  },
  {
   "cell_type": "markdown",
   "metadata": {
    "slideshow": {
     "slide_type": "slide"
    },
    "tags": []
   },
   "source": [
    "# Create an OpenGL context\n",
    "\n",
    "- Create an interactive window (available on Linux, MacOS, and Windows)\n",
    "- Create a context without a window using EGL (available on Linux and MacOS, but not Windows)\n",
    "    - use on desktop computers,\n",
    "    - supercomputers, or \n",
    "    - the cloud."
   ]
  },
  {
   "cell_type": "markdown",
   "metadata": {
    "slideshow": {
     "slide_type": "subslide"
    },
    "tags": []
   },
   "source": [
    "```cpp\n",
    "//------------------------------------------------------------------------------\n",
    "/// Create an OpenGL context (the window won't be shown).\n",
    "/**\n",
    " *  @param aWindowID:   the numerical ID of the context to create\n",
    " *                      (default value: -1, means that the ID will be\n",
    " *                      automatically generated)\n",
    " *  @param aRendererMajorVersion: Select the major version of the renderer.\n",
    " *                    (default value: 3)\n",
    " *  @param aRendererMajorVersion: Select the minor version of the renderer.\n",
    " *                    (default value: 2)\n",
    " */\n",
    "//------------------------------------------------------------------------------\n",
    "void createOpenGLContext(int aWindowID = -1,\n",
    "\t\tint aRendererMajorVersion = 3,\n",
    "\t\tint aRendererMinorVersion = 2);\n",
    "```"
   ]
  },
  {
   "cell_type": "markdown",
   "metadata": {
    "slideshow": {
     "slide_type": "subslide"
    },
    "tags": []
   },
   "source": [
    "```cpp\n",
    "//------------------------------------------------------------------------------\n",
    "/// Create an OpenGL context and display it in a window\n",
    "/**\n",
    " *  @param aWindowID:   the numerical ID of the context to create\n",
    " *                      (default value: -1, means that the ID will be\n",
    " *                      automatically generated)\n",
    " *  @param aRenderer: Select the renderer to use, e.g. OpenGL or Vulkan.\n",
    " *                    (default value: OPENGL)\n",
    " *  @param aRendererMajorVersion: Select the major version of the renderer.\n",
    " *                    (default value: 3)\n",
    " *  @param aRendererMajorVersion: Select the minor version of the renderer.\n",
    " *                    (default value: 2)\n",
    " *  @param aVisibilityFlag: flag controling if the window should be visible (1)\n",
    " *                          or hidden (0). (default value: 0)\n",
    " */\n",
    "//------------------------------------------------------------------------------\n",
    "#ifndef __APPLE__\n",
    "void createWindow(int aWindowID = -1,\n",
    "\t\tint aVisibilityFlag = 0,\n",
    "\t\tconst std::string& aRenderer = \"OPENGL\",\n",
    "\t\tint aRendererMajorVersion = 3,\n",
    "\t\tint aRendererMinorVersion = 2);\n",
    "#else // __APPLE__\n",
    "void createWindow(int aWindowID = -1,\n",
    "\t\tint aVisibilityFlag = 0,\n",
    "\t\tconst std::string& aRenderer = \"OPENGL\",\n",
    "\t\tint aRendererMajorVersion = 2,\n",
    "\t\tint aRendererMinorVersion = 1);\n",
    "#endif // __APPLE__\n",
    "```"
   ]
  },
  {
   "cell_type": "code",
   "execution_count": null,
   "metadata": {
    "slideshow": {
     "slide_type": "subslide"
    },
    "tags": []
   },
   "outputs": [],
   "source": [
    "print(\"Create an OpenGL context\")\n",
    "\n",
    "window_id = 0\n",
    "opengl_major_version = 4\n",
    "opengl_minor_version = 5\n",
    "\n",
    "gvxr.createOpenGLContext(window_id, opengl_major_version, opengl_minor_version);\n",
    "\n",
    "backend = \"OPENGL\"\n",
    "visible = True\n",
    "\n",
    "# gvxr.createWindow(window_id, visible, backend, opengl_major_version, opengl_minor_version);\n",
    "\n",
    "visible = False\n",
    "# gvxr.createWindow(window_id, visible, backend, opengl_major_version, opengl_minor_version);\n",
    "\n",
    "backend = \"EGL\"\n",
    "# visible has no effect with EGL\n",
    "# gvxr.createWindow(window_id, visible, backend, opengl_major_version, opengl_minor_version);"
   ]
  },
  {
   "cell_type": "markdown",
   "metadata": {
    "slideshow": {
     "slide_type": "slide"
    },
    "tags": []
   },
   "source": [
    "# Set the X-ray source\n",
    "\n",
    "- Position\n",
    "    - x: -40.0 cm,\n",
    "    - y: 0.0 cm,\n",
    "    - z: 0.0 cm.\n",
    "    \n",
    "```python\n",
    "gvxr.setSourcePosition(\n",
    "    x, # float\n",
    "    x, # float\n",
    "    z, # float\n",
    "    unit of length # string, e.g. \"cm\"\n",
    ")\n",
    "```"
   ]
  },
  {
   "cell_type": "code",
   "execution_count": null,
   "metadata": {},
   "outputs": [],
   "source": []
  },
  {
   "cell_type": "markdown",
   "metadata": {
    "slideshow": {
     "slide_type": "subslide"
    },
    "tags": []
   },
   "source": [
    "- Shape:\n",
    "    - Cone beam: `gvxr.usePointSource()`, or\n",
    "    - Parallel (e.g. synchrotron): `gvxr.useParallelBeam();`"
   ]
  },
  {
   "cell_type": "code",
   "execution_count": null,
   "metadata": {},
   "outputs": [],
   "source": []
  },
  {
   "cell_type": "markdown",
   "metadata": {
    "slideshow": {
     "slide_type": "slide"
    },
    "tags": []
   },
   "source": [
    "# Set the spectrum\n",
    "\n",
    "- monochromatic (0.08 MeV, i.e. 80 keV),\n",
    "- 1000 photons per ray.\n",
    "\n",
    "```python\n",
    "gvxr.setMonoChromatic(\n",
    "    energy, # float\n",
    "    unit_of_energy, # string, e.g. \"MeV\"\n",
    "    number of photons # float\n",
    ")\n",
    "```"
   ]
  },
  {
   "cell_type": "code",
   "execution_count": null,
   "metadata": {},
   "outputs": [],
   "source": []
  },
  {
   "cell_type": "markdown",
   "metadata": {
    "slideshow": {
     "slide_type": "slide"
    },
    "tags": []
   },
   "source": [
    "# Set the detector:\n",
    "\n",
    "\n",
    "- Position\n",
    "    - x: 10.0 cm,\n",
    "    - y: 0.0 cm,\n",
    "    - z: 0.0 cm.\n",
    "    \n",
    "```python\n",
    "gvxr.setDetectorPosition(\n",
    "    x, # float\n",
    "    x, # float\n",
    "    z, # float\n",
    "    unit of length # string, e.g. \"cm\"\n",
    ")\n",
    "```"
   ]
  },
  {
   "cell_type": "code",
   "execution_count": null,
   "metadata": {},
   "outputs": [],
   "source": []
  },
  {
   "cell_type": "markdown",
   "metadata": {
    "slideshow": {
     "slide_type": "subslide"
    },
    "tags": []
   },
   "source": [
    "- Orientation: (unit vector)\n",
    "    - x: 0.0,\n",
    "    - y: 0.0,\n",
    "    - z: -1.0.\n",
    "    \n",
    "```python\n",
    "gvxr.setDetectorUpVector(\n",
    "    x, # float\n",
    "    x, # float\n",
    "    z # float\n",
    ")\n",
    "```"
   ]
  },
  {
   "cell_type": "code",
   "execution_count": null,
   "metadata": {},
   "outputs": [],
   "source": []
  },
  {
   "cell_type": "markdown",
   "metadata": {
    "slideshow": {
     "slide_type": "subslide"
    },
    "tags": []
   },
   "source": [
    "- Resolution:\n",
    "    - width: 640 pixels,\n",
    "    - height: 320 pixels.\n",
    "\n",
    "```python\n",
    "gvxr.setDetectorNumberOfPixels(\n",
    "    width, # unsigned int\n",
    "    height # unsigned int\n",
    ")\n",
    "```    "
   ]
  },
  {
   "cell_type": "code",
   "execution_count": null,
   "metadata": {},
   "outputs": [],
   "source": []
  },
  {
   "cell_type": "markdown",
   "metadata": {},
   "source": [
    "- Pixel spacing:\n",
    "    - width: 0.5 mm,\n",
    "    - height: 0.5 mm.\n",
    "\n",
    "```python\n",
    "gvxr.setDetectorPixelSize(\n",
    "    width, # float\n",
    "    height # float\n",
    "    unit of length # string, e.g. \"mm\"\n",
    ")\n",
    "```    "
   ]
  },
  {
   "cell_type": "code",
   "execution_count": null,
   "metadata": {},
   "outputs": [],
   "source": []
  },
  {
   "cell_type": "markdown",
   "metadata": {
    "slideshow": {
     "slide_type": "slide"
    },
    "tags": []
   },
   "source": [
    "# Set the sample\n",
    "\n",
    "- Welsh dragon in a STL file:\n",
    "    - ID: \"Dragon\",\n",
    "    - fname: \"input_data/welsh-dragon-small.stl\",\n",
    "    - Unit: mm.\n",
    "    \n",
    "```python\n",
    "gvxr.loadMeshFile(\n",
    "    ID, # string\n",
    "    fname, # string\n",
    "    unit of length # string, e.g. \"mm\"\n",
    ")\n",
    "```    "
   ]
  },
  {
   "cell_type": "code",
   "execution_count": null,
   "metadata": {},
   "outputs": [],
   "source": []
  },
  {
   "cell_type": "markdown",
   "metadata": {
    "slideshow": {
     "slide_type": "subslide"
    },
    "tags": []
   },
   "source": [
    "- Move the sample to the centre of the world:\n",
    "    - ID: \"Dragon\",\n",
    "\n",
    "```python\n",
    "gvxr.moveToCentre(\n",
    "    ID # string\n",
    ")\n",
    "```    \n",
    "\n",
    "or\n",
    "\n",
    "```python\n",
    "gvxr.moveToCenter(\n",
    "    ID # string\n",
    ")\n",
    "```    \n",
    "\n",
    "or if you prefer the American spelling"
   ]
  },
  {
   "cell_type": "code",
   "execution_count": null,
   "metadata": {},
   "outputs": [],
   "source": []
  },
  {
   "cell_type": "markdown",
   "metadata": {
    "slideshow": {
     "slide_type": "subslide"
    },
    "tags": []
   },
   "source": [
    "- Material of the sample (ID = \"Dragon\"):\n",
    "    - For a chemical element such as iron, you can use the Z number or symbol:\n",
    "        - `gvxr.setElement(\"Dragon\", 26)`, or\n",
    "        - `gvxr.setElement(\"Dragon\", \"Fe\")`\n",
    "    - For a compound such as water, do not forget to specify the density:\n",
    "        - `gvxr.setCompound(\"Dragon\", \"H2O\")`\n",
    "        - `gvxr.setDensity(\"Dragon\", 1.0, \"g/cm3\")`\n",
    "        - `gvxr.setDensity(\"Dragon\", 1.0, \"g.cm-3\")`\n",
    "    - For a mixture such as Titanium-Aluminum-Vanadium alloy, do not forget to specify the density:\n",
    "        - `gvxr.setMixture(\"Dragon\", \"Ti90Al6V4\")`\n",
    "        - `gvxr.setMixture(\"Dragon\", [22, 13, 23], [0.9, 0.06, 0.04])`\n",
    "        - `gvxr.setMixture(\"Dragon\", [\"Ti\", \"Al\", \"V\"], [0.9, 0.06, 0.04]) # Not yet implemented`\n",
    "        - `gvxr.setDensity(\"Dragon\", 4.43, \"g/cm3\")`\n",
    "        - `gvxr.setDensity(\"Dragon\", 4.43, \"g.cm-3\")`\n",
    "      \n",
    "**In this example, we'll use Ti90Al6V4.**"
   ]
  },
  {
   "cell_type": "code",
   "execution_count": null,
   "metadata": {},
   "outputs": [],
   "source": []
  },
  {
   "cell_type": "markdown",
   "metadata": {
    "slideshow": {
     "slide_type": "subslide"
    },
    "tags": []
   },
   "source": [
    "# Compute the corresponding X-ray image\n",
    "\n",
    "Get a 2D array\n",
    "\n",
    "```python\n",
    "xray_image = gvxr.computeXRayImage()\n",
    "```\n",
    "\n",
    "or make sure it's a Numpy array in float32 with\n",
    "\n",
    "```python\n",
    "xray_image = np.array(gvxr.computeXRayImage()).astype(np.single)\n",
    "```"
   ]
  },
  {
   "cell_type": "code",
   "execution_count": null,
   "metadata": {},
   "outputs": [],
   "source": []
  },
  {
   "cell_type": "markdown",
   "metadata": {},
   "source": [
    "# Create the output directory if needed"
   ]
  },
  {
   "cell_type": "code",
   "execution_count": null,
   "metadata": {},
   "outputs": [],
   "source": [
    "if not os.path.exists(\"output_data\"):\n",
    "    os.mkdir(\"output_data\")"
   ]
  },
  {
   "cell_type": "markdown",
   "metadata": {},
   "source": [
    "# Save the X-ray image in a TIFF file and store the data using single-precision floating-point numbers.\n",
    "\n",
    "- using gVXR directly\n",
    "    - fname = output_data/02-gvxr-save.tif\n",
    "\n",
    "```python\n",
    "gvxr.saveLastXRayImage(\n",
    "    fname # string\n",
    ")\n",
    "```"
   ]
  },
  {
   "cell_type": "code",
   "execution_count": null,
   "metadata": {},
   "outputs": [],
   "source": []
  },
  {
   "cell_type": "markdown",
   "metadata": {},
   "source": [
    "- using the tifffile package\n",
    "    - fname = output_data/02-tifffile-save.tif\n",
    "\n",
    "```python\n",
    "from tifffile import imwrite\n",
    "imwrite(\n",
    "    fname, # string\n",
    "    xray_image # 2D array\n",
    ")\n",
    "```"
   ]
  },
  {
   "cell_type": "code",
   "execution_count": null,
   "metadata": {},
   "outputs": [],
   "source": []
  },
  {
   "cell_type": "markdown",
   "metadata": {},
   "source": [
    "# Display the X-ray image"
   ]
  },
  {
   "cell_type": "markdown",
   "metadata": {},
   "source": [
    "# using a linear colour scale"
   ]
  },
  {
   "cell_type": "code",
   "execution_count": null,
   "metadata": {},
   "outputs": [],
   "source": [
    "plt.figure(figsize=(10, 5))\n",
    "plt.title(\"Image simulated using gVirtualXray\\nusing a linear colour scale\")\n",
    "plt.imshow(xray_image, cmap=\"gray\")\n",
    "plt.colorbar(orientation='vertical');\n",
    "plt.show()"
   ]
  },
  {
   "cell_type": "markdown",
   "metadata": {},
   "source": [
    "# using a logarithmic colour scale"
   ]
  },
  {
   "cell_type": "code",
   "execution_count": null,
   "metadata": {},
   "outputs": [],
   "source": [
    "plt.figure(figsize=(10, 5))\n",
    "plt.title(\"Image simulated using gVirtualXray\\nusing a logarithmic colour scale\")\n",
    "plt.imshow(xray_image, cmap=\"gray\", norm=LogNorm(vmin=xray_image.min(), vmax=xray_image.max()))\n",
    "plt.colorbar(orientation='vertical');\n",
    "plt.show()"
   ]
  },
  {
   "cell_type": "markdown",
   "metadata": {},
   "source": [
    "# using a Power-law colour scale ($\\gamma$=0.5)"
   ]
  },
  {
   "cell_type": "code",
   "execution_count": null,
   "metadata": {},
   "outputs": [],
   "source": [
    "plt.figure(figsize=(10, 5))\n",
    "plt.title(\"Image simulated using gVirtualXray\\nusing a Power-law colour scale ($\\gamma=0.5$)\")\n",
    "plt.imshow(xray_image, cmap=\"gray\", norm=PowerNorm(gamma=1./2.))\n",
    "plt.colorbar(orientation='vertical');\n",
    "plt.show()"
   ]
  },
  {
   "cell_type": "markdown",
   "metadata": {},
   "source": [
    "# Display the X-ray image and compare three different lookup tables"
   ]
  },
  {
   "cell_type": "code",
   "execution_count": null,
   "metadata": {},
   "outputs": [],
   "source": [
    "saveProjections(\"output_data/02-projections-dragon-TiAlV.pdf\", xray_image)"
   ]
  },
  {
   "cell_type": "markdown",
   "metadata": {},
   "source": [
    "# Get some image statistics using Numpy\n",
    "\n",
    "and compare with the values I got. We should get the same, or at least something comparable.\n",
    "\n",
    "| What? | Value (in keV) |\n",
    "|-------|-------|\n",
    "| Min pixel value: | 0.0056294748 |\n",
    "| Mean pixel value: | 56.367035 |\n",
    "| Median pixel value: | 80.0 |\n",
    "| Stddev pixel value: | 33.96409 |\n",
    "| Max pixel value: | 80.0 |"
   ]
  },
  {
   "cell_type": "code",
   "execution_count": null,
   "metadata": {},
   "outputs": [],
   "source": [
    "print(\"Min pixel value:\", np.min(xray_image))\n",
    "print(\"Mean pixel value:\", np.mean(xray_image))\n",
    "print(\"Median pixel value:\", np.median(xray_image))\n",
    "print(\"Stddev pixel value:\", np.std(xray_image))\n",
    "print(\"Max pixel value:\", np.max(xray_image))"
   ]
  },
  {
   "cell_type": "markdown",
   "metadata": {},
   "source": [
    "# Compare with the ground truth"
   ]
  },
  {
   "cell_type": "code",
   "execution_count": null,
   "metadata": {},
   "outputs": [],
   "source": [
    "ground_truth = imread(\"input_data/02-dragon-TiAlV-groundtruth.tif\")\n",
    "compareWithGroundTruth(ground_truth, xray_image)"
   ]
  },
  {
   "cell_type": "markdown",
   "metadata": {},
   "source": [
    "# Update the visualisation window"
   ]
  },
  {
   "cell_type": "code",
   "execution_count": null,
   "metadata": {},
   "outputs": [],
   "source": [
    "gvxr.displayScene()"
   ]
  },
  {
   "cell_type": "markdown",
   "metadata": {},
   "source": [
    "# Change the sample's colour\n",
    "\n",
    "By default the object is white, which is not always pretty. Let's change it to purple."
   ]
  },
  {
   "cell_type": "code",
   "execution_count": null,
   "metadata": {},
   "outputs": [],
   "source": [
    "red = 102 / 255\n",
    "green = 51 / 255\n",
    "blue = 153 / 255\n",
    "gvxr.setColour(\"Dragon\", red, green, blue, 1.0)"
   ]
  },
  {
   "cell_type": "markdown",
   "metadata": {},
   "source": [
    "# This image can be used in a research paper to illustrate the simulation environment, in which case you may want to change the background colour to white with:"
   ]
  },
  {
   "cell_type": "code",
   "execution_count": null,
   "metadata": {},
   "outputs": [],
   "source": [
    "gvxr.setWindowBackGroundColour(1.0, 1.0, 1.0)"
   ]
  },
  {
   "cell_type": "markdown",
   "metadata": {},
   "source": [
    "# Update the visualisation window"
   ]
  },
  {
   "cell_type": "code",
   "execution_count": null,
   "metadata": {},
   "outputs": [],
   "source": [
    "gvxr.displayScene()"
   ]
  },
  {
   "cell_type": "markdown",
   "metadata": {},
   "source": [
    "# Take the screenshot and save it in a file"
   ]
  },
  {
   "cell_type": "code",
   "execution_count": null,
   "metadata": {},
   "outputs": [],
   "source": [
    "screenshot = gvxr.takeScreenshot()\n",
    "plt.imsave(\"output_data/02-screenshot.png\", np.array(screenshot))"
   ]
  },
  {
   "cell_type": "markdown",
   "metadata": {},
   "source": [
    "# or display it using Matplotlib"
   ]
  },
  {
   "cell_type": "code",
   "execution_count": null,
   "metadata": {},
   "outputs": [],
   "source": [
    "plt.figure(figsize=(10, 10))\n",
    "plt.imshow(screenshot)\n",
    "plt.title(\"Screenshot of the X-ray simulation environment\")\n",
    "plt.axis('off');"
   ]
  },
  {
   "cell_type": "markdown",
   "metadata": {},
   "source": [
    "# Interactive visualisation\n",
    "\n",
    "The user can rotate the 3D scene and zoom-in and -out in the visualisation window.\n",
    "\n",
    "- Keys are:\n",
    "    - Q/Escape: to quit the event loop (does not close the window)\n",
    "    - B: display/hide the X-ray beam\n",
    "    - W: display the polygon meshes in solid or wireframe\n",
    "    - N: display the X-ray image in negative or positive\n",
    "    - H: display/hide the X-ray detector\n",
    "- Mouse interactions:\n",
    "    - Zoom in/out: mouse wheel\n",
    "    - Rotation: Right mouse button down + move cursor\n",
    "    \n",
    "**Note: this function has no effect on supercomputers and on the cloud, but will work on a desktop or laptop computer.**"
   ]
  },
  {
   "cell_type": "code",
   "execution_count": null,
   "metadata": {},
   "outputs": [],
   "source": [
    "gvxr.renderLoop()"
   ]
  },
  {
   "cell_type": "markdown",
   "metadata": {},
   "source": [
    "# All done"
   ]
  },
  {
   "cell_type": "code",
   "execution_count": null,
   "metadata": {},
   "outputs": [],
   "source": [
    "gvxr.terminate()"
   ]
  }
 ],
 "metadata": {
  "kernelspec": {
   "display_name": "Python 3 (ipykernel)",
   "language": "python",
   "name": "python3"
  },
  "language_info": {
   "codemirror_mode": {
    "name": "ipython",
    "version": 3
   },
   "file_extension": ".py",
   "mimetype": "text/x-python",
   "name": "python",
   "nbconvert_exporter": "python",
   "pygments_lexer": "ipython3",
   "version": "3.10.5"
  }
 },
 "nbformat": 4,
 "nbformat_minor": 4
}
