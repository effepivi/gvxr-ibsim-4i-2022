{
 "cells": [
  {
   "cell_type": "markdown",
   "metadata": {},
   "source": [
    "# Session 4: CT Acquisition"
   ]
  },
  {
   "cell_type": "markdown",
   "metadata": {},
   "source": [
    "## Aims of this Session\n",
    "- Learn how to perform a simulated CT Acquisition\n",
    "- Use reconstructed data to see how simulation paramaters affect quality\n",
    "- Discover the effects of polychromatic beams on results\n",
    "- Compare simulated samples to real data"
   ]
  },
  {
   "cell_type": "code",
   "execution_count": null,
   "metadata": {},
   "outputs": [],
   "source": [
    "import k3d\n",
    "from gvxrPython3 import gvxr\n",
    "from gvxrPython3.utils import visualise"
   ]
  },
  {
   "cell_type": "markdown",
   "metadata": {},
   "source": [
    "# Performing a CT Acquisiton\n",
    "CT scanners are able to create 3D slices through an object by using multiple X-ray images (also known as projections, or radiographs) taken at various angles around a sample. The full details and terminology of how this reconstruction method works will be covered in tomorrow's training with CIL, for now we will treat it as a black-box function. The quality of projections directly impact the details in the final result, in this session we will take a look at what can effect our scan. *Some of the impacts on getting good scans are not obvious!*"
   ]
  },
  {
   "cell_type": "markdown",
   "metadata": {},
   "source": [
    "## Two Case Studies\n",
    "\n",
    "To better demonstrate what is going on, we will show two examples based on real-world use cases.\n",
    "\n",
    "One use case is using an aluminium plate in a standard industrial/Lab CT machine, where we want results to measure hole diameters cut into the plate.\n",
    "\n",
    "The second case study is looking at a parallel synchrotron beam to scan titanium fibers, and seeing how non-obvious beam properties can have a large impact on results."
   ]
  },
  {
   "cell_type": "markdown",
   "metadata": {},
   "source": [
    "---\n",
    "\n",
    "# Aluminium Plate Case Study\n",
    "\n",
    "In This case study you will learn:\n",
    "- How to simulate a CT scan with gvxr using python\n",
    "- How detector properties affect result quality\n",
    "- How to automate this simulation process with json2gvxr"
   ]
  },
  {
   "cell_type": "markdown",
   "metadata": {},
   "source": [
    "The aluminium plate phantom is a 50mmx50mm plate with cylindrical holes cut into the surface. The holes are in a total of _ different sizes and do not cut through the entire plate. We would like to measure the diameters of these holes using a lab CT machine, but first we want to know if results are possible in the best-case scenario, hence using simulations."
   ]
  },
  {
   "cell_type": "code",
   "execution_count": null,
   "metadata": {},
   "outputs": [],
   "source": [
    "# Load stl and display\n",
    "plot = k3d.plot()\n",
    "with open(\"input_data/phantoms/doga-plate.stl\", \"rb\") as model:\n",
    "    plot += k3d.stl(model.read(),color=0xfdea4f)\n",
    "plot.display()"
   ]
  },
  {
   "cell_type": "markdown",
   "metadata": {},
   "source": [
    "## Task 1: Setup\n",
    "\n",
    "With your new-found knowledge of gvxr, setup the experiment environment as follows:\n",
    "\n",
    "1. Fixed detector 1m away from the source with a size of 150mmx48mm with a pixel stride of 70um\n",
    "2. The detector's lsf has been measured and stored in `input_data/lsf.npy`, display and apply it to the detector\n",
    "3. A tungsten tube source with the current power at 10keV\n",
    "4. The plate model `input_data/phantoms/doga-plate.stl` is in mm and should be made from aluminium, lying face-up and in focus."
   ]
  },
  {
   "cell_type": "code",
   "execution_count": null,
   "metadata": {},
   "outputs": [],
   "source": [
    "# GVXR Init\n",
    "gvxr.createWindow(-1,True,\"OPENGL\")"
   ]
  },
  {
   "cell_type": "code",
   "execution_count": null,
   "metadata": {},
   "outputs": [],
   "source": [
    "\n",
    "# Detector\n",
    "gvxr.setDetectorPosition(0, 0.2, 0, \"m\")\n",
    "gvxr.setDetectorNumberOfPixels(2140, 960)\n",
    "gvxr.setDetectorPixelSize(120,120,\"um\")\n",
    "gvxr.setDetectorUpVector(0, 0, 1)\n",
    "# gvxr.setLSF()\n",
    "\n",
    "# Source\n",
    "gvxr.setSourcePosition(0,-0.8,0,\"m\")\n",
    "gvxr.usePointSource()\n",
    "# gvxr.setFocalSpot(0,0,20,0.02,\"mm\",3)\n",
    "gvxr.addEnergyBinToSpectrum(10, \"keV\", 100)\n",
    "\n",
    "# Plate\n",
    "gvxr.removePolygonMeshesFromSceneGraph()\n",
    "gvxr.loadMeshFile(\"plate\",\"./input_data/phantoms/doga-plate.stl\",\"mm\")\n",
    "gvxr.setElement(\"plate\",\"Al\")\n",
    "gvxr.setDensity(\"plate\",2.7,\"g/cm3\")\n",
    "gvxr.displayScene()"
   ]
  },
  {
   "cell_type": "code",
   "execution_count": null,
   "metadata": {},
   "outputs": [],
   "source": [
    "# Preview the environment;\n",
    "visualise()"
   ]
  },
  {
   "cell_type": "markdown",
   "metadata": {},
   "source": [
    "Now that the scene is setup, we'll take a look into reproducing a virtual scan of the plate, by taking x-ray images and rotating the sample."
   ]
  },
  {
   "cell_type": "code",
   "execution_count": null,
   "metadata": {},
   "outputs": [],
   "source": []
  },
  {
   "cell_type": "markdown",
   "metadata": {},
   "source": [
    "---\n",
    "\n",
    "# Titanium Fibre Case Study\n",
    "\n",
    "In this case study you will learn:\n",
    "- An easy way to compare real results with simulated results\n",
    "- Show how 'almost' pure sources will change real results\n",
    "- Learn how noise also effects results, and how to simulate it with gvxr"
   ]
  },
  {
   "cell_type": "markdown",
   "metadata": {},
   "source": [
    "---\n",
    "\n",
    "## Extension Task: Scanning your own model\n",
    "\n",
    "Now that you've gotten used to using gvxr in different ways, select a model from input_data and perform a virtual scan.\n",
    "\n",
    "Feel free to pick the simplest, or most complex multi-material models.\n",
    "Multi-material models are guarenteed to provide more challenging results, and can be fun to play around with material composition."
   ]
  },
  {
   "cell_type": "code",
   "execution_count": null,
   "metadata": {},
   "outputs": [],
   "source": []
  }
 ],
 "metadata": {
  "kernelspec": {
   "display_name": "Python 3.10.5 64-bit ('gvxr-ibsim-4i-2022')",
   "language": "python",
   "name": "python3"
  },
  "language_info": {
   "codemirror_mode": {
    "name": "ipython",
    "version": 3
   },
   "file_extension": ".py",
   "mimetype": "text/x-python",
   "name": "python",
   "nbconvert_exporter": "python",
   "pygments_lexer": "ipython3",
   "version": "3.10.5"
  },
  "orig_nbformat": 4,
  "vscode": {
   "interpreter": {
    "hash": "7cb52200ce58d0990af40dfb29272ed58ebf24dc16709b96f71cbdb887d325ae"
   }
  }
 },
 "nbformat": 4,
 "nbformat_minor": 2
}
