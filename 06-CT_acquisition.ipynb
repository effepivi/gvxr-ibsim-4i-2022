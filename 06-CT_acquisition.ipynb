{
 "cells": [
  {
   "cell_type": "markdown",
   "metadata": {},
   "source": [
    "# Session 4: CT Acquisition"
   ]
  },
  {
   "cell_type": "markdown",
   "metadata": {},
   "source": [
    "## Aims of this Session\n",
    "- Learn how to perform a simulated CT Acquisition\n",
    "- Use reconstructed data to see how simulation paramaters affect quality\n",
    "- Discover the effects of polychromatic beams on results\n",
    "- Compare simulated samples to real data"
   ]
  },
  {
   "cell_type": "markdown",
   "metadata": {},
   "source": [
    "# Performing a CT Acquisiton\n",
    "CT scanners are able to create 3D slices through an object by using multiple X-ray images (also known as projections, or radiographs) taken at various angles around a sample. The full details and terminology of how this reconstruction method works will be covered in tomorrow's training with CIL, for now we will treat it as a black-box function. The quality of projections directly impact the details in the final result, in this session we will take a look at what can effect our scan. *Some of the impacts on getting good scans are not obvious!*"
   ]
  },
  {
   "cell_type": "markdown",
   "metadata": {},
   "source": [
    "## Two Case Studies\n",
    "\n",
    "To better demonstrate what is going on, we will show two examples based on real-world use cases.\n",
    "\n",
    "One use case is using an aluminium plate in a standard industrial/Lab CT machine, where we want results to measure hole diameters cut into the plate.\n",
    "\n",
    "The second case study is looking at a parallel synchrotron beam to scan titanium fibers, and seeing how non-obvious beam properties can have a large impact on results."
   ]
  },
  {
   "cell_type": "markdown",
   "metadata": {},
   "source": [
    "---\n",
    "\n",
    "# Doga Plate Case Study\n",
    "\n",
    "In This case study you will learn:\n",
    "- How to simulate a CT scan with gvxr using python\n",
    "- How detector properties affect result quality\n",
    "- How to automate this simulation process with json2gvxr"
   ]
  },
  {
   "cell_type": "markdown",
   "metadata": {},
   "source": []
  },
  {
   "cell_type": "markdown",
   "metadata": {},
   "source": [
    "---\n",
    "\n",
    "# Titanium Fibre Case Study\n",
    "\n",
    "In this case study you will learn:\n",
    "- An easy way to compare real results with simulated results\n",
    "- Show how 'almost' pure sources will change real results\n",
    "- Learn how noise also effects results, and how to simulate it with gvxr"
   ]
  },
  {
   "cell_type": "markdown",
   "metadata": {},
   "source": [
    "---\n",
    "\n",
    "## Extension Task: Scanning your own model\n",
    "\n",
    "Now that you've gotten used to using gvxr in different ways, select a model from input_data and perform a virtual scan.\n",
    "\n",
    "Feel free to pick the simplest, or most complex multi-material models.\n",
    "Multi-material models are guarenteed to provide more challenging results, and can be fun to play around with material composition."
   ]
  },
  {
   "cell_type": "code",
   "execution_count": null,
   "metadata": {},
   "outputs": [],
   "source": []
  }
 ],
 "metadata": {
  "kernelspec": {
   "display_name": "Python 3.9.13 64-bit ('gvxr-ibsim')",
   "language": "python",
   "name": "python3"
  },
  "language_info": {
   "name": "python",
   "version": "3.9.13"
  },
  "orig_nbformat": 4,
  "vscode": {
   "interpreter": {
    "hash": "843ea80654b1ee4129d8bd7048f1fed851de47b7d318c186f1cc66efd5240e93"
   }
  }
 },
 "nbformat": 4,
 "nbformat_minor": 2
}
