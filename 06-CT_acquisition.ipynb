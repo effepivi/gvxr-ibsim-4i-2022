{
 "cells": [
  {
   "cell_type": "markdown",
   "metadata": {},
   "source": [
    "# Session 4: CT Acquisition"
   ]
  },
  {
   "cell_type": "markdown",
   "metadata": {},
   "source": [
    "## Aims of this Session\n",
    "- Learn how to perform a simulated CT Acquisition\n",
    "- Use reconstructed data to see how simulation paramaters affect quality\n",
    "- Discover the effects of polychromatic beams on results\n",
    "- Compare simulated samples to real data"
   ]
  },
  {
   "cell_type": "code",
   "execution_count": null,
   "metadata": {},
   "outputs": [],
   "source": [
    "import k3d\n",
    "from gvxrPython3 import gvxr\n",
    "from gvxrPython3.utils import visualise\n",
    "import numpy as np\n",
    "import matplotlib.pyplot as plt\n",
    "from utilities import recon_parallel, recon_widget, recon_cone\n",
    "import cil\n",
    "import ipywidgets as widgets"
   ]
  },
  {
   "cell_type": "markdown",
   "metadata": {},
   "source": [
    "# Performing a CT Acquisiton\n",
    "CT scanners are able to create 3D slices through an object by using multiple X-ray images (also known as projections, or radiographs) taken at various angles around a sample. The full details and terminology of how this reconstruction method works will be covered in tomorrow's training with CIL, for now we will treat it as a black-box function. The quality of projections directly impact the details in the final result, in this session we will take a look at what can effect our scan. *Some of the impacts on getting good scans are not obvious!*"
   ]
  },
  {
   "cell_type": "markdown",
   "metadata": {},
   "source": [
    "## Two Case Studies\n",
    "\n",
    "To better demonstrate what is going on, we will show two examples based on real-world use cases.\n",
    "\n",
    "One use case is using an aluminium plate in a standard industrial/Lab CT machine, where we want results to measure hole diameters cut into the plate.\n",
    "\n",
    "The second case study is looking at a parallel synchrotron beam to scan titanium fibers, and seeing how non-obvious beam properties can have a large impact on results."
   ]
  },
  {
   "cell_type": "markdown",
   "metadata": {},
   "source": [
    "---\n",
    "\n",
    "# Aluminium Plate Case Study\n",
    "\n",
    "In This case study you will learn:\n",
    "- How to simulate a CT scan with gvxr using python\n",
    "- How detector properties affect result quality"
   ]
  },
  {
   "cell_type": "markdown",
   "metadata": {},
   "source": [
    "The aluminium plate phantom is a 50mmx50mm plate with cylindrical holes cut into the surface. The holes are in a total of 5 different sizes and do not cut through the entire plate. We would like to measure the diameters of these holes using a lab CT machine, but first we want to know if results are possible in the best-case scenario, hence using simulations."
   ]
  },
  {
   "cell_type": "code",
   "execution_count": null,
   "metadata": {},
   "outputs": [],
   "source": [
    "# Load stl and display\n",
    "plot = k3d.plot()\n",
    "with open(\"input_data/phantoms/doga-plate.stl\", \"rb\") as model:\n",
    "    plot += k3d.stl(model.read(),color=0xfdea4f)\n",
    "plot.display()"
   ]
  },
  {
   "cell_type": "markdown",
   "metadata": {},
   "source": [
    "## Task 1: Setup\n",
    "\n",
    "With your new-found knowledge of gvxr, setup the experiment environment as follows:\n",
    "\n",
    "1. Fixed detector 1m away from the source with a size of 216mmx36mm with a pixel pitch of 240um\n",
    "2. The detector's lsf has been measured and stored in `input_data/lsf.npy`, display and apply it to the detector\n",
    "3. A tungsten tube source with the power at 10keV\n",
    "4. The plate model `input_data/phantoms/doga-plate.stl` is in mm and should be made from aluminium, lying face-up and in focus."
   ]
  },
  {
   "cell_type": "markdown",
   "metadata": {},
   "source": [
    "Notes for compatability with CIL:\n",
    "- Ensure the detector's up vector is `[0, 0, 1]`\n",
    "- The source position is `positive y`\n",
    "- The detector position is `negative y`\n",
    "- We will rotate around the `[0, 0, 1]` axis"
   ]
  },
  {
   "cell_type": "code",
   "execution_count": null,
   "metadata": {},
   "outputs": [],
   "source": [
    "# GVXR Init\n",
    "gvxr.createWindow(-1,True,\"OPENGL\")"
   ]
  },
  {
   "cell_type": "code",
   "execution_count": null,
   "metadata": {},
   "outputs": [],
   "source": [
    "# Detector\n",
    "gvxr.setDetectorPosition(0, -0.2, 0, \"m\")\n",
    "gvxr.setDetectorNumberOfPixels(1216, 200)\n",
    "gvxr.setDetectorPixelSize(180, 180, \"um\")\n",
    "gvxr.setDetectorUpVector(0, 0, 1)\n",
    "# gvxr.setLSF()\n",
    "\n",
    "# Source\n",
    "gvxr.setSourcePosition(0,0.8,0,\"m\")\n",
    "gvxr.usePointSource()\n",
    "# gvxr.setFocalSpot(0,0,20,0.02,\"mm\",3)\n",
    "gvxr.addEnergyBinToSpectrum(10, \"keV\", 1)\n",
    "\n",
    "# Plate\n",
    "gvxr.removePolygonMeshesFromSceneGraph()\n",
    "gvxr.loadMeshFile(\"plate\",\"./input_data/phantoms/doga-plate.stl\",\"mm\")\n",
    "gvxr.setElement(\"plate\",\"Al\")\n",
    "gvxr.setDensity(\"plate\",2.7,\"g/cm3\")\n",
    "gvxr.displayScene()"
   ]
  },
  {
   "cell_type": "code",
   "execution_count": null,
   "metadata": {},
   "outputs": [],
   "source": [
    "# Preview the environment\n",
    "gvxr.displayScene()\n",
    "plt.imshow(gvxr.takeScreenshot())\n",
    "visualise()"
   ]
  },
  {
   "cell_type": "markdown",
   "metadata": {},
   "source": [
    "## Task 2: Scanning\n",
    "Now that the scene is setup, we'll take a look into reproducing a virtual scan of the plate, by taking x-ray images and rotating the sample with `gvxr.rotateScene()`\n",
    "\n",
    "Complete the code snippets below by replacing ??? with the correct code. At the end, you'll have completed your own CT acquisition, which we'll use for reconstruction"
   ]
  },
  {
   "cell_type": "code",
   "execution_count": null,
   "metadata": {},
   "outputs": [],
   "source": [
    "# Define the number of projections, along with the angle step\n",
    "total_projections = 100\n",
    "final_angle = 180\n",
    "angle_step = final_angle / total_projections"
   ]
  },
  {
   "cell_type": "code",
   "execution_count": null,
   "metadata": {},
   "outputs": [],
   "source": [
    "# Pre-create our results array with the size of our detector\n",
    "projections = np.ndarray((total_projections, 200, 1216))\n",
    "\n",
    "# Rotate our object by angle_step for every projection, and save it to the\n",
    "# results array.\n",
    "for i in range(0, total_projections):\n",
    "    # Save current angular projection\n",
    "    projections[i] = gvxr.computeXRayImage()\n",
    "    # Rotate models\n",
    "    gvxr.rotateScene(angle_step,0,0,1)"
   ]
  },
  {
   "cell_type": "code",
   "execution_count": null,
   "metadata": {},
   "outputs": [],
   "source": [
    "# Don't forget, we need to use flatfield normalisation on the radiographs to get the correct attenuation values!\n",
    "# Because our flatfield and darkfield are perfect, all we need to do is divide by the total energy\n",
    "projections /= gvxr.getTotalEnergyWithDetectorResponse()"
   ]
  },
  {
   "cell_type": "markdown",
   "metadata": {},
   "source": [
    "We have now taken a full radial scan of our target object. Using these projections we can reconstruct our data into tomographical slices, and see if it's possible to measure the size of our plate's cicles.\n",
    "\n",
    "There are two provided methods: `reconstruct_parallel` and `reconstruct_cone`. A more in-depth look into CIL will be in tomorrow's training. For now, treat these functions as blackboxes."
   ]
  },
  {
   "cell_type": "code",
   "execution_count": null,
   "metadata": {},
   "outputs": [],
   "source": [
    "# Reconstruct the simulated projections with CIL.\n",
    "recon = recon_cone(projections, 180/1000, final_angle,gvxr.getSourcePosition(\"mm\"), gvxr.getDetectorPosition(\"mm\"))\n",
    "assert recon is not None"
   ]
  },
  {
   "cell_type": "code",
   "execution_count": null,
   "metadata": {},
   "outputs": [],
   "source": [
    "# Interactive simple data display\n",
    "display(recon_widget(projections, recon))"
   ]
  },
  {
   "cell_type": "markdown",
   "metadata": {},
   "source": [
    "## Task 3: Tweaking\n",
    "🎉 Congratulations, you've done a virtual CT scan!\n",
    "\n",
    "Now take a look at your results and see how well you did!\n",
    "\n",
    "With our new CT setup, we can explore what our lab scanner can do. Take a go at the little questions below and see if you can answer them!\n",
    "\n",
    "1. Does your plate clip the edge of your scanner?\n",
    "    - How can you fix this without changing the detector's size?\n",
    "2. Are the holes visible in the reconstruction?\n",
    "    - Try changing the color range to increase the contrast.\n",
    "    - Does changing the source power make your results better?\n",
    "3. What other values can you change to get a higher quality scan with the lab setup?\n",
    "    - Do more projections help?\n",
    "    - What can't you change with this lab setup that will help the CT scan?\n",
    "4. In your opinion, would this experiment be feasable on the lab setup at all?"
   ]
  },
  {
   "cell_type": "markdown",
   "metadata": {},
   "source": [
    "---\n",
    "\n",
    "# Titanium Fibre Case Study\n",
    "\n",
    "In this case study you will learn:\n",
    "- How to automate this simulation process with json2gvxr\n",
    "- An easy way to compare real results with simulated results\n",
    "- Show how 'almost' pure sources will change real results"
   ]
  },
  {
   "cell_type": "markdown",
   "metadata": {},
   "source": [
    "---\n",
    "\n",
    "## Extension Task: Scanning your own model\n",
    "\n",
    "Now that you've gotten used to using gvxr in different ways, select a model from input_data and perform a virtual scan.\n",
    "\n",
    "Feel free to pick the simplest, or most complex multi-material models.\n",
    "Multi-material models are guarenteed to provide more challenging results, and can be fun to play around with material composition."
   ]
  },
  {
   "cell_type": "code",
   "execution_count": null,
   "metadata": {},
   "outputs": [],
   "source": []
  }
 ],
 "metadata": {
  "kernelspec": {
   "display_name": "Python 3.10.5 64-bit ('gvxr-ibsim-4i-2022')",
   "language": "python",
   "name": "python3"
  },
  "language_info": {
   "codemirror_mode": {
    "name": "ipython",
    "version": 3
   },
   "file_extension": ".py",
   "mimetype": "text/x-python",
   "name": "python",
   "nbconvert_exporter": "python",
   "pygments_lexer": "ipython3",
   "version": "3.10.6"
  },
  "orig_nbformat": 4,
  "vscode": {
   "interpreter": {
    "hash": "7cb52200ce58d0990af40dfb29272ed58ebf24dc16709b96f71cbdb887d325ae"
   }
  }
 },
 "nbformat": 4,
 "nbformat_minor": 2
}
