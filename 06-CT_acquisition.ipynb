{
 "cells": [
  {
   "cell_type": "markdown",
   "metadata": {},
   "source": [
    "# Session 4: CT Acquisition"
   ]
  },
  {
   "cell_type": "markdown",
   "metadata": {},
   "source": [
    "## Aims of this Session\n",
    "- Learn how to perform a simulated CT Acquisition\n",
    "- Use reconstructed data to see how simulation paramaters affect quality\n",
    "- Discover the effects of polychromatic beams on results\n",
    "- Compare simulated samples to real data"
   ]
  },
  {
   "cell_type": "code",
   "execution_count": null,
   "metadata": {},
   "outputs": [],
   "source": [
    "import k3d\n",
    "from gvxrPython3 import gvxr\n",
    "from gvxrPython3.utils import visualise\n",
    "import numpy as np\n",
    "import matplotlib.pyplot as plt\n",
    "from utilities import recon_parallel, recon_widget, recon_cone\n",
    "import cil\n",
    "import ipywidgets as widgets"
   ]
  },
  {
   "cell_type": "markdown",
   "metadata": {},
   "source": [
    "# Performing a CT Acquisiton\n",
    "CT scanners are able to create 3D slices through an object by using multiple X-ray images (also known as projections, or radiographs) taken at various angles around a sample. The full details and terminology of how this reconstruction method works will be covered in tomorrow's training with CIL, for now we will treat it as a black-box function. The quality of projections directly impact the details in the final result, in this session we will take a look at what can effect our scan. *Some of the impacts on getting good scans are not obvious!*"
   ]
  },
  {
   "cell_type": "markdown",
   "metadata": {},
   "source": [
    "## Two Case Studies\n",
    "\n",
    "To better demonstrate what is going on, we will show two examples based on real-world use cases.\n",
    "\n",
    "One use case is using an aluminium plate in a standard industrial/Lab CT machine, where we want results to measure hole diameters cut into the plate.\n",
    "\n",
    "The second case study is looking at a parallel synchrotron beam to scan tungsten fibers, and seeing how non-obvious beam properties can have a large impact on results."
   ]
  },
  {
   "cell_type": "markdown",
   "metadata": {},
   "source": [
    "---\n",
    "\n",
    "# Aluminium Plate Case Study\n",
    "\n",
    "In This case study you will learn:\n",
    "- How to simulate a CT scan with gvxr using python\n",
    "- How detector properties affect result quality"
   ]
  },
  {
   "cell_type": "markdown",
   "metadata": {},
   "source": [
    "The aluminium plate phantom is a 50mmx50mm plate with cylindrical holes cut into the surface. The holes are in a total of 5 different sizes and do not cut through the entire plate. We would like to measure the diameters of these holes using a lab CT machine, but first we want to know if results are possible in the best-case scenario, hence using simulations."
   ]
  },
  {
   "cell_type": "code",
   "execution_count": null,
   "metadata": {},
   "outputs": [],
   "source": [
    "# Load stl and display\n",
    "plot = k3d.plot()\n",
    "with open(\"input_data/phantoms/doga-plate.stl\", \"rb\") as model:\n",
    "    plot += k3d.stl(model.read(),color=0xfdea4f)\n",
    "plot.display()"
   ]
  },
  {
   "cell_type": "markdown",
   "metadata": {},
   "source": [
    "## Task 1: Setup\n",
    "\n",
    "With your new-found knowledge of gvxr, setup the experiment environment as follows:\n",
    "\n",
    "1. Fixed detector 1m away from the source with a size of 216mmx36mm with a pixel pitch of 240um\n",
    "2. The detector's lsf has been measured and stored in `input_data/lsf.npy`, display and apply it to the detector\n",
    "3. A tungsten tube source with the power at 10keV\n",
    "4. The plate model `input_data/phantoms/doga-plate.stl` is in mm and should be made from aluminium, lying face-up and in focus."
   ]
  },
  {
   "cell_type": "markdown",
   "metadata": {},
   "source": [
    "Notes for compatability with CIL:\n",
    "- Ensure the detector's up vector is `[0, 0, 1]`\n",
    "- The source position is `positive y`\n",
    "- The detector position is `negative y`"
   ]
  },
  {
   "cell_type": "code",
   "execution_count": null,
   "metadata": {},
   "outputs": [],
   "source": [
    "# GVXR Init\n",
    "gvxr.createWindow(-1,True,\"OPENGL\")"
   ]
  },
  {
   "cell_type": "code",
   "execution_count": null,
   "metadata": {},
   "outputs": [],
   "source": [
    "# Setup Detector\n",
    "gvxr.setDetectorPosition(0, -0.2, 0, \"m\")\n",
    "gvxr.setDetectorNumberOfPixels(1216, 200)\n",
    "gvxr.setDetectorPixelSize(180, 180, \"um\")\n",
    "gvxr.setDetectorUpVector(0, 0, 1)\n",
    "# gvxr.setLSF()\n",
    "\n",
    "# Setup Source\n",
    "gvxr.setSourcePosition(0,0.8,0,\"m\")\n",
    "gvxr.usePointSource()\n",
    "# gvxr.setFocalSpot(0,0,20,0.02,\"mm\",3)\n",
    "gvxr.addEnergyBinToSpectrum(10, \"keV\", 1)\n",
    "\n",
    "# Setup Plate Model\n",
    "gvxr.removePolygonMeshesFromSceneGraph()\n",
    "gvxr.loadMeshFile(\"plate\", \"./input_data/phantoms/doga-plate.stl\", \"mm\")\n",
    "gvxr.setElement(\"plate\", \"Al\")"
   ]
  },
  {
   "cell_type": "code",
   "execution_count": null,
   "metadata": {},
   "outputs": [],
   "source": [
    "# Preview the environment\n",
    "gvxr.displayScene()\n",
    "plt.imshow(gvxr.takeScreenshot())\n",
    "visualise()"
   ]
  },
  {
   "cell_type": "markdown",
   "metadata": {},
   "source": [
    "## Task 2: Scanning\n",
    "Now that the scene is setup, we'll take a look into reproducing a virtual scan of the plate, by taking x-ray images and rotating the sample with `gvxr.rotateScene()`\n",
    "\n",
    "Complete the code snippets below by replacing `???` with the correct code. At the end, you'll have completed your own CT acquisition, which we'll use for reconstruction.\n",
    "We want to rotate around the detector's up axis."
   ]
  },
  {
   "cell_type": "code",
   "execution_count": null,
   "metadata": {},
   "outputs": [],
   "source": [
    "# Define the number of projections, along with the angle step\n",
    "total_projections = 100\n",
    "final_angle = 180\n",
    "angle_step = final_angle / total_projections"
   ]
  },
  {
   "cell_type": "code",
   "execution_count": null,
   "metadata": {},
   "outputs": [],
   "source": [
    "# Pre-create our results array with the size of our detector\n",
    "projections = np.ndarray((total_projections, 200, 1216))\n",
    "\n",
    "# Rotate our object by angle_step for every projection, saving it to the\n",
    "# results array.\n",
    "for i in range(0, total_projections):\n",
    "    # Save current angular projection\n",
    "    projections[i] = gvxr.computeXRayImage()\n",
    "    # Rotate models\n",
    "    gvxr.rotateScene(angle_step,0,0,1)"
   ]
  },
  {
   "cell_type": "code",
   "execution_count": null,
   "metadata": {},
   "outputs": [],
   "source": [
    "# Don't forget, we need to use flatfield normalisation on the radiographs to get the correct attenuation values!\n",
    "# Because our flatfield and darkfield are perfect, all we need to do is divide by the total energy\n",
    "projections /= gvxr.getTotalEnergyWithDetectorResponse()"
   ]
  },
  {
   "cell_type": "markdown",
   "metadata": {},
   "source": [
    "We have now taken a full radial scan of our target object. Using these projections we can reconstruct our data into tomographical slices, and see if it's possible to measure the size of our plate's cicles.\n",
    "\n",
    "There are two provided methods: `reconstruct_parallel` and `reconstruct_cone`. A more in-depth look into CIL will be in tomorrow's training. For now, treat these functions as blackboxes."
   ]
  },
  {
   "cell_type": "code",
   "execution_count": null,
   "metadata": {},
   "outputs": [],
   "source": [
    "# Reconstruct the simulated projections with CIL.\n",
    "recon = recon_cone(projections, 180/1000, final_angle,gvxr.getSourcePosition(\"mm\"), gvxr.getDetectorPosition(\"mm\"))\n",
    "assert recon is not None"
   ]
  },
  {
   "cell_type": "code",
   "execution_count": null,
   "metadata": {},
   "outputs": [],
   "source": [
    "# Interactive simple data display\n",
    "display(recon_widget(projections, recon))"
   ]
  },
  {
   "cell_type": "markdown",
   "metadata": {},
   "source": [
    "## Task 3: Tweaking\n",
    "🎉 Congratulations, you've done a virtual CT scan!\n",
    "\n",
    "Now take a look at your results and see how well you did!\n",
    "\n",
    "With our new CT setup, we can explore what our lab scanner can do. Take a go at the little questions below and see if you can answer them!\n",
    "\n",
    "1. Does your plate clip the edge of your scanner?\n",
    "    - How can you fix this without changing the detector's size?\n",
    "2. Are the holes visible in the reconstruction?\n",
    "    - Try changing the color range to increase the contrast.\n",
    "    - Does changing the source power make your results better?\n",
    "3. What other values can you change to get a higher quality scan with the lab setup?\n",
    "    - Do more projections help?\n",
    "    - What can't you change with the lab setup that will help the CT scan?\n",
    "4. In your opinion, would this experiment be feasable on the lab setup?"
   ]
  },
  {
   "cell_type": "markdown",
   "metadata": {},
   "source": [
    "---\n",
    "\n",
    "# Titanium Fibre Case Study\n",
    "\n",
    "In this case study you will learn:\n",
    "- How to automate this simulation process with json2gvxr\n",
    "- An easy way to compare real results with simulated results\n",
    "- Show how 'almost' pure sources will change real results"
   ]
  },
  {
   "cell_type": "markdown",
   "metadata": {},
   "source": [
    "Our sample is a Ti/SiC composite to be scanned at a synchrotron source. It is composed of an outer titanium-aluminium-vanadium alloy with nested silicon carbide fibres housing tungsten cores. A mockup using carbon cores has also been made. However, when scanning the tungsten-cored sample, it presents artifacts not seen in the carbon-core sample.\n",
    "\n",
    "- We will take a look at how \"almost pure\" beam sources can effect scanning results with higher attenuating materials, and how these properties can be recreated with simulations.\n",
    "- A faster method of representing experimental setups and running simulated \n",
    "scans will also be introduced.\n",
    "\n",
    "\n",
    "| Sample in holder | Sample Under Microscope | \n",
    "| --- | --- |\n",
    "| ![](img/sample-annotated.png) | ![](img/sample-microscope.png) |\n",
    "\n",
    "![](img/CT_ref_annotated.png)\n"
   ]
  },
  {
   "cell_type": "markdown",
   "metadata": {},
   "source": [
    "## Task 1: Json2Gvxr\n",
    "\n",
    "So far, you have been shown how to use gvxr command-by-command. This can be a\n",
    "bit tedious when wanting a simple scanning setup. Gvxr provides utility methods\n",
    "to make life easier...\n",
    "\n",
    "`Json2gvxr` is a utility library to dynamically load and setup gvxr from a json file.\n",
    "A json file is a simple formatted text file commonly used in many different languages.\n",
    "\n",
    "Here is a snippet from `./JSON/notebook4-focal_spot.json` describing detector paramaters:\n",
    "```json\n",
    "\"Detector\": {\n",
    "    \"Position\": [0, 10, 0, \"cm\"],\n",
    "    \"UpVector\": [0, 0, 1],\n",
    "    \"NumberOfPixels\": [300, 320],\n",
    "    \"Spacing\": [0.5, 0.5, \"mm\"],\n",
    "    \"LSF\": [0.00110698, 0.00122599, ...]\n",
    "},\n",
    "```\n",
    "\n",
    "Json uses `\"keys\"` to define properties, and these can be\n",
    "- objects (`{\"key\":value}`)\n",
    "- strings, (`\"string\"`)\n",
    "- numbers (`1`)\n",
    "- or arrays (`[1,\"string\", 4, {\"key\":value}, [1,2]]`)\n",
    "\n",
    "**These keys are case sensitive.**\n",
    "\n",
    "For this task you will make your own JSON config, which we'll then run using `json2gvxr`. Open up `06-Fibre.json` and follow along with the steps below for each section to create our scanning experiment."
   ]
  },
  {
   "cell_type": "markdown",
   "metadata": {},
   "source": [
    "### Source \n",
    "\n",
    "First, we need to add a `Source` section to our file. We do this by adding `\"Source\": {}` inbetween the existing two brackets in the file. This is creating a new `key` called `Source`, and giving it a value of an empty object `{}`.\n",
    "\n",
    "Your file should now look like this:\n",
    "```json\n",
    "{\n",
    "    \"WindowSize\": [800, 450],\n",
    "    \"Source\": {}\n",
    "}\n",
    "```\n",
    "\n",
    "Now we have our source object, we can setup our beam properties.\n",
    "The json format takes exactly the same paramaters as the gvxr functions you've been using today.\n",
    "\n",
    "```json\n",
    "{\n",
    "    \"Source\": {\n",
    "        \"Position\": [x, y, z, \"cm\"], // Detector position\n",
    "        \"Shape\": \"Parallel\" or \"Point\" // Beam source type\n",
    "    }\n",
    "}\n",
    "```\n",
    "\n",
    "An important part of the source is the `\"Beam\"` key. `\"Beam\"` can take two different types of input:\n",
    "1. A list of energies\n",
    "\n",
    "    Here we have a polychromatic beam of 90% 60keV and 10% 120KeV\n",
    "    ```json\n",
    "    \"Beam\": [\n",
    "        {\n",
    "            \"Energy\": 60,\n",
    "            \"Unit\": \"keV\",\n",
    "            \"PhotonCount\": 9\n",
    "        }, \n",
    "        {\n",
    "            \"Energy\": 120,\n",
    "            \"Unit\": \"keV\",\n",
    "            \"PhotonCount\": 1\n",
    "        }, \n",
    "    ]\n",
    "    ```\n",
    "2. Paramaters for an x-ray tube\n",
    "\n",
    "    Here we have an x-ray tube at 100kV, with a 5mm copper filter\n",
    "    ```json\n",
    "    \"Beam\": {\n",
    "        \"kvp\": 100,\n",
    "        \"tube angle\": 12,\n",
    "        \"filters\": [\n",
    "            [\"Cu\", 5]\n",
    "        ]\n",
    "    }\n",
    "    ```\n",
    "\n",
    "Keep an eye on your brackets! We use an array `[]` when defining each energy, but an object `{}` when defining an x-ray tube.\n",
    "\n",
    "📋 For this part of your task, make a Source entry with the following:\n",
    "- Source position of `144.92m` in x axis\n",
    "- Source type of `Parallel`\n",
    "- Beam composition of `100% 33KeV`"
   ]
  },
  {
   "cell_type": "markdown",
   "metadata": {},
   "source": [
    "### Detector\n",
    "\n",
    "Now with the source defined, we can move onto creating our detector.\n",
    "Exactly the same with Source, we want to make a `\"Detector\"` key:\n",
    "*(don't forget the comma between the keys!)*\n",
    "```json\n",
    "{\n",
    "    \"Source\": {\n",
    "        ...\n",
    "        ...\n",
    "        ...\n",
    "    },\n",
    "    \"Detector\": {}\n",
    "}\n",
    "```\n",
    "\n",
    "Just like Source, we can setup our detector properties just like using gvxr's python functions:\n",
    "```json\n",
    "\"Detector\": {\n",
    "    \"Position\": [x, y, z, \"cm\"], // Detector position\n",
    "    \"UpVector\": [0, 0, 1], // Detector's up vector\n",
    "    \"NumberOfPixels\": [width, height], // Height and width of the detector in pixels\n",
    "    \"Spacing\": [width, height, \"mm\"], // Pixel size \n",
    "    \"LSF\": [0.00110698, 0.00122599, ...] // (Optional) Line Spread Function\n",
    "},\n",
    "```\n",
    "\n",
    "📋 For this part of the task, add to the file a Detector entry with the following:\n",
    "- Detector position of `-0.08m` in x axis\n",
    "- Up vector of `[0, 0, 1]`\n",
    "- Resolution of `1024x1024`\n",
    "- Pixel size of `1.9um`\n",
    "- No LSF"
   ]
  },
  {
   "cell_type": "markdown",
   "metadata": {},
   "source": [
    "### Samples\n",
    "\n",
    "Unlike the `Source` and `Detector` keys, `Samples` is a *list* of sample objects.\n",
    "\n",
    "Add the `Samples` key to your file, keeping in mind to use square brackets `[]` rather than curly braces.\n",
    "\n",
    "`Samples` may contain any number of samples, and can be quite complex.\n",
    "\n",
    "```json\n",
    "\"Samples\": [\n",
    "    {\n",
    "        \"Label\": \"Star\", // Label of the sample\n",
    "        \"Path\": \"./input_data/phantoms/star.stl\", // Path to the stl model file\n",
    "        \"Unit\": \"mm\", // Unit of measurements the model is using\n",
    "        \"Material\": [\"Compound\", \"SiC\"], // Material of the sample, supports \"Element\", \"Compound\", and \"Mixture\"\n",
    "        \"Density\": 3.2, // Density of the material in g/cm-3. Not required for elements.\n",
    "    },\n",
    "    {\n",
    "        \"Label\": \"Plate\",\n",
    "        \"Path\": \"./input_data/phantoms/star-plate.stl\",\n",
    "        \"Unit\": \"mm\",\n",
    "        \"Material\": [\"Mixture\", \"Zn80Sn17Fe2Cr1\"] // Mixture given as a sequence of element symbol & relative weights\n",
    "    }\n",
    "]\n",
    "```\n",
    "\n",
    "📋 For this task, add these samples:\n",
    "\n",
    "1. Exterior matrix\n",
    "    - Path: `input_data/fibres/final_Ti90Al6V4_matrix.stl`\n",
    "    - Mixture: Ti90Al6V4\n",
    "    - Density: 4.42g/cm-3\n",
    "2. Fibres\n",
    "    - Path: `input_data/fibres/final_SiC_fibres.stl`\n",
    "    - Compound: `SiC`\n",
    "    - Density: 3.2g/cm-3\n",
    "3. Cores\n",
    "    - Path: `input_data/fibres/final_W_cores.stl`\n",
    "    - Element: `W`\n"
   ]
  },
  {
   "cell_type": "markdown",
   "metadata": {},
   "source": [
    "### Configuring from JSON\n",
    "\n",
    "Now that we've created our configuration file, we can let json2gvxr do all the work for us in setting up our scanning environment.\n",
    "\n",
    "If you get an error, don't worry! There are easy mistakes to make:\n",
    "- Have you forgot a specific key?\n",
    "- Is the capitalisation correct?\n",
    "- Do all keys have commas after them?\n",
    "- Are all the brackets closed correctly?\n",
    "\n",
    "See what the error message tells you, fix the problem, and try again!"
   ]
  },
  {
   "cell_type": "code",
   "execution_count": null,
   "metadata": {},
   "outputs": [],
   "source": [
    "from gvxrPython3 import json2gvxr\n",
    "\n",
    "# Initialise GVXR using our JSON file\n",
    "json2gvxr.initGVXR(\"./solutions/06-Fibre.json\")\n",
    "\n",
    "# Load our source properties\n",
    "json2gvxr.initSourceGeometry()\n",
    "json2gvxr.initSpectrum(verbose=1)\n",
    "\n",
    "# Load our detector\n",
    "json2gvxr.initDetector()\n",
    "\n",
    "# Load our samples\n",
    "json2gvxr.initSamples(verbose=1)\n",
    "\n",
    "# Let's get an x-ray image\n",
    "fig = plt.figure()\n",
    "plt.imshow(gvxr.computeXRayImage(),cmap=\"gray\")\n",
    "plt.colorbar()\n",
    "plt.show()"
   ]
  },
  {
   "cell_type": "markdown",
   "metadata": {},
   "source": [
    "We should now have a clear radiograph of our multi-material sample. However, it's not oriented in the correct position! With json2gvxr, we can also apply simple transformations to our samples.\n",
    "\n",
    "For every sample, add a `Transform` key and rotate 90 degrees on the x axis.\n",
    "```json\n",
    "\"Samples\": [\n",
    "    {\n",
    "        ...\n",
    "        ...\n",
    "        \"Transform\": [\n",
    "            [\"Rotation\", degrees, x, y, z]\n",
    "        ]\n",
    "\n",
    "    }\n",
    "]\n",
    "```\n",
    "\n",
    "If you've managed to succeed in the task so far, you'll end up with an image like the one below:\n",
    "\n",
    "![](./img/CT-task1.png)"
   ]
  },
  {
   "cell_type": "markdown",
   "metadata": {},
   "source": [
    "### Scanning & Reconstructing\n",
    "\n",
    "Scanning objects with high resolution detectors produce a very large amount of data. This also applies to simulated scans as well! In order to save some memory space, we can consider obtaining enough data just for one reconstructed slice of our sample.\n",
    "\n",
    "If we were to simulate and reconstruct with out current setup, with 700 projections we would use: \n",
    "$$700*1024*1024*32 bytes = 23488.10 MB$$\n",
    "\n",
    "That is a large amount of space just for the projections! This is not mentioning the additional amount needed to perform the tomographical reconstruction.\n",
    "\n",
    "One method covered in the detector notebook would be to artifically increase the pixel size, but this would result in a coarser image. In our specific case, we can use the sample's vertical uniformity to our advantage and only take a central slice with a one pixel high detector. This decreases our memory usage drastically:\n",
    "$$700*1024*1*32 bytes = 22.94 MB$$\n",
    "\n",
    "Go back and change your json file to a 1-pixel tall detector, then continue onwards.\n"
   ]
  },
  {
   "cell_type": "markdown",
   "metadata": {},
   "source": [
    "Json2gvxr can also handle scanning automatically for you. However, we're not going to cover that feature in this notebook. Feel free to take a look at the `scripts/pump-json-scan.py` and `JSON/Turbopump.json` example to leverage that functionality."
   ]
  },
  {
   "cell_type": "code",
   "execution_count": null,
   "metadata": {},
   "outputs": [],
   "source": [
    "# Ensure detector's height is 1 pixel tall\n",
    "assert gvxr.getDetectorNumberOfPixels()[1] == 3\n",
    "\n",
    "# Define the number of projections, along with the angle step\n",
    "total_projections = 700\n",
    "final_angle = 180\n",
    "angle_step = final_angle / total_projections\n",
    "\n",
    "# Pre-create our results array with the size of our detector\n",
    "projections = np.ndarray((total_projections,3, 1024))\n",
    "\n",
    "# Rotate our object by angle_step for every projection, saving it to the\n",
    "# results array.\n",
    "for i in range(0, total_projections):\n",
    "    # Save current angular projection\n",
    "    projections[i] = np.asarray(gvxr.computeXRayImage())\n",
    "    # Rotate models\n",
    "    gvxr.rotateScene(angle_step,0,0,1)\n",
    "\n",
    "# Don't forget to apply flatfield!\n",
    "projections /= gvxr.getTotalEnergyWithDetectorResponse()\n",
    "recon = recon_parallel(projections, 1.9/1000, final_angle) "
   ]
  },
  {
   "cell_type": "code",
   "execution_count": null,
   "metadata": {},
   "outputs": [],
   "source": [
    "plt.imshow(recon[1],cmap=\"gray\")"
   ]
  },
  {
   "cell_type": "markdown",
   "metadata": {},
   "source": [
    "## Task 2: Comparing Data"
   ]
  },
  {
   "cell_type": "markdown",
   "metadata": {},
   "source": [
    "It can be quite hard to compare data with just large image figures. Focusing on a region of interest and using techniques such as checkerboard patterns make comparing two images easier.\n",
    "\n",
    "Empirical testing is also possible, with image comparison functions such as absolute differences and [cross correlation methods](https://en.wikipedia.org/wiki/Cross-correlation). Here we will use both checkerboards and ZNCC - Zero-Normalised Cross Correlation to rank the similarity between two images, and display an easy to understand comparison between two images.\n",
    "\n",
    "We have ground truth data from a physical scan to compare our simulated experiment with.\n",
    "\n",
    "![](img/)"
   ]
  },
  {
   "cell_type": "code",
   "execution_count": null,
   "metadata": {},
   "outputs": [],
   "source": [
    "import tifffile as tf\n",
    "import matplotlib.cm as cm\n",
    "reference_CT = tf.imread(\"input_data/Fibres/reference_CT.tif\")\n",
    "norm = cm.colors.Normalize(vmax=30, vmin=-20)\n",
    "imgplot = plt.imshow(reference_CT, cmap=\"gray\", norm=norm)\n",
    "plt.show()"
   ]
  },
  {
   "cell_type": "markdown",
   "metadata": {},
   "source": [
    "## Task 3: Polychromatism"
   ]
  },
  {
   "cell_type": "markdown",
   "metadata": {},
   "source": [
    "---\n",
    "\n",
    "## Extension Task: Scanning your own model\n",
    "\n",
    "Now that you've learnt how to create CT scans using gvxr, take a go at making your own!\n",
    "\n",
    "We have included a collection of phantoms and components for your virtual scanner in `input_data/`, have a go at selecting a model and performing a CT scan to create some interesting data for tomorrow's reconstruction training. Take a look at changing component materials, tweaking your source and detector, using transformations, and other paramaters too see how powerful gvxr is!\n",
    "\n",
    "Feel free to use either gvxr's api, or the json approach for your scans. Just remember you will need your scanning paramaters in order to work with the data tomorrow."
   ]
  },
  {
   "cell_type": "markdown",
   "metadata": {},
   "source": [
    "Lost for ideas? Choose from this list:\n",
    "- Have a go at X-raying `TurboPump`\n",
    "- What detector dimensions do you need for scanning `2StrokeEngine`?\n",
    "- With a 96% pure beam, do impurities effect `doga-spheres.stl` made from tungsten?\n",
    "- Make a notebook to quickly scan a collection of models with the same CT setup"
   ]
  },
  {
   "cell_type": "code",
   "execution_count": null,
   "metadata": {},
   "outputs": [],
   "source": []
  },
  {
   "cell_type": "code",
   "execution_count": null,
   "metadata": {},
   "outputs": [],
   "source": []
  },
  {
   "cell_type": "code",
   "execution_count": null,
   "metadata": {},
   "outputs": [],
   "source": [
    "# Visualise radiographs and reconstruction data\n",
    "\n",
    "# Uncomment as appropriate\n",
    "# recon = recon_cone(projections, pixel_size, final_angle, source_position, detector_position)\n",
    "# recon = recon_parallel(projections, pixel_size)\n",
    "\n",
    "display(recon_widget(projections, recon))"
   ]
  }
 ],
 "metadata": {
  "kernelspec": {
   "display_name": "Python 3.10.5 64-bit ('gvxr-ibsim-4i-2022')",
   "language": "python",
   "name": "python3"
  },
  "language_info": {
   "codemirror_mode": {
    "name": "ipython",
    "version": 3
   },
   "file_extension": ".py",
   "mimetype": "text/x-python",
   "name": "python",
   "nbconvert_exporter": "python",
   "pygments_lexer": "ipython3",
   "version": "3.10.6"
  },
  "orig_nbformat": 4,
  "vscode": {
   "interpreter": {
    "hash": "7cb52200ce58d0990af40dfb29272ed58ebf24dc16709b96f71cbdb887d325ae"
   }
  }
 },
 "nbformat": 4,
 "nbformat_minor": 2
}
