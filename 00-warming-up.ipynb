{
 "cells": [
  {
   "cell_type": "markdown",
   "id": "3c17ddd9-d577-4c78-8955-7f99a0f29afa",
   "metadata": {
    "slideshow": {
     "slide_type": "slide"
    },
    "tags": []
   },
   "source": [
    "# Session 0\n",
    "\n",
    "## Warming up ![gVXR](https://gvirtualxray.fpvidal.net/assets/img/Logo.png)\n",
    "\n",
    "## Author: Franck Vidal\n",
    "\n",
    "(version 1.0, 22 Sep 2022)"
   ]
  },
  {
   "cell_type": "markdown",
   "id": "1a2afe65-a50d-4082-b22c-aa59474aa310",
   "metadata": {
    "slideshow": {
     "slide_type": "slide"
    },
    "tags": []
   },
   "source": [
    "# Aims of this session\n",
    "\n",
    "- Log in;\n",
    "- Copy the training data;\n",
    "- Install the Python packages needed for this course;\n",
    "- Check that [gVirtualXray](https://gvirtualxray.sourceforge.io/) is working well;\n",
    "- Verify which version of [gVirtualXray](https://gvirtualxray.sourceforge.io/) is installed (software and hardware);\n",
    "- How to get help (during and after the training)"
   ]
  },
  {
   "cell_type": "markdown",
   "id": "5d125945-1f66-4a5d-89c1-065943040558",
   "metadata": {
    "slideshow": {
     "slide_type": "slide"
    },
    "tags": []
   },
   "source": [
    "# Log in\n",
    "\n",
    "- Get your user ID\n",
    "    - see the post-it we gave you when you entered the room\n",
    "    - if you don't have any, make yourself known\n",
    "- Go to [https://training.jupyter.stfc.ac.uk/](https://training.jupyter.stfc.ac.uk/)\n",
    "- And follow the instructions\n",
    "    - Enter your username\n",
    "    - At 1st login, you'll have to create a password\n",
    "    - (**MAKE SURE YOU DON'T FORGET IT, as we can't reset it**)"
   ]
  },
  {
   "cell_type": "markdown",
   "id": "7b1800b2-1825-493c-af7f-177173d5cc3c",
   "metadata": {},
   "source": [
    "# Copy the training data\n",
    "\n",
    "- Go to the terminal; and\n",
    "- Type\n",
    "\n",
    "```bash\n",
    "git clone git@github.com:effepivi/gvxr-ibsim-4i-2022.git\n",
    "```"
   ]
  },
  {
   "cell_type": "markdown",
   "id": "9ec02843-3a92-4511-b6c6-71bef81578b6",
   "metadata": {
    "slideshow": {
     "slide_type": "slide"
    },
    "tags": []
   },
   "source": [
    "# Install the Python packages needed for this course"
   ]
  },
  {
   "cell_type": "markdown",
   "id": "3b46f61b-90e6-477c-ac6c-0a11c12b9f4b",
   "metadata": {
    "slideshow": {
     "slide_type": "subslide"
    },
    "tags": []
   },
   "source": [
    "First, let's update **numpy** using `conda`, well [`mamba`](https://mamba.readthedocs.io/en/latest/user_guide/mamba.html) as it's much faster than `conda`. It's required to fix an incompatibility issue between numpy and [xraylib](https://github.com/tschoonj/xraylib/wiki)."
   ]
  },
  {
   "cell_type": "code",
   "execution_count": null,
   "id": "d094ad36-697f-490c-b27c-c1df00c90183",
   "metadata": {},
   "outputs": [],
   "source": [
    "!mamba update -y numpy"
   ]
  },
  {
   "cell_type": "markdown",
   "id": "5ffdf2b4-b90a-4b45-bff5-2564ff180db8",
   "metadata": {
    "slideshow": {
     "slide_type": "subslide"
    },
    "tags": []
   },
   "source": [
    "Install [xraylib](https://github.com/tschoonj/xraylib/wiki) using [`mamba`](https://mamba.readthedocs.io/en/latest/user_guide/mamba.html) (or `conda`) instead of `pip`."
   ]
  },
  {
   "cell_type": "code",
   "execution_count": null,
   "id": "7ffceeae-ad03-4344-ba20-d2be6dc05ace",
   "metadata": {},
   "outputs": [],
   "source": [
    "!mamba install -y xraylib"
   ]
  },
  {
   "cell_type": "markdown",
   "id": "b45fbda5-b143-4d74-af98-a205c88f054d",
   "metadata": {},
   "source": [
    "Test if [xraylib](https://github.com/tschoonj/xraylib/wiki) and Numpy are both happy."
   ]
  },
  {
   "cell_type": "code",
   "execution_count": null,
   "id": "ba51fe3a-56f3-481b-b94f-4ac587fa41cb",
   "metadata": {},
   "outputs": [],
   "source": [
    "import xraylib\n",
    "import math\n",
    "import numpy as np"
   ]
  },
  {
   "cell_type": "markdown",
   "id": "11ede0a4-e0c4-481f-9105-93e1af3e17fd",
   "metadata": {
    "slideshow": {
     "slide_type": "subslide"
    },
    "tags": []
   },
   "source": [
    "Install [gVirtualXray](https://gvirtualxray.sourceforge.io/) using `pip`."
   ]
  },
  {
   "cell_type": "code",
   "execution_count": null,
   "id": "36b8d93f-3fd5-4da0-b963-6a9ab9f48136",
   "metadata": {},
   "outputs": [],
   "source": [
    "!pip install gvxr"
   ]
  },
  {
   "cell_type": "markdown",
   "id": "6f7389c0-3ec9-4707-a1cf-ef06bb129f52",
   "metadata": {
    "slideshow": {
     "slide_type": "subslide"
    },
    "tags": []
   },
   "source": [
    "Install [xpecgen](https://github.com/Dih5/xpecgen), a python package to calculate x-ray spectra generated in tungsten anodes using the model of [Med. Phys. 43, 4655]( https://doi.org/10.1118/1.4955120)."
   ]
  },
  {
   "cell_type": "code",
   "execution_count": null,
   "id": "dfe0514c-f9be-48b5-9b69-9172ca6597de",
   "metadata": {},
   "outputs": [],
   "source": [
    "!pip install xpecgen"
   ]
  },
  {
   "cell_type": "markdown",
   "id": "618fe02e-6b33-4124-b5f5-e870130d0a84",
   "metadata": {
    "slideshow": {
     "slide_type": "subslide"
    },
    "tags": []
   },
   "source": [
    "Install [K3D Jupyter](https://github.com/K3D-tools/K3D-jupyter), a Jupyter notebook extension for 3D visualization."
   ]
  },
  {
   "cell_type": "code",
   "execution_count": null,
   "id": "e3a902bc-c0a8-45c8-b81e-0d9da622829b",
   "metadata": {},
   "outputs": [],
   "source": [
    "!mamba install -c conda-forge -y k3d"
   ]
  },
  {
   "cell_type": "markdown",
   "id": "9525206f-857d-4761-8f8d-2cb4e6f46076",
   "metadata": {},
   "source": [
    "**NB:** this Jupyterlab extension is not supported on this cloud, but you may use it at home."
   ]
  },
  {
   "cell_type": "markdown",
   "id": "0da55f16-e33a-422e-97ec-7a320a5dd953",
   "metadata": {},
   "source": [
    "# Check that [gVirtualXray](https://gvirtualxray.sourceforge.io/) is working well"
   ]
  },
  {
   "cell_type": "code",
   "execution_count": null,
   "id": "9f9dad5a-934d-4972-bb2a-977e59c1c18a",
   "metadata": {},
   "outputs": [],
   "source": [
    "from gvxrPython3 import test_offscreen"
   ]
  },
  {
   "cell_type": "markdown",
   "id": "2be4cfe6-ed32-44a2-b4c1-019af56f394b",
   "metadata": {},
   "source": [
    "or type in the terminal\n",
    "\n",
    "```bash\n",
    "python -m gvxrPython3.test_offscreen\n",
    "```"
   ]
  },
  {
   "cell_type": "markdown",
   "id": "d20ccad1-19bd-430d-b3f8-20f82751c3f8",
   "metadata": {},
   "source": [
    "# Check that gVirtualXray is installed (software and hardware)\n",
    "\n",
    "The wrapper for Python 3 is called \"gvxrPython3\". \n",
    "Where does the \"3\" come from? \n",
    "This is because few years ago there was also \"gvxrPython2\" for Python 2 but Python 2 is now deprecated, so is gvxrPython2. \n",
    "gvxrPython3 is a bit long, gvxr is defined as an alias as follows:"
   ]
  },
  {
   "cell_type": "code",
   "execution_count": null,
   "id": "dfe75f3f-fd21-44f8-aa14-4c62079a9fa9",
   "metadata": {},
   "outputs": [],
   "source": [
    "from gvxrPython3 import gvxr"
   ]
  },
  {
   "cell_type": "markdown",
   "id": "9a351fbe-2876-482b-b5f4-683e9d3975ba",
   "metadata": {
    "slideshow": {
     "slide_type": "slide"
    },
    "tags": []
   },
   "source": [
    "# [gVirtualXray](https://gvirtualxray.sourceforge.io/)'s source code is split into 3 components\n",
    "\n",
    "- **Core**: the C++ low-level programming interface. This is where all the core functionalities to simulate X-ray images are implemented. \n",
    "- **SimpleGVXR**: the C++ high-level programming interface. It is a subset of the core library. It also includes additional functionalities to create OpenGL contextes. It contains all we need to simulate X-ray images.\n",
    "- **Wrappers**: exposes SimpleGVXR to other programming languages, including Python 3, Octave, Java, C#, R, Tcl, GNU Octave, Perl and Ruby."
   ]
  },
  {
   "cell_type": "code",
   "execution_count": null,
   "id": "f0861619-47a3-4bcb-aad0-3817978efb95",
   "metadata": {},
   "outputs": [],
   "source": [
    "print(gvxr.getVersionOfCoreGVXR())"
   ]
  },
  {
   "cell_type": "code",
   "execution_count": null,
   "id": "d730f4e0-772b-4147-89ce-6f50a525c9aa",
   "metadata": {},
   "outputs": [],
   "source": [
    "print(gvxr.getVersionOfSimpleGVXR())"
   ]
  },
  {
   "cell_type": "markdown",
   "id": "e854711c-80b5-4af9-a458-de6a32c849e4",
   "metadata": {
    "slideshow": {
     "slide_type": "slide"
    },
    "tags": []
   },
   "source": [
    "# Hardware implementation\n",
    "\n",
    "We first need to create an OpenGL context (else it'll crash)"
   ]
  },
  {
   "cell_type": "code",
   "execution_count": null,
   "id": "5af754b1-0c7d-4448-8e8f-745d9d595fd8",
   "metadata": {},
   "outputs": [],
   "source": [
    "gvxr.createNewContext(\"EGL\") # Create the OpenGL context using EGL (for Linux only, Window and Apple computers must use \"OPENGL\")"
   ]
  },
  {
   "cell_type": "code",
   "execution_count": null,
   "id": "56eda2df-608e-43eb-9620-827847e74a93",
   "metadata": {},
   "outputs": [],
   "source": [
    "print(\"OpenGL vendor:\", gvxr.getOpenGlVendor())\n",
    "print(\"OpenGL renderer:\", gvxr.getOpenGlRenderer())\n",
    "print(\"OpenGL version:\", gvxr.getOpenGlVersion())"
   ]
  },
  {
   "cell_type": "markdown",
   "id": "6dcf695a-8ef7-4624-8fb1-65f1411ed2bf",
   "metadata": {},
   "source": [
    "Release the OpenGL context as it is no longer needed (it's good practice to cleanup and release resources)"
   ]
  },
  {
   "cell_type": "code",
   "execution_count": null,
   "id": "97d0b09f-9e0c-4a76-92d6-e391069c0069",
   "metadata": {},
   "outputs": [],
   "source": [
    "gvxr.terminate()"
   ]
  },
  {
   "cell_type": "markdown",
   "id": "a80a1839-6f00-48ca-ae4c-730b54007bef",
   "metadata": {},
   "source": [
    "# How to get help (during and after the training)\n",
    "\n",
    "- During the training:\n",
    "    - You may interupt me at any time;\n",
    "    - Ask one of our assistants (their job is to help you);\n",
    "- After the training:\n",
    "    - Email me (Franck P. Vidal, Bangor University);\n",
    "    - Open a ticket on [SourceForge](https://sourceforge.net/p/gvirtualxray/): [https://sourceforge.net/p/gvirtualxray/tickets](https://sourceforge.net/p/gvirtualxray/tickets);\n",
    "    - Use the forum on [SourceForge](https://sourceforge.net/p/gvirtualxray/): [https://sourceforge.net/p/gvirtualxray/discussion/](https://sourceforge.net/p/gvirtualxray/discussion/);\n",
    "    - Subscribe to the mailing list: [https://sourceforge.net/projects/gvirtualxray/lists/gvirtualxray-discuss](https://sourceforge.net/projects/gvirtualxray/lists/gvirtualxray-discuss)\n",
    "    - Check the technical documentation:\n",
    "        - [From the C++ header file](https://sourceforge.net/p/gvirtualxray/code/HEAD/tree/trunk/SimpleGVXR/SimpleGVXR.h), or\n",
    "        - as follows:"
   ]
  },
  {
   "cell_type": "code",
   "execution_count": null,
   "id": "8e2e38ca-9ce7-4444-bf4f-ecd69efa13fd",
   "metadata": {},
   "outputs": [],
   "source": [
    "help(gvxr)"
   ]
  }
 ],
 "metadata": {
  "kernelspec": {
   "display_name": "Python 3 (ipykernel)",
   "language": "python",
   "name": "python3"
  },
  "language_info": {
   "codemirror_mode": {
    "name": "ipython",
    "version": 3
   },
   "file_extension": ".py",
   "mimetype": "text/x-python",
   "name": "python",
   "nbconvert_exporter": "python",
   "pygments_lexer": "ipython3",
   "version": "3.10.5"
  }
 },
 "nbformat": 4,
 "nbformat_minor": 5
}
