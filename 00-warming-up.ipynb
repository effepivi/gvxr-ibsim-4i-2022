{
 "cells": [
  {
   "cell_type": "markdown",
   "id": "3c17ddd9-d577-4c78-8955-7f99a0f29afa",
   "metadata": {
    "slideshow": {
     "slide_type": "slide"
    },
    "tags": []
   },
   "source": [
    "# Session 0\n",
    "\n",
    "## Warming up ![gVXR](img/gvxr_logo.png)\n",
    "\n",
    "## Author: Franck Vidal\n",
    "\n",
    "(version 1.0, 10 Oct 2022)"
   ]
  },
  {
   "cell_type": "markdown",
   "id": "1a2afe65-a50d-4082-b22c-aa59474aa310",
   "metadata": {
    "slideshow": {
     "slide_type": "slide"
    },
    "tags": []
   },
   "source": [
    "# Aims of this session\n",
    "\n",
    "1. Log in;\n",
    "2. Copy the training data;\n",
    "3. Install the Python packages needed for this course;\n",
    "4. Check that [gVirtualXray](https://gvirtualxray.sourceforge.io/) is working well;\n",
    "5. Verify which version of [gVirtualXray](https://gvirtualxray.sourceforge.io/) is installed (software and hardware);\n",
    "6. How to get help (during and after the training)"
   ]
  },
  {
   "cell_type": "markdown",
   "id": "5d125945-1f66-4a5d-89c1-065943040558",
   "metadata": {
    "slideshow": {
     "slide_type": "slide"
    },
    "tags": []
   },
   "source": [
    "# 1. Log in\n",
    "\n",
    "- Get your user ID\n",
    "    - see the post-it we gave you when you entered the room\n",
    "    - if you don't have any, make yourself known\n",
    "- Go to [URL REMOVED FOR SECURITY REASONS](https://URL_REMOVED_FOR_SECURITY_REASONS.ac.uk/)\n",
    "- And follow the instructions\n",
    "    - Enter your username\n",
    "    - At 1st login, you'll have to create a password\n",
    "    - (**MAKE SURE YOU DON'T FORGET IT, as we can't reset it**)"
   ]
  },
  {
   "cell_type": "markdown",
   "id": "7b1800b2-1825-493c-af7f-177173d5cc3c",
   "metadata": {},
   "source": [
    "# 2. Copy the training data\n",
    "\n",
    "Follow my instruction to open a terminal.\n",
    "\n",
    "---\n",
    "## Task:\n",
    "\n",
    "1. Click on the `+` (see the blue rectangle at the top left corner?)\n",
    "2. Look for \"Other\".\n",
    "3. Click on \"Terminal\".\n",
    "4. Type the code as follows and press `<ENTER>`:\n",
    "\n",
    "```bash\n",
    "git clone https://github.com/effepivi/gvxr-ibsim-4i-2022.git\n",
    "```\n",
    "\n",
    "You can now open the Notebook I am using. You have the same files as I do."
   ]
  },
  {
   "cell_type": "markdown",
   "id": "9ec02843-3a92-4511-b6c6-71bef81578b6",
   "metadata": {
    "slideshow": {
     "slide_type": "slide"
    },
    "tags": []
   },
   "source": [
    "# 3. Install the Python packages needed for this course\n",
    "\n",
    "gVXR 2.0.2 is already installed. However, due to a late minute bug fix, a new version is available.\n",
    "\n",
    "---\n",
    "## Task:\n",
    "\n",
    "1. In the cell below, type:\n",
    "\n",
    "```bash\n",
    "!pip install --user --upgrade gvxr\n",
    "```\n",
    "\n",
    "- The option `--user` is needed to make sure the package is installed in our home directory. If we omit it, we'll get a permission denied error. \n",
    "- `--upgrade` is needed because the package may be already installed.\n",
    "\n",
    "\n",
    "2. Execute the code of the cell. We must either click on the triangle next to the square at the top of the window, or use the keyboard shortcut `<SHIFT+ENTER>`."
   ]
  },
  {
   "cell_type": "code",
   "execution_count": null,
   "id": "f63a9537-ca0a-41fe-98ba-b318aa352a7c",
   "metadata": {},
   "outputs": [],
   "source": []
  },
  {
   "cell_type": "markdown",
   "id": "0da55f16-e33a-422e-97ec-7a320a5dd953",
   "metadata": {},
   "source": [
    "# 4. Check that [gVirtualXray](https://gvirtualxray.sourceforge.io/) is working well\n",
    "\n",
    "Two test programs are embedded in the Python package:\n",
    "\n",
    "1. `test_offscreen.py` is for offscreen systems such as this cloud instance), and\n",
    "2. `test.py` is for our laptops and desktop computers.\n",
    "\n",
    "---\n",
    "## Task:\n",
    "\n",
    "In the cell below type and run:\n",
    "\n",
    "```python\n",
    "from gvxrPython3 import test_offscreen\n",
    "```"
   ]
  },
  {
   "cell_type": "code",
   "execution_count": null,
   "id": "9f9dad5a-934d-4972-bb2a-977e59c1c18a",
   "metadata": {},
   "outputs": [],
   "source": []
  },
  {
   "cell_type": "markdown",
   "id": "2be4cfe6-ed32-44a2-b4c1-019af56f394b",
   "metadata": {},
   "source": [
    "In the terminal, we would type:\n",
    "\n",
    "```bash\n",
    "python -m gvxrPython3.test_offscreen\n",
    "```"
   ]
  },
  {
   "cell_type": "markdown",
   "id": "d20ccad1-19bd-430d-b3f8-20f82751c3f8",
   "metadata": {},
   "source": [
    "# 5. Check that gVirtualXray is installed (software and hardware)\n",
    "\n",
    "The wrapper for Python 3 is called \"gvxrPython3\". \n",
    "Where does the \"3\" come from? \n",
    "This is because a few years ago there was \"gvxrPython2\" for Python 2, which is now deprecated. \"gvxrPython2\" is no longer maintained as a consequence. \n",
    "I personaly find that `gvxrPython3` is a bit too long to type. \n",
    "\n",
    "---\n",
    "## Task:\n",
    "\n",
    "In the cell below, type: \n",
    "\n",
    "```python\n",
    "from gvxrPython3 import gvxr\n",
    "```\n",
    "\n",
    "It defines `gvxr` as an alias for `gvxrPython3`."
   ]
  },
  {
   "cell_type": "code",
   "execution_count": null,
   "id": "dfe75f3f-fd21-44f8-aa14-4c62079a9fa9",
   "metadata": {},
   "outputs": [],
   "source": []
  },
  {
   "cell_type": "markdown",
   "id": "9a351fbe-2876-482b-b5f4-683e9d3975ba",
   "metadata": {
    "slideshow": {
     "slide_type": "slide"
    },
    "tags": []
   },
   "source": [
    "## [gVirtualXray](https://gvirtualxray.sourceforge.io/)'s source code is split into 3 components\n",
    "\n",
    "- **Core**: the C++ low-level programming interface. This is where all the core functionalities to simulate X-ray images are implemented. \n",
    "- **SimpleGVXR**: the C++ high-level programming interface. It is a subset of the core library. It also includes additional functionalities to create OpenGL contextes. It contains all we need to simulate X-ray images.\n",
    "- **Wrappers**: exposes SimpleGVXR to other programming languages, including Python 3, Octave, Java, C#, R, Tcl, GNU Octave, Perl and Ruby.\n",
    "\n",
    "---\n",
    "## Task:\n",
    "\n",
    "Run the next two cells to check the different versions. Their numbers should match."
   ]
  },
  {
   "cell_type": "code",
   "execution_count": null,
   "id": "f0861619-47a3-4bcb-aad0-3817978efb95",
   "metadata": {},
   "outputs": [],
   "source": [
    "print(gvxr.getVersionOfCoreGVXR())"
   ]
  },
  {
   "cell_type": "code",
   "execution_count": null,
   "id": "d730f4e0-772b-4147-89ce-6f50a525c9aa",
   "metadata": {},
   "outputs": [],
   "source": [
    "print(gvxr.getVersionOfSimpleGVXR())"
   ]
  },
  {
   "cell_type": "markdown",
   "id": "e854711c-80b5-4af9-a458-de6a32c849e4",
   "metadata": {
    "slideshow": {
     "slide_type": "slide"
    },
    "tags": []
   },
   "source": [
    "## Hardware implementation\n",
    "\n",
    "We first need to create an OpenGL context (else it'll crash). \n",
    "\n",
    "---\n",
    "## Task:\n",
    "\n",
    "1. Run the cell below, and\n",
    "2. Check the output. How many EGL devices were found? "
   ]
  },
  {
   "cell_type": "code",
   "execution_count": null,
   "id": "5af754b1-0c7d-4448-8e8f-745d9d595fd8",
   "metadata": {},
   "outputs": [],
   "source": [
    "gvxr.createNewContext(\"EGL\") # Create the OpenGL context using EGL (for Linux only, Window and Apple computers must use \"OPENGL\")"
   ]
  },
  {
   "cell_type": "markdown",
   "id": "389e9023-0a09-43b6-9fbb-8dfaa747f0c4",
   "metadata": {},
   "source": [
    "---\n",
    "## Task:\n",
    "\n",
    "Run the following cell and check the output? You should see\n",
    "1. The GPU manufacturer (\"NVIDIA Corporation\" in our case),\n",
    "2. The hardware version (Quadro P4000/PCIe/SSE2),\n",
    "3. The software version (4.5.0 NVIDIA 515.65.01)."
   ]
  },
  {
   "cell_type": "code",
   "execution_count": null,
   "id": "56eda2df-608e-43eb-9620-827847e74a93",
   "metadata": {},
   "outputs": [],
   "source": [
    "print(\"OpenGL vendor:\", gvxr.getOpenGlVendor())\n",
    "print(\"OpenGL renderer:\", gvxr.getOpenGlRenderer())\n",
    "print(\"OpenGL version:\", gvxr.getOpenGlVersion())"
   ]
  },
  {
   "cell_type": "markdown",
   "id": "6dcf695a-8ef7-4624-8fb1-65f1411ed2bf",
   "metadata": {},
   "source": [
    "Run the following cell to release the OpenGL context as it is no longer needed (it's good practice to cleanup and release resources)."
   ]
  },
  {
   "cell_type": "code",
   "execution_count": null,
   "id": "97d0b09f-9e0c-4a76-92d6-e391069c0069",
   "metadata": {},
   "outputs": [],
   "source": [
    "gvxr.terminate()"
   ]
  },
  {
   "cell_type": "markdown",
   "id": "a80a1839-6f00-48ca-ae4c-730b54007bef",
   "metadata": {},
   "source": [
    "# 6. How to get help (during and after the training)\n",
    "\n",
    "- During the training:\n",
    "    - You may interupt me at any time;\n",
    "    - Ask one of our assistants (their job is to help you);\n",
    "- After the training:\n",
    "    - Email me (Franck P. Vidal, Bangor University);\n",
    "    - Open a ticket on [SourceForge](https://sourceforge.net/p/gvirtualxray/): [https://sourceforge.net/p/gvirtualxray/tickets](https://sourceforge.net/p/gvirtualxray/tickets);\n",
    "    - Use the forum on [SourceForge](https://sourceforge.net/p/gvirtualxray/): [https://sourceforge.net/p/gvirtualxray/discussion/](https://sourceforge.net/p/gvirtualxray/discussion/);\n",
    "    - Subscribe to the mailing list: [https://sourceforge.net/projects/gvirtualxray/lists/gvirtualxray-discuss](https://sourceforge.net/projects/gvirtualxray/lists/gvirtualxray-discuss)\n",
    "    - Check the technical documentation:\n",
    "        - [From the C++ header file](https://sourceforge.net/p/gvirtualxray/code/HEAD/tree/trunk/SimpleGVXR/SimpleGVXR.h). I always have this page loaded. Even if I wrote gVXR, I may forget the exact name of a function. \n",
    "        - Alternatively, call `help(gvxr)` in Python."
   ]
  },
  {
   "cell_type": "code",
   "execution_count": null,
   "id": "8e2e38ca-9ce7-4444-bf4f-ecd69efa13fd",
   "metadata": {},
   "outputs": [],
   "source": [
    "help(gvxr)"
   ]
  }
 ],
 "metadata": {
  "kernelspec": {
   "display_name": "Python 3 (ipykernel)",
   "language": "python",
   "name": "python3"
  },
  "language_info": {
   "codemirror_mode": {
    "name": "ipython",
    "version": 3
   },
   "file_extension": ".py",
   "mimetype": "text/x-python",
   "name": "python",
   "nbconvert_exporter": "python",
   "pygments_lexer": "ipython3",
   "version": "3.10.5"
  }
 },
 "nbformat": 4,
 "nbformat_minor": 5
}
