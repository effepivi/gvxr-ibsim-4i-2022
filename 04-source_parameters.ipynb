{
 "cells": [
  {
   "cell_type": "code",
   "execution_count": 1,
   "id": "02cd57f8-74c9-4f02-a778-40f8c3d4cbf4",
   "metadata": {},
   "outputs": [],
   "source": [
    "%matplotlib widget"
   ]
  },
  {
   "cell_type": "code",
   "execution_count": 2,
   "id": "2f5b2898-2c72-4568-b29c-4a2e3ac4dd85",
   "metadata": {},
   "outputs": [],
   "source": [
    "%matplotlib inline"
   ]
  },
  {
   "cell_type": "markdown",
   "id": "2d25fe86-499d-4755-82a2-9450c409fe7f",
   "metadata": {},
   "source": [
    "# Session 3\n",
    "\n",
    "## X-ray source parameters ![gVXR](img/gvxr_logo.png)\n",
    "\n",
    "## Authors: Ben Thorpe, Iwan Mitchel and Franck Vidal\n",
    "\n",
    "(version 1.0, 22 Sep 2022)"
   ]
  },
  {
   "cell_type": "markdown",
   "id": "2a6d76cd-fc3d-4ffb-ba94-f0391a4e5db4",
   "metadata": {},
   "source": [
    "# Aims of this session\n",
    "\n",
    "- Create X-ray sources of different shapes:\n",
    "    - Parallel beam (e.g. synchrotron);\n",
    "    - Cone-beam (e.g. X-ray tube);\n",
    "        - Ideal case, i.e. infinitesimal point source;\n",
    "        - Focal spot, i.e. more realistic.\n",
    "- Visualise the source shape;\n",
    "- Set the beam spectrum:\n",
    "    - Monochromatic;\n",
    "    - Polychromatic:\n",
    "        - By hand;\n",
    "        - Using a text file;\n",
    "        - Using [xpecgen](https://github.com/Dih5/xpecgen) (a python package to calculate x-ray spectra generated in tungsten anodes using the model of [Med. Phys. 43, 4655.](https://doi.org/10.1118/1.4955120))."
   ]
  },
  {
   "cell_type": "markdown",
   "id": "2cb803de-0094-473e-add4-54ed7be68e9e",
   "metadata": {},
   "source": [
    "# Task 1: Initialise the simulation environment\n",
    "\n",
    "At this stage, we should be able to set up the simulation environment.\n",
    "\n",
    "1. Import the packages;\n",
    "2. Create the OpenGL context with `gvxr.createWindow`;\n",
    "3. Set the detector with `gvxr.setDetectorPosition`;\n",
    "4. Set the detector up vector with `gvxr.setDetectorUpVector`;\n",
    "5. Set the number of pixels with `gvxr.setDetectorNumberOfPixels`;\n",
    "6. Set the pixel spacing with `gvxr.setDetectorPixelSize`;\n",
    "7. Load the following samples."
   ]
  },
  {
   "cell_type": "markdown",
   "id": "66767677-fb89-4dd7-982f-22072b2645df",
   "metadata": {},
   "source": [
    "---\n",
    "\n",
    "## Step 1 of Task 1: Import the packages\n",
    "\n",
    "We must import the Python packages as follows:\n",
    "\n",
    "- `import matplotlib.pyplot as plt # Plotting`\n",
    "- `from matplotlib.colors import LogNorm # Look up table`\n",
    "- `from matplotlib.colors import PowerNorm # Look up table`\n",
    "- `from gvxrPython3 import gvxr # Simulate X-ray images`\n",
    "- `from gvxrPython3.utils import visualise # Visualise the 3D environment if k3D is supported`\n",
    "- `from gvxrPython3.utils import plotScreenshot # Visualise the 3D environment using Matplotlib`"
   ]
  },
  {
   "cell_type": "code",
   "execution_count": 3,
   "id": "ce2f272a-7923-47cf-baf9-053c16be2480",
   "metadata": {},
   "outputs": [
    {
     "name": "stdout",
     "output_type": "stream",
     "text": [
      "Speckpy is not install, you won't be able to load a beam spectrum using Speckpy\n",
      "SimpleGVXR 2.0.2 (2022-10-05T09:09:48) [Compiler: GNU g++] on Linux\n",
      "gVirtualXRay core library (gvxr) 2.0.2 (2022-10-05T09:09:48) [Compiler: GNU g++] on Linux\n"
     ]
    }
   ],
   "source": [
    "import matplotlib.pyplot as plt # Plotting\n",
    "from matplotlib.colors import LogNorm # Look up table\n",
    "from matplotlib.colors import PowerNorm # Look up table\n",
    "\n",
    "from gvxrPython3 import gvxr\n",
    "from gvxrPython3.utils import visualise\n",
    "from gvxrPython3.utils import plotScreenshot\n",
    "\n"
   ]
  },
  {
   "cell_type": "markdown",
   "id": "cbf3b9d7-37ab-4179-9573-9fe1336c5d59",
   "metadata": {},
   "source": [
    "---\n",
    "\n",
    "## Step 2 of Task 1: Create the OpenGL context\n",
    "\n",
    "We may use `gvxr.createWindow`."
   ]
  },
  {
   "cell_type": "code",
   "execution_count": 4,
   "id": "63925148-a241-419d-8048-7d5580a698e0",
   "metadata": {},
   "outputs": [
    {
     "name": "stderr",
     "output_type": "stream",
     "text": [
      "Wed Oct  5 21:54:48 2022 ---- Create window (ID: 0)\n",
      "Wed Oct  5 21:54:48 2022 ---- Query the number of EGL devices\n",
      "Wed Oct  5 21:54:48 2022 ---- Success\n",
      "Wed Oct  5 21:54:48 2022 ---- Detected 3 EGL devices.\n",
      "Wed Oct  5 21:54:48 2022 ---- Print the details here of every EGL device.\n",
      "Wed Oct  5 21:54:48 2022 ---- Success\n",
      "Wed Oct  5 21:54:48 2022 ---- Device 1/3:\n",
      "Wed Oct  5 21:54:48 2022 ---- \tDevice Extensions: EGL_NV_device_cuda EGL_EXT_device_drm EGL_EXT_device_drm_render_node EGL_EXT_device_persistent_id\n",
      "Wed Oct  5 21:54:48 2022 ---- \tDevice vendor: NVIDIA\n",
      "Wed Oct  5 21:54:48 2022 ---- \tEGL DRM device file: /dev/dri/card0\n",
      "Wed Oct  5 21:54:48 2022 ---- Device 2/3:\n",
      "Wed Oct  5 21:54:48 2022 ---- \tDevice Extensions: EGL_EXT_device_drm\n",
      "Wed Oct  5 21:54:48 2022 ---- \tFailed to retrieve device vendor.\n",
      "Wed Oct  5 21:54:48 2022 ---- \tEGL DRM device file: /dev/dri/card0\n",
      "Wed Oct  5 21:54:48 2022 ---- Device 3/3:\n",
      "Wed Oct  5 21:54:48 2022 ---- \tDevice Extensions: EGL_MESA_device_software\n",
      "Wed Oct  5 21:54:48 2022 ---- \tFailed to retrieve device vendor.\n",
      "Wed Oct  5 21:54:48 2022 ---- \tFailed to retrieve EGL DRM device file.\n",
      "Wed Oct  5 21:54:48 2022 ---- EGL client extensions: EGL_EXT_platform_base EGL_EXT_device_base EGL_EXT_device_enumeration EGL_EXT_device_query EGL_KHR_client_get_all_proc_addresses EGL_EXT_client_extensions EGL_KHR_debug EGL_KHR_platform_x11 EGL_EXT_platform_x11 EGL_EXT_platform_device EGL_KHR_platform_wayland EGL_EXT_platform_wayland EGL_KHR_platform_gbm EGL_MESA_platform_gbm EGL_MESA_platform_surfaceless\n",
      "Wed Oct  5 21:54:48 2022 ---- EGL, find the default display\n",
      "Wed Oct  5 21:54:48 2022 ---- \tSUCCESS\n",
      "Wed Oct  5 21:54:48 2022 ---- Initialise EGL\n",
      "Wed Oct  5 21:54:48 2022 ---- EGL version: 1.5\n",
      "Wed Oct  5 21:54:48 2022 ---- Bind the OpenGL API to EGL\n",
      "Wed Oct  5 21:54:48 2022 ---- Create the context\n",
      "Wed Oct  5 21:54:48 2022 ---- Create the surface\n",
      "Wed Oct  5 21:54:48 2022 ---- Make the context current\n",
      "Wed Oct  5 21:54:48 2022 ---- Initialise GLEW\n",
      "Wed Oct  5 21:54:48 2022 ---- OpenGL version supported by this platform 4.5.0 NVIDIA 510.73.08\n",
      "Wed Oct  5 21:54:48 2022 ---- OpenGL vendor:NVIDIA Corporation\n",
      "Wed Oct  5 21:54:48 2022 ---- OpenGL renderer:NVIDIA GeForce RTX 2080 Ti/PCIe/SSE2\n",
      "Wed Oct  5 21:54:48 2022 ---- OpenGL version:4.5.0 NVIDIA 510.73.08\n",
      "Wed Oct  5 21:54:48 2022 ---- Use OpenGL 4.5.\n",
      "Wed Oct  5 21:54:48 2022 ---- Initialise the X-ray renderer if needed and if possible\n"
     ]
    }
   ],
   "source": [
    "window_id = 0\n",
    "visible = False\n",
    "opengl_major_version = 4\n",
    "opengl_minor_version = 5\n",
    "backend = \"EGL\"\n",
    "gvxr.createWindow(window_id, visible, backend, opengl_major_version, opengl_minor_version);"
   ]
  },
  {
   "cell_type": "markdown",
   "id": "8e8ba4c2-091f-4b27-a996-f7d8f7dc2a06",
   "metadata": {},
   "source": [
    "## Step 3 of Task 1: Set the detector position\n",
    "\n",
    "We must use `gvxr.setDetectorPosition`. The detector position is x = 0.0 cm, y = 0.0 cm and z = -5.0 cm."
   ]
  },
  {
   "cell_type": "code",
   "execution_count": 5,
   "id": "f22f474c-c113-454f-a77a-72a1bc4f1825",
   "metadata": {},
   "outputs": [],
   "source": [
    "gvxr.setDetectorPosition(0, 0, -5, \"cm\")"
   ]
  },
  {
   "cell_type": "markdown",
   "id": "0bcbbaba-2576-446c-9bd8-643f4518f5f0",
   "metadata": {},
   "source": [
    "--- \n",
    "\n",
    "## Step 4 of Task 1: Set the detector up vector\n",
    "\n",
    "Call `gvxr.setDetectorUpVector(ix, jy, kz)` with `ix`, `jy`, `kz` defining a unit vector defines the 3D orientation of the 2D detector. \n",
    "In this example, `ix` = 0, `jy` = 1, and `kz` = 0."
   ]
  },
  {
   "cell_type": "code",
   "execution_count": 6,
   "id": "c857d869-8868-4b82-9b91-3cbca2545958",
   "metadata": {},
   "outputs": [],
   "source": [
    "gvxr.setDetectorUpVector(0, 1, 0)"
   ]
  },
  {
   "cell_type": "markdown",
   "id": "ab9e9ca2-a23c-4f8f-a990-20914b44ec5e",
   "metadata": {},
   "source": [
    "--- \n",
    "\n",
    "## Step 5 of Task 1: Set the number of pixels\n",
    "\n",
    "We want to create a detector with 600 pixels along both directions. \n",
    "For this purpose, we use `gvxr.setDetectorNumberOfPixels`.\n"
   ]
  },
  {
   "cell_type": "code",
   "execution_count": 7,
   "id": "0685df67-f09c-4145-a10a-38d098da7a10",
   "metadata": {},
   "outputs": [],
   "source": [
    "gvxr.setDetectorNumberOfPixels(600, 600)"
   ]
  },
  {
   "cell_type": "markdown",
   "id": "37a34cef-aa12-4d79-8609-89b2732c91e4",
   "metadata": {},
   "source": [
    "--- \n",
    "\n",
    "## Step 6 of Task 1: Set the pixel spacing\n",
    "\n",
    "The space between the centre of two successive pixel is 0.35 mm along both directions. We must use `gvxr.setDetectorPixelSize`."
   ]
  },
  {
   "cell_type": "code",
   "execution_count": 43,
   "id": "4ac3e6f2-7e58-4ea4-b58c-87ca48efb5bb",
   "metadata": {},
   "outputs": [],
   "source": [
    "gvxr.setDetectorPixelSize(0.35, 0.35, \"mm\")"
   ]
  },
  {
   "cell_type": "markdown",
   "id": "ee7caf8d-8984-48eb-95da-f5a5ae93288f",
   "metadata": {},
   "source": [
    "--- \n",
    "\n",
    "## Step 7 of Task 1: Load the samples and their material properties\n",
    "\n",
    "The sample is made of 6 components, a matrix with spherical inserts of various material. \n",
    "\n",
    "| Label | fname | Material type | Material | Density |\n",
    "|-------|-------|---------------|----------|---------|\n",
    "| Matrix | `input_data/plate_sphere_inserts/phantoms/matrix.stl` | Element | C | N/A |\n",
    "| Col_0 | `input_data/plate_sphere_inserts/phantoms/col_0.stl` | Element | Cu | N/A |\n",
    "| Col_1 | `input_data/plate_sphere_inserts/phantoms/col_1.stl` | Element | Al | N/A |\n",
    "| Col_2 | `input_data/plate_sphere_inserts/phantoms/col_2.stl` | Compound | SiC | 3.2 g/cm3 |\n",
    "| Col_3 | `input_data/plate_sphere_inserts/phantoms/col_3.stl` | Mixture | Ti90Al6V4 | 4.42 g/cm3 |\n",
    "| Col_4 | `input_data/plate_sphere_inserts/phantoms/col_4.stl` | Element | Fe | N/A |\n",
    "\n",
    "Load all the corresponding STL files using `gvxr.loadMeshFile`. The vertex data in the STL files is stored in mm.\n",
    "Depending on the type of material, we must use `gvxr.setElement`, `gvxr.setCompound`, `gvxr.setMixture`, and `gvxr.setDensity`."
   ]
  },
  {
   "cell_type": "code",
   "execution_count": 44,
   "id": "b65e5efc-a0be-45e8-9679-b8bdca5c6f57",
   "metadata": {},
   "outputs": [
    {
     "name": "stderr",
     "output_type": "stream",
     "text": [
      "Wed Oct  5 21:59:23 2022 ---- file_name:\tinput_data/phantoms/plate_sphere_inserts/matrix.stl\tnb_faces:\t9702\tnb_vertices:\t29106\tbounding_box (in cm):\t(-3.5, -3.5, -0.75)\t(3.5, 3.5, 0.75)\n",
      "Wed Oct  5 21:59:23 2022 ---- file_name:\tinput_data/phantoms/plate_sphere_inserts/col_0.stl\tnb_faces:\t1938\tnb_vertices:\t5814\tbounding_box (in cm):\t(-2.99606, -2.19961, -0.496354)\t(-2, 2.49901, 0.496354)\n",
      "Wed Oct  5 21:59:23 2022 ---- file_name:\tinput_data/phantoms/plate_sphere_inserts/col_1.stl\tnb_faces:\t1938\tnb_vertices:\t5814\tbounding_box (in cm):\t(-1.74606, -2.19961, -0.496354)\t(-0.75, 2.49901, 0.496354)\n",
      "Wed Oct  5 21:59:23 2022 ---- file_name:\tinput_data/phantoms/plate_sphere_inserts/col_2.stl\tnb_faces:\t1938\tnb_vertices:\t5814\tbounding_box (in cm):\t(-0.496057, -2.19961, -0.496354)\t(0.5, 2.49901, 0.496354)\n",
      "Wed Oct  5 21:59:23 2022 ---- file_name:\tinput_data/phantoms/plate_sphere_inserts/col_3.stl\tnb_faces:\t1938\tnb_vertices:\t5814\tbounding_box (in cm):\t(0.753943, -2.19961, -0.496354)\t(1.75, 2.49901, 0.496354)\n",
      "Wed Oct  5 21:59:23 2022 ---- file_name:\tinput_data/phantoms/plate_sphere_inserts/col_4.stl\tnb_faces:\t1938\tnb_vertices:\t5814\tbounding_box (in cm):\t(2.00394, -2.19961, -0.496354)\t(3, 2.49901, 0.496354)\n"
     ]
    }
   ],
   "source": [
    "gvxr.loadMeshFile(\"Matrix\", \"input_data/phantoms/plate_sphere_inserts/matrix.stl\", \"mm\")\n",
    "gvxr.loadMeshFile(\"Col_0\", \"input_data/phantoms/plate_sphere_inserts/col_0.stl\", \"mm\")\n",
    "gvxr.loadMeshFile(\"Col_1\", \"input_data/phantoms/plate_sphere_inserts/col_1.stl\", \"mm\")\n",
    "gvxr.loadMeshFile(\"Col_2\", \"input_data/phantoms/plate_sphere_inserts/col_2.stl\", \"mm\")\n",
    "gvxr.loadMeshFile(\"Col_3\", \"input_data/phantoms/plate_sphere_inserts/col_3.stl\", \"mm\")\n",
    "gvxr.loadMeshFile(\"Col_4\", \"input_data/phantoms/plate_sphere_inserts/col_4.stl\", \"mm\")\n",
    "\n",
    "gvxr.setElement(\"Matrix\", \"C\");\n",
    "\n",
    "gvxr.setElement(\"Col_0\", \"Cu\")\n",
    "gvxr.setElement(\"Col_1\", \"Al\")\n",
    "\n",
    "gvxr.setCompound(\"Col_2\", \"SiC\");\n",
    "gvxr.setDensity(\"Col_2\",3.2, \"g/cm3\");\n",
    "\n",
    "gvxr.setMixture(\"Col_3\", \"Ti90Al6V4\");\n",
    "gvxr.setDensity(\"Col_3\", 4.42, \"g/cm3\");\n",
    "\n",
    "gvxr.setElement(\"Col_4\", \"Fe\")"
   ]
  },
  {
   "cell_type": "markdown",
   "id": "2d5b60a5-7864-402f-b2c4-9c50a937eac7",
   "metadata": {},
   "source": [
    "# Shape of the X-ray source\n",
    "\n",
    "As of today, gVXR supports 3 different source shapes:\n",
    "\n",
    "- Parallel beam;\n",
    "- Cone-beam:\n",
    "    - Ideal case, i.e. infinitesimal point source;\n",
    "    - Focal spot, i.e. more realistic.\n",
    "\n",
    "The parallel beam geometry corresponds to synchrotron sources. \n",
    "To create one, set the source position with `gvxr.setSourcePosition`, then call `gvxr.useParallelBeam()`.\n",
    "\n",
    "The cone-beam geometry corresponds to X-ray tubes. There are two cases. The first one is an infinitesimal point source. \n",
    "To create one, set the source position with `gvxr.setSourcePosition`, then call `gvxr.usePointSource()`. The image is sharp. \n",
    "\n",
    "However, it is more realistic to consider the actual focal spot size of the X-ray tube ([click for more details](https://www.creatis.insa-lyon.fr/~letang/x-ray-book/instrumentation.html#image-primitives). In reality, X-ray projections are blured. The blurring is due to i) the detector itself (the inherent unsharpnness) and we will see that in detail in the next Notebook, and ii) the non-punctuality of the source of radiation (geometric unsharpness). \n",
    "\n",
    "![geometric unsharpness](img/Unsharpness1.jpg)\n",
    "\n",
    "To create one, set the source position with `gvxr.setSourcePosition`, then call `gvxr.setFocalSpot(px, py, pz, s, units, N)`.\n",
    "`px`, `py`, and `pz` are three floating-point values used to set the size centre of the focal spot, and `s` the sie of the focal spot. `units` is a unit of length, e.g. `\"um\"`, `\"mm\"` or `\"cm\"`.\n",
    "In practice, this type of source is implemented by repeating several point sources within the focal spot. Integrating all the correspoding projections creates the geometric unsharpness. `N` is the number of sub-sources for each axis. \n",
    "\n",
    "<div class=\"alert alert-block alert-warning\">\n",
    "    <b>Note:</b> For one X-ray projection using the focal spot size, N<sup>3</sup> simulations with point sources are performed and integrated. If N is high, the simulation runtime will increase.\n",
    "</div>\n",
    "\n"
   ]
  },
  {
   "cell_type": "markdown",
   "id": "506dfcef-61ed-49c7-8505-90f8d870e15d",
   "metadata": {},
   "source": [
    "Before we carry on, we make sure to zoom in in the 3D visualisation."
   ]
  },
  {
   "cell_type": "code",
   "execution_count": 45,
   "id": "27872727-ba5c-4a71-ba7f-95d7c0c09179",
   "metadata": {},
   "outputs": [],
   "source": [
    "gvxr.setZoom(500)"
   ]
  },
  {
   "cell_type": "markdown",
   "id": "060f1929-54d8-4bc7-877c-1fde60ab06fd",
   "metadata": {},
   "source": [
    "---\n",
    "\n",
    "### Task:\n",
    "\n",
    "1. Set a monochromatic source. The photon energy is 100 keV. We use could `gvxr.setMonoChromatic(100,\"keV\",1)`;\n",
    "2. Use a point source;\n",
    "3. Set the source position to (0, 0, 20, \"cm\");\n",
    "4. Compute an X-ray image and store it in a variable called `xray_image_point_source`;\n",
    "5. Render the 3D visualisation with `gvxr.displayScene()`;\n",
    "6. Take a screenshot with `gvxr.takeScreenshot()` and store it in a variable called `screenshot_point_source`."
   ]
  },
  {
   "cell_type": "code",
   "execution_count": 46,
   "id": "0f881250-b23a-4acb-ad09-5b4f820930d1",
   "metadata": {},
   "outputs": [],
   "source": [
    "gvxr.setMonoChromatic(100, \"keV\", 1)\n",
    "gvxr.usePointSource()\n",
    "gvxr.setSourcePosition(0, 0, 20, \"cm\")\n",
    "xray_image_point_source = gvxr.computeXRayImage()\n",
    "gvxr.displayScene()\n",
    "screenshot_point_source = gvxr.takeScreenshot()"
   ]
  },
  {
   "cell_type": "markdown",
   "id": "e925bc6e-d946-4e6b-ba9e-05eed9cf9b73",
   "metadata": {},
   "source": [
    "---\n",
    "\n",
    "### Task:\n",
    "\n",
    "1. Use a parallel source;\n",
    "2. Compute an X-ray image and store it in a variable called `xray_image_parallel_source`;\n",
    "3. Render the 3D visualisation with `gvxr.displayScene()`;\n",
    "4. Take a screenshot with `gvxr.takeScreenshot()` and store it in a variable called `screenshot_parallel_source`."
   ]
  },
  {
   "cell_type": "code",
   "execution_count": 47,
   "id": "85d0a208-5bfd-4830-bd02-6d11dabd27a7",
   "metadata": {},
   "outputs": [],
   "source": [
    "gvxr.useParallelSource()\n",
    "xray_image_parallel_source = gvxr.computeXRayImage()\n",
    "gvxr.displayScene()\n",
    "screenshot_parallel_source = gvxr.takeScreenshot()"
   ]
  },
  {
   "cell_type": "markdown",
   "id": "89f72655-a0e7-4015-8662-ef8d9ae5e736",
   "metadata": {},
   "source": [
    "---\n",
    "\n",
    "### Task:\n",
    "\n",
    "1. Use a cone-beam geometry with a focal spot of 0.5 cm along the 3 axes. Its position is (0, 0, 20, \"cm\"). Use $3 \\times 3 \\times 3$ sub-sources, i.e. `N` = 3;\n",
    "2. Compute an X-ray image and store it in a variable called `xray_image_focal_spot`;\n",
    "3. Render the 3D visualisation with `gvxr.displayScene()`;\n",
    "4. Take a screenshot with `gvxr.takeScreenshot()` and store it in a variable called `screenshot_focal_spot`."
   ]
  },
  {
   "cell_type": "code",
   "execution_count": 48,
   "id": "9fb846a4-9a48-440a-9ca0-b3dc76fd4029",
   "metadata": {},
   "outputs": [],
   "source": [
    "gvxr.setFocalSpot(0, 0, 20, 0.5, \"cm\", 3)\n",
    "xray_image_focal_spot = gvxr.computeXRayImage()\n",
    "gvxr.displayScene()\n",
    "screenshot_focal_spot = gvxr.takeScreenshot()"
   ]
  },
  {
   "cell_type": "code",
   "execution_count": 49,
   "id": "0ea6bffc-7457-4da7-990d-4d86a5d0ac0a",
   "metadata": {},
   "outputs": [
    {
     "data": {
      "image/png": "[encoded data removed]",
      "text/plain": [
       "<Figure size 1700x750 with 9 Axes>"
      ]
     },
     "metadata": {},
     "output_type": "display_data"
    }
   ],
   "source": [
    "# plt.figure(figsize=(17, 7.5))\n",
    "\n",
    "# plt.suptitle(\"Image simulated with different source shapes in gVirtualXray\", y=0.75)\n",
    "fig, axs = plt.subplots(3, 3, figsize=(17, 7.5))\n",
    "\n",
    "\n",
    "axs[0, 0].imshow(xray_image_parallel_source, cmap=\"gray\")\n",
    "axs[0, 0].set_title(\"Parallel beam\")\n",
    "axs[0, 0].set_xticks([])\n",
    "axs[0, 0].set_yticks([])\n",
    "\n",
    "axs[0, 1].imshow(xray_image_point_source, cmap=\"gray\")\n",
    "axs[0, 1].set_title(\"Point source\")\n",
    "axs[0, 1].set_xticks([])\n",
    "axs[0, 1].set_yticks([])\n",
    "\n",
    "axs[0, 2].imshow(xray_image_focal_spot, cmap=\"gray\")\n",
    "axs[0, 2].set_title(\"Focal spot: 1 mm\")\n",
    "axs[0, 2].set_xticks([])\n",
    "axs[0, 2].set_yticks([])\n",
    "\n",
    "axs[1, 0].imshow(screenshot_parallel_source)\n",
    "axs[1, 0].set_xticks([])\n",
    "axs[1, 0].set_yticks([])\n",
    "\n",
    "axs[1, 1].imshow(screenshot_point_source)\n",
    "axs[1, 1].set_xticks([])\n",
    "axs[1, 1].set_yticks([])\n",
    "\n",
    "axs[1, 2].imshow(screenshot_focal_spot)\n",
    "axs[1, 2].set_xticks([])\n",
    "axs[1, 2].set_yticks([])\n",
    "\n",
    "axs[2, 0].plot(xray_image_parallel_source[300])\n",
    "axs[2, 1].plot(xray_image_point_source[300])\n",
    "axs[2, 2].plot(xray_image_focal_spot[300])\n",
    "\n",
    "plt.tight_layout()\n",
    "plt.margins(0,0)"
   ]
  },
  {
   "cell_type": "markdown",
   "id": "c3ea771d-9d50-4679-af71-996817b24abf",
   "metadata": {},
   "source": [
    "# X-ray spectrum\n",
    "\n",
    "The simulation software below makes it possible to calculate spectra as generated by the [X-ray generators](https://www.creatis.insa-lyon.fr/~letang/x-ray-book/instrumentation.html#x-ray-production) by specifying:\n",
    "- the high voltage U of electrons acceleration,\n",
    "- the thickness and the nature of the plate inserted.\n",
    "\n",
    "Certain quantities associated with the spectra are calculated at output in particular\n",
    "- the average energy of the photons of the spectrum,\n",
    "- the half-value layer (in mm of Al)."
   ]
  },
  {
   "cell_type": "code",
   "execution_count": 14,
   "id": "82b53338-86a4-46af-998e-f00ccbae40f4",
   "metadata": {},
   "outputs": [
    {
     "data": {
      "application/vnd.jupyter.widget-view+json": {
       "model_id": "2ef97bc91b7045dfa1986f6a9c1d4c49",
       "version_major": 2,
       "version_minor": 0
      },
      "text/plain": [
       "interactive(children=(IntText(value=100, description='High voltage (kV):', style=DescriptionStyle(description_…"
      ]
     },
     "metadata": {},
     "output_type": "display_data"
    }
   ],
   "source": [
    "%matplotlib inline\n",
    "import ipywidgets as widgets\n",
    "import utilities\n",
    "widgets.interact_manual(utilities.spectrum,E0=widgets.IntText(value=100,step=1,description=\"High voltage (kV):\",disabled=False,style={'description_width': 'initial'}),Mat_Z=widgets.Dropdown(options=[('Water',-1),('Aluminium',13),('Copper',29),('Lead',82)],value=-1,layout={'width': 'max-content'},description='Material:',style={'description_width': 'initial'}),Mat_X=widgets.FloatText(value=0.,step=0.01,description=\"Thickness (mm):\",disabled=False,style={'description_width': 'initial'}));\n"
   ]
  },
  {
   "cell_type": "code",
   "execution_count": null,
   "id": "d87e44fa-7dbc-4274-a884-9d7dc13a28f6",
   "metadata": {},
   "outputs": [],
   "source": []
  }
 ],
 "metadata": {
  "kernelspec": {
   "display_name": "Python 3 (ipykernel)",
   "language": "python",
   "name": "python3"
  },
  "language_info": {
   "codemirror_mode": {
    "name": "ipython",
    "version": 3
   },
   "file_extension": ".py",
   "mimetype": "text/x-python",
   "name": "python",
   "nbconvert_exporter": "python",
   "pygments_lexer": "ipython3",
   "version": "3.10.5"
  }
 },
 "nbformat": 4,
 "nbformat_minor": 5
}
