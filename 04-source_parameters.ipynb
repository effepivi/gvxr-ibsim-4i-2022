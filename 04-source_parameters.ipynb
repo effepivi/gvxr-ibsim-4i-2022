{
 "cells": [
  {
   "cell_type": "markdown",
   "id": "2d25fe86-499d-4755-82a2-9450c409fe7f",
   "metadata": {},
   "source": [
    "# Session 3\n",
    "\n",
    "## X-ray source parameters ![gVXR](img/gvxr_logo.png)\n",
    "\n",
    "## Authors: Ben Thorpe, Iwan Mitchel and Franck Vidal\n",
    "\n",
    "(version 1.0, 22 Sep 2022)"
   ]
  },
  {
   "cell_type": "markdown",
   "id": "2a6d76cd-fc3d-4ffb-ba94-f0391a4e5db4",
   "metadata": {},
   "source": [
    "# Aims of this session\n",
    "\n",
    "- Create X-ray sources of different shapes:\n",
    "    - Parallel beam (e.g. synchrotron);\n",
    "    - Cone-beam (e.g. X-ray tube);\n",
    "        - Ideal case, i.e. infinitesimal point source;\n",
    "        - Focal spot, i.e. more realistic.\n",
    "- Visualise the source shape;\n",
    "- Set the beam spectrum:\n",
    "    - Monochromatic;\n",
    "    - Polychromatic:\n",
    "        - By hand;\n",
    "        - Using a text file;\n",
    "        - Using [xpecgen](https://github.com/Dih5/xpecgen) (a python package to calculate x-ray spectra generated in tungsten anodes using the model of [Med. Phys. 43, 4655.](https://doi.org/10.1118/1.4955120))."
   ]
  },
  {
   "cell_type": "markdown",
   "id": "2cb803de-0094-473e-add4-54ed7be68e9e",
   "metadata": {},
   "source": [
    "# Task 1: Initialise the simulation environment\n",
    "\n",
    "At this stage, you should be able to set up the simulation environment. For now, you must:\n",
    "\n",
    "1. Import the packages \n",
    "    - `from gvxrPython3 import gvxr # Simulate X-ray images`\n",
    "    - `from gvxrPython3.utils import visualise` # Visualise the 3D environment if k3D is supported\n",
    "\n",
    "1. Create the OpenGL context with `gvxr.createWindow`\n",
    "2. Set the detector at position () in mm with `gvxr.setDetectorPosition`\n",
    "3. Set the detector up vector as () with `gvxr.setDetectorUpVector`\n",
    "4. Set the number of pixels: 600 along both directions with `gvxr.setDetectorNumberOfPixels`\n",
    "5. Set the pixel spacing:  with `gvxr.setDetectorPixelSize`\n",
    "6. Load the following samples\n",
    "\n",
    "| Label | fname | Material type | Material | Density |\n",
    "|-------|-------|---------------|----------|---------|\n",
    "| Matrix | input_data/plate_sphere_inserts/matrix.stl | Compound | H2O | 1g.cm3 |\n",
    "\n",
    "The functions you must use are:\n",
    "-  ``\n",
    "-  ``\n",
    "-  ``\n",
    "-  ``\n",
    "-  ``"
   ]
  },
  {
   "cell_type": "markdown",
   "id": "66767677-fb89-4dd7-982f-22072b2645df",
   "metadata": {},
   "source": [
    "## Step 1 of Task 1: Import the packages"
   ]
  },
  {
   "cell_type": "code",
   "execution_count": 9,
   "id": "ce2f272a-7923-47cf-baf9-053c16be2480",
   "metadata": {},
   "outputs": [
    {
     "name": "stdout",
     "output_type": "stream",
     "text": [
      "Speckpy is not install, you won't be able to load a beam spectrum using Speckpy\n",
      "SimpleGVXR 2.0.2 (2022-10-05T09:09:48) [Compiler: GNU g++] on Linux\n",
      "gVirtualXRay core library (gvxr) 2.0.2 (2022-10-05T09:09:48) [Compiler: GNU g++] on Linux\n"
     ]
    }
   ],
   "source": [
    "from gvxrPython3 import gvxr\n",
    "from gvxrPython3.utils import visualise\n",
    "\n"
   ]
  },
  {
   "cell_type": "markdown",
   "id": "cbf3b9d7-37ab-4179-9573-9fe1336c5d59",
   "metadata": {},
   "source": [
    "## Step 3 of Task 1: Create the OpenGL context"
   ]
  },
  {
   "cell_type": "code",
   "execution_count": 8,
   "id": "63925148-a241-419d-8048-7d5580a698e0",
   "metadata": {},
   "outputs": [
    {
     "name": "stderr",
     "output_type": "stream",
     "text": [
      "Wed Oct  5 11:22:27 2022 ---- Create window (ID: 0)\n",
      "Wed Oct  5 11:22:27 2022 ---- Query the number of EGL devices\n",
      "Wed Oct  5 11:22:27 2022 ---- Success\n",
      "Wed Oct  5 11:22:27 2022 ---- Detected 3 EGL devices.\n",
      "Wed Oct  5 11:22:27 2022 ---- Print the details here of every EGL device.\n",
      "Wed Oct  5 11:22:27 2022 ---- Success\n",
      "Wed Oct  5 11:22:27 2022 ---- Device 1/3:\n",
      "Wed Oct  5 11:22:27 2022 ---- \tDevice Extensions: EGL_NV_device_cuda EGL_EXT_device_drm EGL_EXT_device_drm_render_node EGL_EXT_device_persistent_id\n",
      "Wed Oct  5 11:22:27 2022 ---- \tDevice vendor: NVIDIA\n",
      "Wed Oct  5 11:22:27 2022 ---- \tEGL DRM device file: /dev/dri/card0\n",
      "Wed Oct  5 11:22:27 2022 ---- Device 2/3:\n",
      "Wed Oct  5 11:22:27 2022 ---- \tDevice Extensions: EGL_EXT_device_drm\n",
      "Wed Oct  5 11:22:27 2022 ---- \tFailed to retrieve device vendor.\n",
      "Wed Oct  5 11:22:27 2022 ---- \tEGL DRM device file: /dev/dri/card0\n",
      "Wed Oct  5 11:22:27 2022 ---- Device 3/3:\n",
      "Wed Oct  5 11:22:27 2022 ---- \tDevice Extensions: EGL_MESA_device_software\n",
      "Wed Oct  5 11:22:27 2022 ---- \tFailed to retrieve device vendor.\n",
      "Wed Oct  5 11:22:27 2022 ---- \tFailed to retrieve EGL DRM device file.\n",
      "Wed Oct  5 11:22:27 2022 ---- EGL client extensions: EGL_EXT_platform_base EGL_EXT_device_base EGL_EXT_device_enumeration EGL_EXT_device_query EGL_KHR_client_get_all_proc_addresses EGL_EXT_client_extensions EGL_KHR_debug EGL_KHR_platform_x11 EGL_EXT_platform_x11 EGL_EXT_platform_device EGL_KHR_platform_wayland EGL_EXT_platform_wayland EGL_KHR_platform_gbm EGL_MESA_platform_gbm EGL_MESA_platform_surfaceless\n",
      "Wed Oct  5 11:22:27 2022 ---- EGL, find the default display\n",
      "Wed Oct  5 11:22:27 2022 ---- \tSUCCESS\n",
      "Wed Oct  5 11:22:27 2022 ---- Initialise EGL\n",
      "Wed Oct  5 11:22:27 2022 ---- EGL version: 1.5\n",
      "Wed Oct  5 11:22:27 2022 ---- Bind the OpenGL API to EGL\n",
      "Wed Oct  5 11:22:27 2022 ---- Create the context\n",
      "Wed Oct  5 11:22:27 2022 ---- Create the surface\n",
      "Wed Oct  5 11:22:27 2022 ---- Make the context current\n",
      "Wed Oct  5 11:22:27 2022 ---- Initialise GLEW\n",
      "Wed Oct  5 11:22:27 2022 ---- OpenGL version supported by this platform 4.5.0 NVIDIA 510.73.08\n",
      "Wed Oct  5 11:22:27 2022 ---- OpenGL vendor:NVIDIA Corporation\n",
      "Wed Oct  5 11:22:27 2022 ---- OpenGL renderer:NVIDIA GeForce RTX 2080 Ti/PCIe/SSE2\n",
      "Wed Oct  5 11:22:27 2022 ---- OpenGL version:4.5.0 NVIDIA 510.73.08\n",
      "Wed Oct  5 11:22:27 2022 ---- Use OpenGL 4.5.\n",
      "Wed Oct  5 11:22:27 2022 ---- Initialise the X-ray renderer if needed and if possible\n"
     ]
    }
   ],
   "source": [
    "window_id = 0\n",
    "visible = False\n",
    "opengl_major_version = 4\n",
    "opengl_minor_version = 5\n",
    "backend = \"EGL\"\n",
    "gvxr.createWindow(window_id, visible, backend, opengl_major_version, opengl_minor_version);"
   ]
  },
  {
   "cell_type": "markdown",
   "id": "8e8ba4c2-091f-4b27-a996-f7d8f7dc2a06",
   "metadata": {},
   "source": [
    "## Step 3 of Task 1: Set the detector position"
   ]
  },
  {
   "cell_type": "code",
   "execution_count": null,
   "id": "c5f93344-616d-4c9e-9246-e850412afbe3",
   "metadata": {},
   "outputs": [],
   "source": [
    "gvxr.setDetectorNumberOfPixels(640,320)\n",
    "gvxr.setDetectorPixelSize(0.5,0.5,\"mm\")\n",
    "gvxr.setDetectorPosition(0.0,10.0,0.0,\"cm\")\n",
    "gvxr.setDetectorUpVector(0,0,-1)"
   ]
  },
  {
   "cell_type": "code",
   "execution_count": null,
   "id": "7c446360-f191-449f-aca6-6c533a65c21a",
   "metadata": {},
   "outputs": [],
   "source": []
  },
  {
   "cell_type": "markdown",
   "id": "c3ea771d-9d50-4679-af71-996817b24abf",
   "metadata": {},
   "source": [
    "# X-ray spectrum\n",
    "\n",
    "The simulation software below makes it possible to calculate spectra as generated by the [X-ray generators](https://www.creatis.insa-lyon.fr/~letang/x-ray-book/instrumentation.html#x-ray-production) by specifying:\n",
    "- the high voltage U of electrons acceleration,\n",
    "- the thickness and the nature of the plate inserted.\n",
    "\n",
    "Certain quantities associated with the spectra are calculated at output in particular\n",
    "- the average energy of the photons of the spectrum,\n",
    "- the half-value layer (in mm of Al)."
   ]
  },
  {
   "cell_type": "code",
   "execution_count": 3,
   "id": "82b53338-86a4-46af-998e-f00ccbae40f4",
   "metadata": {},
   "outputs": [
    {
     "data": {
      "application/vnd.jupyter.widget-view+json": {
       "model_id": "6ef88e39cfa14431af6fd1778d8cedad",
       "version_major": 2,
       "version_minor": 0
      },
      "text/plain": [
       "interactive(children=(IntText(value=100, description='High voltage (kV):', style=DescriptionStyle(description_…"
      ]
     },
     "metadata": {},
     "output_type": "display_data"
    }
   ],
   "source": [
    "%matplotlib inline\n",
    "import ipywidgets as widgets\n",
    "import utilities\n",
    "widgets.interact_manual(utilities.spectrum,E0=widgets.IntText(value=100,step=1,description=\"High voltage (kV):\",disabled=False,style={'description_width': 'initial'}),Mat_Z=widgets.Dropdown(options=[('Water',-1),('Aluminium',13),('Copper',29),('Lead',82)],value=-1,layout={'width': 'max-content'},description='Material:',style={'description_width': 'initial'}),Mat_X=widgets.FloatText(value=0.,step=0.01,description=\"Thickness (mm):\",disabled=False,style={'description_width': 'initial'}));\n"
   ]
  },
  {
   "cell_type": "code",
   "execution_count": null,
   "id": "d87e44fa-7dbc-4274-a884-9d7dc13a28f6",
   "metadata": {},
   "outputs": [],
   "source": []
  }
 ],
 "metadata": {
  "kernelspec": {
   "display_name": "Python 3 (ipykernel)",
   "language": "python",
   "name": "python3"
  },
  "language_info": {
   "codemirror_mode": {
    "name": "ipython",
    "version": 3
   },
   "file_extension": ".py",
   "mimetype": "text/x-python",
   "name": "python",
   "nbconvert_exporter": "python",
   "pygments_lexer": "ipython3",
   "version": "3.10.5"
  }
 },
 "nbformat": 4,
 "nbformat_minor": 5
}
