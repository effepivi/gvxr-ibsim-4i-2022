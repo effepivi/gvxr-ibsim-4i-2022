{
 "cells": [
  {
   "cell_type": "code",
   "execution_count": 13,
   "metadata": {
    "slideshow": {
     "slide_type": "skip"
    },
    "tags": []
   },
   "outputs": [],
   "source": [
    "%matplotlib widget"
   ]
  },
  {
   "cell_type": "markdown",
   "metadata": {
    "slideshow": {
     "slide_type": "slide"
    },
    "tags": []
   },
   "source": [
    "# Session 2.2\n",
    "\n",
    "## Multi-material samples with ![gVXR](img/gvxr_logo.png)\n",
    "\n",
    "## Authors: Ben Thorpe, Iwan Mitchel and Franck Vidal\n",
    "\n",
    "(version 1.0, 04 Oct 2022)"
   ]
  },
  {
   "cell_type": "markdown",
   "metadata": {},
   "source": [
    "# Aims of this session\n",
    "\n",
    "- Create X-ray simulations of samples involving multiple materials\n",
    "    - Multiple individual materials (e.g. a Copper pipe inside an Aluminium block)\n",
    "    - Metal Alloys and Mixtures\n",
    "    - Chemical Compounds\n",
    "- Visualise the effects of different materials on the resulting X-ray images"
   ]
  },
  {
   "cell_type": "markdown",
   "metadata": {
    "slideshow": {
     "slide_type": "subslide"
    },
    "tags": []
   },
   "source": [
    "## Working With Multiple materials\n",
    "In the previous notebook we had a single model made of a single material. The plan now is to work up to something a bit more interesting. A multi-part model using multiple different materials. The sample in question is a Turbo pump. This can be found as a 3D model consisting of series of stl files representing the different internal and external parts.\n",
    "\n",
    "![Screenshot of Paraview](img/Turbo_Pump.png)"
   ]
  },
  {
   "cell_type": "markdown",
   "metadata": {
    "slideshow": {
     "slide_type": "slide"
    },
    "tags": []
   },
   "source": [
    "## Import packages\n",
    "\n",
    "To get started we will need to import the required packages. The next cell is the same boilerplate code used in the previous notebook to set everything up for the session. Once again we don't need to know the exact details at this stage so for now we can safely run this cell and move on. However, for the curious the comments explain what the various packages are for.  "
   ]
  },
  {
   "cell_type": "code",
   "execution_count": 14,
   "metadata": {},
   "outputs": [],
   "source": [
    "import os\n",
    "import numpy as np # Who does not use Numpy?\n",
    "import matplotlib # To plot images\n",
    "import matplotlib.pyplot as plt # Plotting\n",
    "from matplotlib.colors import LogNorm # Look up table\n",
    "from matplotlib.colors import PowerNorm # Look up table\n",
    "\n",
    "font = {'family' : 'serif',\n",
    "         'size'   : 10\n",
    "       }\n",
    "matplotlib.rc('font', **font)\n",
    "\n",
    "# Uncomment the line below to use LaTeX fonts\n",
    "# matplotlib.rc('text', usetex=True)\n",
    "\n",
    "from tifffile import imread, imwrite # Write TIFF files\n",
    "\n",
    "import base64 # Save the visualisation\n",
    "\n",
    "from gvxrPython3 import gvxr # Simulate X-ray images\n",
    "from gvxrPython3.utils import saveProjections # Plot the X-ray image in linear, log and power law scales\n",
    "from gvxrPython3.utils import compareWithGroundTruth # Plot the ground truth, the test image, and the relative error map in %\n",
    "from gvxrPython3.utils import interactPlotPowerLaw # Plot the X-ray image using a Power law look-up table\n",
    "from gvxrPython3.utils import visualise # Visualise the 3D environment if k3D is supported\n",
    "#from gvxrPython3.utils import plotScreenshot # Visualise the 3D environment if Matplotlib is supported"
   ]
  },
  {
   "cell_type": "markdown",
   "metadata": {
    "slideshow": {
     "slide_type": "slide"
    },
    "tags": []
   },
   "source": [
    "## Create an OpenGL context\n",
    "\n",
    "As with the previous notebook we will need to create an OpenGL context using `gvxr.createWindow(window_id, visible, backend, opengl_major_version, opengl_minor_version)`\n",
    "\n",
    "For this tutorial (and the subsequent ones) we will stick with **\"EGL\"** for the backend, this is because we are using the Cloud for this training. On my PC and laptop, I would use \"OPENGL\" to enable an interactive 3D visualisation window. "
   ]
  },
  {
   "cell_type": "code",
   "execution_count": 15,
   "metadata": {},
   "outputs": [
    {
     "name": "stdout",
     "output_type": "stream",
     "text": [
      "Create an OpenGL context\n"
     ]
    },
    {
     "name": "stderr",
     "output_type": "stream",
     "text": [
      "Fri Oct  7 15:28:14 2022 ---- Create window (ID: 0)\n",
      "Fri Oct  7 15:28:14 2022 (WW) Window 0 already exists.\n"
     ]
    }
   ],
   "source": [
    "print(\"Create an OpenGL context\")\n",
    "\n",
    "window_id = 0\n",
    "opengl_major_version = 4\n",
    "opengl_minor_version = 5\n",
    "\n",
    "# gvxr.createOpenGLContext(window_id, opengl_major_version, opengl_minor_version);\n",
    "\n",
    "# backend = \"OPENGL\"\n",
    "# visible = True\n",
    "\n",
    "# gvxr.createWindow(window_id, visible, backend, opengl_major_version, opengl_minor_version);\n",
    "\n",
    "visible = False\n",
    "# gvxr.createWindow(window_id, visible, backend, opengl_major_version, opengl_minor_version);\n",
    "\n",
    "backend = \"EGL\"\n",
    "# visible has no effect with EGL\n",
    "gvxr.createWindow(window_id, visible, backend, opengl_major_version, opengl_minor_version);"
   ]
  },
  {
   "cell_type": "markdown",
   "metadata": {},
   "source": [
    "## Setting up the Scene\n",
    "Now that we have our OpenGL context we need to import the different pieces of the model and set the parameters for the source, detector ect.\n",
    "---\n",
    "## Task\n",
    "\n",
    "Using knowledge from, the previous notebook setup the scene as follows:\n",
    "- place a 300 KeV monochromatic X-Ray source of 100 photons at `x = 0`, `y = -40.0 cm`, `z = 0.0 cm`\n",
    "- place the X-Detector at `x = 0`, `y = -40.0 cm`, `z = 0.0 cm`\n",
    "- set the Detector to have 800 pixels in x and y spaced 0.7 mm apart in both directions. Also set the upVector to be along the negative z-axis i.e. (0.0,0.0,-1.0)\n",
    "- Import the 6 stl files, found in `input_data/TurboPump` each with appropriate unique id.\n",
    "- place the centre of the bounding box for each part at `x = 0`, `y = 20.0 cm`, `z = 0.0 cm`"
   ]
  },
  {
   "cell_type": "code",
   "execution_count": 16,
   "metadata": {},
   "outputs": [
    {
     "name": "stderr",
     "output_type": "stream",
     "text": [
      "Fri Oct  7 15:28:15 2022 ---- Initialise the renderer\n",
      "Fri Oct  7 15:28:15 2022 ---- file_name:\tinput_data/TurboPump/internals.stl\tnb_faces:\t87620\tnb_vertices:\t262860\tbounding_box (in cm):\t(-3.48613, -5.55, -3.48613)\t(3.48613, -0.735, 3.48613)\n",
      "Fri Oct  7 15:28:15 2022 (WW) Rendering in an hidden window may work, it may not.\n",
      "Fri Oct  7 15:28:15 2022 ---- file_name:\tinput_data/TurboPump/coupler.stl\tnb_faces:\t2532\tnb_vertices:\t7596\tbounding_box (in cm):\t(-4.13387, -11.365, -4.13387)\t(4.13387, -5.55, 4.13387)\n",
      "Fri Oct  7 15:28:15 2022 (WW) Rendering in an hidden window may work, it may not.\n",
      "Fri Oct  7 15:28:15 2022 ---- file_name:\tinput_data/TurboPump/front_flange.stl\tnb_faces:\t6120\tnb_vertices:\t18360\tbounding_box (in cm):\t(-11.425, 0, -11.425)\t(11.425, 3.535, 11.425)\n",
      "Fri Oct  7 15:28:15 2022 (WW) Rendering in an hidden window may work, it may not.\n",
      "Fri Oct  7 15:28:15 2022 ---- file_name:\tinput_data/TurboPump/rear_flange.stl\tnb_faces:\t10516\tnb_vertices:\t31548\tbounding_box (in cm):\t(-11.425, -15.535, -11.425)\t(11.425, -6.73, 11.425)\n",
      "Fri Oct  7 15:28:15 2022 (WW) Rendering in an hidden window may work, it may not.\n",
      "Fri Oct  7 15:28:15 2022 ---- file_name:\tinput_data/TurboPump/housing.stl\tnb_faces:\t33368\tnb_vertices:\t100104\tbounding_box (in cm):\t(-12.3086, -8.5025, -14.9408)\t(16.5171, 1.8975, 14.8965)\n",
      "Fri Oct  7 15:28:15 2022 (WW) Rendering in an hidden window may work, it may not.\n",
      "Fri Oct  7 15:28:15 2022 ---- file_name:\tinput_data/TurboPump/ThrustRollerBearing.stl\tnb_faces:\t26384\tnb_vertices:\t79152\tbounding_box (in cm):\t(-6.25, -9.27, -6.25)\t(6.25, -6.77, 6.25)\n",
      "Fri Oct  7 15:28:15 2022 (WW) Rendering in an hidden window may work, it may not.\n"
     ]
    }
   ],
   "source": [
    "gvxr.setSourcePosition(0.0 ,-40.0,0.0,\"cm\")\n",
    "gvxr.usePointSource()\n",
    "gvxr.setMonoChromatic(0.3,\"MeV\",1000)\n",
    "gvxr.setDetectorNumberOfPixels(800,800)\n",
    "gvxr.setDetectorPixelSize(0.7,0.7,\"mm\")\n",
    "gvxr.setDetectorPosition(0.0,30.0,0.0,\"cm\")\n",
    "gvxr.setDetectorUpVector(0,0,-1)\n",
    "\n",
    "parts_list = [\"internals\",\"coupler\",\"front_flange\",\"rear_flange\",\"housing\",\"roller_bearing\"]\n",
    "\n",
    "part_files = [\"input_data/TurboPump/internals.stl\",\n",
    "               \"input_data/TurboPump/coupler.stl\",\n",
    "               \"input_data/TurboPump/front_flange.stl\",\n",
    "               \"input_data/TurboPump/rear_flange.stl\",\n",
    "               \"input_data/TurboPump/housing.stl\",\n",
    "               \"input_data/TurboPump/ThrustRollerBearing.stl\"]\n",
    "               \n",
    "for i,name in enumerate(parts_list):\n",
    "     gvxr.loadMeshFile(name,part_files[i],\"mm\")\n",
    "     gvxr.translateNode(name,0.0,-20.0,0.0,\"cm\")\n",
    "     gvxr.moveToCentre()\n",
    "     gvxr.displayScene()\n",
    "     \n",
    "#plotScreenshot()\n"
   ]
  },
  {
   "cell_type": "markdown",
   "metadata": {},
   "source": [
    "## Working with basic Chemical Elements\n",
    "\n",
    "We know from the theory that the attenuation of the X-Ray beam is directly dependant on:\n",
    "- The beam energy\n",
    "- The material density\n",
    "- The materials Z number.\n",
    "\n",
    "Thus by changing the material of the sample we will change the amount of attenuation, and hence end up with a lighter, or darker image.\n",
    "\n",
    "![Periodic table](img/03-PeriodicTable.png)[^1]\n",
    "\n",
    "[^1]: Image of periodic table from https://sciencenotes.org/wp-content/uploads/2014/11/PeriodicTableWallpaper1.png"
   ]
  },
  {
   "cell_type": "markdown",
   "metadata": {},
   "source": [
    "---\n",
    "## Task\n",
    "We saw in the previous notebook how to use the `setElement(ID,Element)` function to change the element that the sample is made from. Remember `ID` is a string that acts a label for the model. whilst `element` can be the symbol, full name or atomic number of any of the first 100 elements in the periodic table.\n",
    "\n",
    "For this task we have deliberately chosen an beam energy such that light elements will be appear quite transparent. Whilst heavier elements will appear opaque.\n",
    "\n",
    "With this in mind try setting different part of the model to different elements and computing the resulting xray images. We suggest setting the internal structures (internals.stl, coupler.stl and ThrustRollerBearing.stl) to something nice and heavy like Iron. whilst the external parts can be set to something lighter like Titanium, Aluminum or even Carbon to allow you to see the parts inside. \n",
    "\n",
    "Also as a bonus exercise try imaging the model from, that is rotated 90 degrees around the x-axis."
   ]
  },
  {
   "cell_type": "code",
   "execution_count": 19,
   "metadata": {},
   "outputs": [
    {
     "ename": "RuntimeError",
     "evalue": "Error: No properties set\n\t- in File: /io/gvxr/src/Utilities/PhotonCrossSection.cxx\n\t- in Function: getDensity\n\t- at Line: 228\n",
     "output_type": "error",
     "traceback": [
      "\u001b[0;31m---------------------------------------------------------------------------\u001b[0m",
      "\u001b[0;31mRuntimeError\u001b[0m                              Traceback (most recent call last)",
      "Cell \u001b[0;32mIn [19], line 7\u001b[0m\n\u001b[1;32m      4\u001b[0m      gvxr\u001b[39m.\u001b[39msetElement(name, materials[i])\n\u001b[1;32m      6\u001b[0m \u001b[39m#plotScreenshot()\u001b[39;00m\n\u001b[0;32m----> 7\u001b[0m xray_image_front \u001b[39m=\u001b[39m np\u001b[39m.\u001b[39marray(gvxr\u001b[39m.\u001b[39mcomputeXRayImage())\u001b[39m.\u001b[39mastype(np\u001b[39m.\u001b[39msingle)\n\u001b[1;32m      9\u001b[0m \u001b[39m# for i,name in enumerate(parts_list):\u001b[39;00m\n\u001b[1;32m     10\u001b[0m \u001b[39m#      gvxr.moveToCentre()\u001b[39;00m\n\u001b[1;32m     11\u001b[0m \u001b[39m#      gvxr.translateNode(name,0.0,0.0,4.0,\"cm\")\u001b[39;00m\n\u001b[1;32m     12\u001b[0m \u001b[39m#      gvxr.rotateNode(name, 90, 1, 0, 0)\u001b[39;00m\n\u001b[1;32m     13\u001b[0m \n\u001b[1;32m     14\u001b[0m \u001b[39m# xray_image_side = np.array(gvxr.computeXRayImage()).astype(np.single)\u001b[39;00m\n\u001b[1;32m     16\u001b[0m plt\u001b[39m.\u001b[39mfigure(figsize\u001b[39m=\u001b[39m(\u001b[39m10\u001b[39m, \u001b[39m5\u001b[39m))\n",
      "File \u001b[0;32m~/.conda/envs/gvxr-ibsim/lib/python3.10/site-packages/gvxrPython3/_gvxrPython3/temp_gvxrPython3.py:3409\u001b[0m, in \u001b[0;36mcomputeXRayImage\u001b[0;34m(anIntegrateEnergyFlag)\u001b[0m\n\u001b[1;32m   3389\u001b[0m \u001b[39mdef\u001b[39;00m \u001b[39mcomputeXRayImage\u001b[39m(anIntegrateEnergyFlag\u001b[39m=\u001b[39m\u001b[39mTrue\u001b[39;00m):\n\u001b[1;32m   3390\u001b[0m     \u001b[39mr\u001b[39m\u001b[39m\"\"\"\u001b[39;00m\n\u001b[1;32m   3391\u001b[0m \n\u001b[1;32m   3392\u001b[0m \n\u001b[0;32m   (...)\u001b[0m\n\u001b[1;32m   3407\u001b[0m \n\u001b[1;32m   3408\u001b[0m \u001b[39m    \"\"\"\u001b[39;00m\n\u001b[0;32m-> 3409\u001b[0m     \u001b[39mreturn\u001b[39;00m _temp_gvxrPython3\u001b[39m.\u001b[39;49mcomputeXRayImage(anIntegrateEnergyFlag)\n",
      "\u001b[0;31mRuntimeError\u001b[0m: Error: No properties set\n\t- in File: /io/gvxr/src/Utilities/PhotonCrossSection.cxx\n\t- in Function: getDensity\n\t- at Line: 228\n"
     ]
    }
   ],
   "source": [
    "materials = [\"Fe\",\"Fe\",\"Al\",\"Al\",\"Al\",\"Fe\"]\n",
    "\n",
    "for i,name in enumerate(parts_list):\n",
    "     gvxr.setElement(name, materials[i])\n",
    "\n",
    "#plotScreenshot()\n",
    "xray_image_front = np.array(gvxr.computeXRayImage()).astype(np.single)\n",
    "\n",
    "# for i,name in enumerate(parts_list):\n",
    "#      gvxr.moveToCentre()\n",
    "#      gvxr.translateNode(name,0.0,0.0,4.0,\"cm\")\n",
    "#      gvxr.rotateNode(name, 90, 1, 0, 0)\n",
    "\n",
    "# xray_image_side = np.array(gvxr.computeXRayImage()).astype(np.single)\n",
    "\n",
    "plt.figure(figsize=(10, 5))\n",
    "plt.title(\"Image simulated using gVirtualXray\\nusing a linear colour scale\")\n",
    "plt.imshow(xray_image_front, cmap=\"gray\")\n",
    "plt.colorbar(orientation='vertical');\n",
    "plt.margins(0,0)"
   ]
  },
  {
   "cell_type": "markdown",
   "metadata": {},
   "source": [
    "## Alloys and Mixtures"
   ]
  },
  {
   "cell_type": "markdown",
   "metadata": {},
   "source": [
    "Note: According to [World Materail](https://www.theworldmaterial.com/stainless-steel-chemical-composition/) US SAE standard 305 stainless steel consists of 0.12% Carbon, 2.00% Manganese, 0.03% Sulphur, 1.00% Si, 19.0% Chromium, 11.0% Ni with the rest Iron (66.85%)"
   ]
  },
  {
   "cell_type": "markdown",
   "metadata": {},
   "source": []
  },
  {
   "cell_type": "code",
   "execution_count": null,
   "metadata": {},
   "outputs": [],
   "source": [
    "gvxr.terminate()"
   ]
  }
 ],
 "metadata": {
  "kernelspec": {
   "display_name": "Python 3 (ipykernel)",
   "language": "python",
   "name": "python3"
  },
  "language_info": {
   "codemirror_mode": {
    "name": "ipython",
    "version": 3
   },
   "file_extension": ".py",
   "mimetype": "text/x-python",
   "name": "python",
   "nbconvert_exporter": "python",
   "pygments_lexer": "ipython3",
   "version": "3.10.4"
  },
  "vscode": {
   "interpreter": {
    "hash": "585e9fc9b818a92a95ff682530f87f6de2c4282b8239c594bde282f49476a8c7"
   }
  }
 },
 "nbformat": 4,
 "nbformat_minor": 4
}
