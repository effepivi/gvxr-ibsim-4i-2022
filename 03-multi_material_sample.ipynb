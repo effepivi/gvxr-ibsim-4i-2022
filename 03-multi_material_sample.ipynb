{
 "cells": [
  {
   "cell_type": "code",
   "execution_count": null,
   "metadata": {
    "slideshow": {
     "slide_type": "skip"
    },
    "tags": []
   },
   "outputs": [],
   "source": [
    "%matplotlib widget"
   ]
  },
  {
   "cell_type": "markdown",
   "metadata": {
    "slideshow": {
     "slide_type": "slide"
    },
    "tags": []
   },
   "source": [
    "# Session 2.2\n",
    "\n",
    "## Multi-material samples with ![gVXR](img/gvxr_logo.png)\n",
    "\n",
    "## Authors: Ben Thorpe, Iwan Mitchel and Franck Vidal\n",
    "\n",
    "(version 1.0, 04 Oct 2022)"
   ]
  },
  {
   "cell_type": "markdown",
   "metadata": {},
   "source": [
    "# Aims of this session\n",
    "\n",
    "- Create X-ray simulations of samples involving multiple materials\n",
    "    - Multiple individual materials (e.g. a Copper pipe inside an Aluminium block)\n",
    "    - Metal Alloys and Mixtures\n",
    "    - Chemical Compounds\n",
    "- Visualise the effects of different materials on the resulting X-ray images"
   ]
  },
  {
   "cell_type": "markdown",
   "metadata": {
    "slideshow": {
     "slide_type": "subslide"
    },
    "tags": []
   },
   "source": [
    "## Working With Multiple materials\n",
    "In the previous notebook we had a single model made of a single material. The plan now is to work up to something a bit more interesting. A multi-part model using multiple different materials. The sample in question is a Turbo pump[^1]. This can be found as a 3D model consisting of series of stl files representing the different internal and external parts.\n",
    "\n",
    "![Screenshot of Paraview](img/Turbo_Pump.png)\n",
    "\n",
    "[^1]: https://grabcad.com/library/turbo-pump-50/details?folder_id=8605076"
   ]
  },
  {
   "cell_type": "markdown",
   "metadata": {
    "slideshow": {
     "slide_type": "slide"
    },
    "tags": []
   },
   "source": [
    "## Import packages\n",
    "\n",
    "To get started we will need to import the required packages. The next cell is the same boilerplate code used in the previous notebook to set everything up for the session. Once again we don't need to know the exact details at this stage so for now we can safely run this cell and move on. However, for the curious the comments explain what the various packages are for.  "
   ]
  },
  {
   "cell_type": "code",
   "execution_count": null,
   "metadata": {},
   "outputs": [],
   "source": [
    "import os\n",
    "import numpy as np # Who does not use Numpy?\n",
    "import matplotlib # To plot images\n",
    "import matplotlib.pyplot as plt # Plotting\n",
    "from matplotlib.colors import LogNorm # Look up table\n",
    "from matplotlib.colors import PowerNorm # Look up table\n",
    "\n",
    "font = {'family' : 'serif',\n",
    "         'size'   : 10\n",
    "       }\n",
    "matplotlib.rc('font', **font)\n",
    "\n",
    "# Uncomment the line below to use LaTeX fonts\n",
    "# matplotlib.rc('text', usetex=True)\n",
    "\n",
    "from tifffile import imread, imwrite # Write TIFF files\n",
    "\n",
    "import base64 # Save the visualisation\n",
    "\n",
    "from gvxrPython3 import gvxr # Simulate X-ray images\n",
    "from gvxrPython3.utils import saveProjections # Plot the X-ray image in linear, log and power law scales\n",
    "from gvxrPython3.utils import compareWithGroundTruth # Plot the ground truth, the test image, and the relative error map in %\n",
    "from gvxrPython3.utils import interactPlotPowerLaw # Plot the X-ray image using a Power law look-up table\n",
    "from gvxrPython3.utils import visualise # Visualise the 3D environment if k3D is supported\n",
    "from gvxrPython3.utils import plotScreenshot # Visualise the 3D environment if Matplotlib is supported"
   ]
  },
  {
   "cell_type": "markdown",
   "metadata": {
    "slideshow": {
     "slide_type": "slide"
    },
    "tags": []
   },
   "source": [
    "## Create an OpenGL context\n",
    "\n",
    "As with the previous notebook we will need to create an OpenGL context using `gvxr.createWindow(window_id, visible, backend, opengl_major_version, opengl_minor_version)`\n",
    "\n",
    "For this tutorial (and the subsequent ones) we will stick with **\"EGL\"** for the backend, this is because we are using the Cloud for this training. On my PC and laptop, I would use \"OPENGL\" to enable an interactive 3D visualisation window. "
   ]
  },
  {
   "cell_type": "code",
   "execution_count": null,
   "metadata": {},
   "outputs": [],
   "source": [
    "print(\"Create an OpenGL context\")\n",
    "\n",
    "window_id = 0\n",
    "opengl_major_version = 4\n",
    "opengl_minor_version = 5\n",
    "\n",
    "# gvxr.createOpenGLContext(window_id, opengl_major_version, opengl_minor_version);\n",
    "\n",
    "# backend = \"OPENGL\"\n",
    "# visible = True\n",
    "\n",
    "# gvxr.createWindow(window_id, visible, backend, opengl_major_version, opengl_minor_version);\n",
    "\n",
    "visible = False\n",
    "# gvxr.createWindow(window_id, visible, backend, opengl_major_version, opengl_minor_version);\n",
    "\n",
    "backend = \"EGL\"\n",
    "# visible has no effect with EGL\n",
    "gvxr.createWindow(window_id, visible, backend, opengl_major_version, opengl_minor_version);"
   ]
  },
  {
   "cell_type": "markdown",
   "metadata": {},
   "source": [
    "## Setting up the Scene\n",
    "\n",
    "Now that we have our OpenGL context we need to import the different pieces of the model and set the parameters for the source, detector ect.\n",
    "\n",
    "---\n",
    "## Task\n",
    "\n",
    "Using knowledge from, the previous notebook setup the scene as follows:\n",
    "- place a 300 KeV monochromatic X-Ray source of 1000 photons at `x = 0`, `y = -40.0 cm`, `z = 0.0 cm`\n",
    "- place the X-Detector at `x = 0`, `y = 30.0 cm`, `z = 0.0 cm`\n",
    "- set the Detector to have 800 pixels in x and y spaced 0.7 mm apart in both directions. Also set the upVector to be along the negative z-axis i.e. (0.0,0.0,-1.0)\n",
    "- Import the 6 stl files, found in `input_data/TurboPump` each with appropriate unique id.\n",
    "- place the centre of the bounding box of the pump at `x = 0`, `y = 20.0 cm`, `z = 0.0 cm`"
   ]
  },
  {
   "cell_type": "code",
   "execution_count": null,
   "metadata": {},
   "outputs": [],
   "source": []
  },
  {
   "cell_type": "markdown",
   "metadata": {},
   "source": [
    "## Working with basic Chemical Elements\n",
    "\n",
    "We know from the theory that the attenuation of the X-Ray beam is directly dependant on:\n",
    "- The beam energy\n",
    "- The material density\n",
    "- The materials Z number.\n",
    "\n",
    "Thus by changing the material of the sample we will change the amount of attenuation, and hence end up with a lighter, or darker image.\n",
    "\n",
    "![Periodic table](img/03-PeriodicTable.png)[^1]\n",
    "\n",
    "[^1]: Image of periodic table from https://sciencenotes.org/wp-content/uploads/2014/11/PeriodicTableWallpaper1.png"
   ]
  },
  {
   "cell_type": "markdown",
   "metadata": {},
   "source": [
    "---\n",
    "## Task\n",
    "We saw in the previous notebook how to use the `setElement(ID,Element)` function to change the element that the sample is made from. Remember `ID` is a string that acts a label for the model. whilst `Element` can be the symbol, full name or atomic number of any of the first 100 elements in the periodic table.\n",
    "\n",
    "For this task we have deliberately chosen a beam energy such that light elements will be appear quite transparent. Whilst heavier elements will still appear opaque.\n",
    "\n",
    "With this in mind try setting different part of the model to different elements and computing the resulting xray images. We suggest setting the internal structures (internals.stl, coupler.stl and ThrustRollerBearing.stl) to something nice and heavy like Iron. whilst the external parts can be set to something lighter like Titanium, Aluminum or even Carbon to allow you to see the parts inside. \n",
    "\n",
    "Also as a bonus exercise try imaging the model from the side, that is rotated 90 degrees around the x-axis. Note: You may want/need to reposition the model to get a decent image."
   ]
  },
  {
   "cell_type": "code",
   "execution_count": null,
   "metadata": {},
   "outputs": [],
   "source": []
  },
  {
   "cell_type": "markdown",
   "metadata": {},
   "source": [
    "## Alloys and Mixtures"
   ]
  },
  {
   "cell_type": "markdown",
   "metadata": {},
   "source": [
    "Now obviously the world is a complex place and many materials are made from mixtures of different elements. To define these in GVXR we will use a different function `gvxr.setMixture(ID,Elements,Amounts)`. Here ID is, once again a label for the model, elements is a list of atomic number for all the elements in the mixture (note: names and symbols don't currently work) and amounts are the relative amounts of each element (out of 100%). You will also need to specify the density of the mixture using `gvvxr.setDensity(ID,density,units)` in this case density is a number and units is a string that denote the units used (in this case the only allowed values are `\"g/cm3\"` or `\"g.cm-3\"`).\n",
    "\n",
    "---\n",
    "## Task:\n",
    "The next task is to set any one part of your choice from the turbo-pump model to be made from stainless steel and plot both the origional and new X-ray images side by side.\n",
    "\n",
    "In this case we will use US SAE standard 305 stainless steel which according to [World Materail](https://www.theworldmaterial.com/stainless-steel-chemical-composition/) has a density of 8 g/cm^-3 and consists of:\n",
    "|Element|relative percentage|\n",
    "|---|---|\n",
    "|Carbon|0.12|\n",
    "|Manganese|2.00|\n",
    "|Si|1.00|\n",
    "|Chromium|19.0|\n",
    "|Ni|11.0|\n",
    "|Iron|66.85|\n",
    "\n",
    "Note: unless you have a particularly good monitor small differences in greyscale can be somewhat difficult to see. So to show the difference more clearly you may find it easier using either a different colormap (matplotlib has a number you can choose [from](https://matplotlib.org/stable/tutorials/colors/colormaps.html)) or you can use the `compareWithGroundTruth()` function. "
   ]
  },
  {
   "cell_type": "code",
   "execution_count": null,
   "metadata": {},
   "outputs": [],
   "source": [
    "\n"
   ]
  },
  {
   "cell_type": "markdown",
   "metadata": {},
   "source": [
    "## Working with compounds\n",
    "\n",
    "Working with compounds is much the same as mixtures, the main difference being you use a chemical formulae to define the relative amounts of each element eg. carbon dioxide: \"CO2\" as opposed to exact percentages. GVXR allows this by using the `gvxr.setCompound(ID, Formulae)` where Formulae is a string representing the chemical formula of the compound you wish to use. For example water would be \"H2O\", methane would be \"CH4\", Silicon carbide would be \"SiC\" ect ...\n",
    "\n",
    "Note: when using this we still need to explicitly set the density using `gvxr.setDensity()`.\n",
    "\n",
    "---\n",
    "## Task: \n",
    "\n",
    "For the final task set a part of the pump of your choice to be made from Titanium dioxide (the formulae for which is TiO2) which for the record has a density of 4.7 g/cm^-3 [^2].\n",
    "\n",
    "[^2]:  Haynes, W.M. (ed.). CRC Handbook of Chemistry and Physics. 94th Edition. CRC Press LLC, Boca Raton: FL 2013-2014, p. 4-96"
   ]
  },
  {
   "cell_type": "code",
   "execution_count": null,
   "metadata": {},
   "outputs": [],
   "source": []
  },
  {
   "cell_type": "code",
   "execution_count": null,
   "metadata": {},
   "outputs": [],
   "source": [
    "gvxr.terminate()"
   ]
  }
 ],
 "metadata": {
  "kernelspec": {
   "display_name": "Python 3 (ipykernel)",
   "language": "python",
   "name": "python3"
  },
  "language_info": {
   "codemirror_mode": {
    "name": "ipython",
    "version": 3
   },
   "file_extension": ".py",
   "mimetype": "text/x-python",
   "name": "python",
   "nbconvert_exporter": "python",
   "pygments_lexer": "ipython3",
   "version": "3.10.5"
  },
  "vscode": {
   "interpreter": {
    "hash": "585e9fc9b818a92a95ff682530f87f6de2c4282b8239c594bde282f49476a8c7"
   }
  }
 },
 "nbformat": 4,
 "nbformat_minor": 4
}
