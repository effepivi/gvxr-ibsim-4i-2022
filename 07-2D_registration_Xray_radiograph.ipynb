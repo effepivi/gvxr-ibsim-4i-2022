{
 "cells": [
  {
   "cell_type": "code",
   "execution_count": null,
   "id": "3b2f5e55-ee72-42f2-a87e-7ba439562c01",
   "metadata": {},
   "outputs": [],
   "source": [
    "%matplotlib inline"
   ]
  },
  {
   "cell_type": "markdown",
   "id": "e0c8fffe-70e1-475c-aaa6-ecdf67223ef7",
   "metadata": {
    "tags": []
   },
   "source": [
    "## Aims of this session\n",
    "\n",
    "- Introduction to registration techniques\n",
    "- Introduction to optimisers\n",
    "- Learn how to use gVirtualXRay and CMA-ES to register sample location"
   ]
  },
  {
   "cell_type": "markdown",
   "id": "fd2872a6-d233-4a1c-86c4-0c558a358b6f",
   "metadata": {
    "tags": []
   },
   "source": [
    "## Introduction to simulated real experiments\n",
    "\n",
    "As you have seen, gVXR provides a strong basis for running x-ray simulations. With the speed provided of GPU acceleration, we are able to quickly produce accurate images.\n",
    "However, X-ray scanners are never perfect, and a large amount of facts influence the final result. We are able to try and paramaterise these scanning artefacts, and with the use of rapid simulations, obtain images closer to the ground truth.\n",
    "\n",
    "Some examples of artefacts are polychromatic beam spectra, material density, detector energy response, line spread functions, etc. In this session we will take a look at sample positioning as a use case, but the same approach can be used for all methods.\n",
    "\n",
    "<!-- \n",
    "- gvxr is able to account for most real artefact sources\n",
    "- therefore we should be able to recreate real experiment scenarios\n",
    "- however, we can't know a bunch of paramaters just from scans, inc exact sample positioning\n",
    "- with the strength of fast simulations, we can perform optimisation loops to discovered these paramaters -->"
   ]
  },
  {
   "cell_type": "markdown",
   "id": "7b1aacbc-b062-4529-a377-40f9531ffff0",
   "metadata": {},
   "source": [
    "## Quick explanation of registration with CMA-ES stochastic optimizer\n",
    "\n",
    "Image Registration in xCT is a method to align images on the same set of coordinates.\n",
    "\n",
    "\n",
    "- What is registration\n",
    "- Quick mention of 'scoring' images\n",
    "- Optimiser changes paramaters to get a reduced (error) score\n",
    "- What is Covariance Matrix Adaption-Evolution Strategy?\n",
    "    - https://arxiv.org/abs/1604.00772\n",
    "- What does this mean for us?"
   ]
  },
  {
   "cell_type": "markdown",
   "id": "295e42b4-4060-49fa-ae73-84980641e77b",
   "metadata": {},
   "source": [
    "## Task 2: Using gvxr, register a plexiglass cube to locate its position\n",
    "- We know how to change the position of models in gvxr, use cma-es to adjust these paramaters\n",
    "- As a task, create your own scoring function with help from the previous task\n",
    "- How fast does yours converge? is it a good result?\n",
    "\n",
    "- plexiglass data has a lot of post-processing due to using a medical device\n",
    "    - we have no idea what these methods are\n",
    "    - includes a sharpening filter, hence the edges"
   ]
  },
  {
   "cell_type": "markdown",
   "id": "8cf5b6de-7ff4-4877-ac0c-98845f676d12",
   "metadata": {},
   "source": [
    "**Main contributors:** F. P. Vidal and Jenna Allsup\n",
    "\n",
    "**Purpose:** In this notebook, we aim to demonstrate that gVirtualXRay is able to generate analytic simulations on GPU comparable to X-ray radiographs taken with a clinically utilised equipment. Such devices often produce images in negative and image filtering, such as image sharpening, may alter their appearance. Another issue is the lack of flat-field correction to account for variations in the pixel-to-pixel sensitivity of the detector. \n",
    "\n",
    "**Material and Methods:** We simulate an image with gVirtualXRay and compare it with a ground truth image. For this purpose, we use a real radiograph of a plexiglass (PMMA) block. Its size is 32x27x4cm. The simulated geometry is registered using numerical optimisation so that its location and orientation match those of the real PMMA block. The source-to-object distance (SOD) and the source-to-detector distance (SDD) are also optimised. The initial estimation of the SDD is 130cm. The beam spectrum is polychromatic and the energy response of the detector is considered. The pixel-to-pixel sensitivity of the detector is corrected in the real radiograph. A plausible image sharpening filter is also integrated and optimised to mimic the appearance of a real image. Photon noise is also added to increase realism. The amount of noise is estimated for the real radiograph and optimised in the simulated image.\n",
    "\n",
    "**Results:** The [mean absolute percentage error (MAPE)](https://en.wikipedia.org/wiki/Mean_absolute_percentage_error), also known as mean absolute percentage deviation (MAPD), between the real radiograph and the simulated image without noise and with noise. The **[zero-mean normalised cross-correlation](https://en.wikipedia.org/wiki/Cross-correlation#Zero-normalized_cross-correlation_(ZNCC)) and **[Structural Similarity Index (SSIM)](https://en.wikipedia.org/wiki/Structural_similarity)** are also used.\n",
    "\n",
    "The **ZNCC** between the experimental digital radiograph and the simulated image is **98.56%**. The value is extremely close to 100%. The **SSIM** is **0.93**. The value is extremely close to 1.0. These results show that the simulated image is similar to the real X-ray radiograph acquired with a medical device. MAPE is, however, **10.84%**. The difference between the real X-ray radiograph and the simulated image is due to the sharpening filter (we do not actually know how the manufacturer implemented it) and the pixel-to-pixel sensitivity of the detector (even after correction the horizontal profile in the middle of the real X-ray radiograph is not flat)."
   ]
  },
  {
   "cell_type": "markdown",
   "id": "07b07c47-4b93-412b-887e-6c1ecab2aa5a",
   "metadata": {},
   "source": [
    "# Import packages\n",
    "\n",
    "- Pretty common stuff: re, sys, os, math, copy, numpy\n",
    "- cma for optimisation (minimisation of an objective function)\n",
    "- gvxrPython3 to simulate X-ray images\n",
    "- imageio to generate a GIF file\n",
    "- matplotlib to plot graphs and display images\n",
    "- scikit-image for comparing images and for implementing the image sharpening filter\n",
    "- scikit-learn for computing the image comparison\n",
    "- scipy for resampling the beam spectrum\n",
    "- SimpleITK to load the medical DICOM file\n",
    "- spekpy to generate a beam spectrum\n",
    "- tifffile to load and save TIFF images in Float32"
   ]
  },
  {
   "cell_type": "code",
   "execution_count": null,
   "id": "5ab15907-7d71-4b39-8e84-cf90664253b6",
   "metadata": {},
   "outputs": [],
   "source": [
    "import os, math\n",
    "\n",
    "import numpy as np # Who does not use Numpy?\n",
    "\n",
    "import matplotlib # Plot graphs and display images\n",
    "\n",
    "font = {'family' : 'serif',\n",
    "        #'weight' : 'bold',\n",
    "         'size'   : 12.5\n",
    "       }\n",
    "matplotlib.rc('font', **font)\n",
    "\n",
    "import matplotlib.pyplot as plt # Plotting\n",
    "\n",
    "from tifffile import imwrite, imread # Load and save TIFF images in Float32\n",
    "import imageio # Generate a GIF file\n",
    "\n",
    "import SimpleITK as sitk # Load the medical DICOM file\n",
    "\n",
    "import cma # Optimisation (minimisation of an objective function)\n",
    "\n",
    "from gvxrPython3.utils import compareWithGroundTruth # Plot the ground truth, the test image, and the relative error map in %\n",
    "\n",
    "from gvxrPython3 import gvxr # Simulate X-ray images\n",
    "from gvxrPython3.utils import loadSpectrumXpecgen # Generate and load an X-ray spectrum using xpecgen\n",
    "from IPython.display import display, Image\n",
    "from skimage.util import compare_images\n",
    "\n",
    "# import re, sys, os, math, copy\n",
    "\n",
    "\n",
    "# # old_backend =  matplotlib.get_backend() \n",
    "# # matplotlib.use(\"Agg\")  # Prevent showing stuff\n",
    "\n",
    "# from matplotlib.cm import get_cmap\n",
    "# from matplotlib.colors import LogNorm # Look up table\n",
    "# from matplotlib.colors import PowerNorm # Look up table\n",
    "# import matplotlib.colors as mcolors\n",
    "\n",
    "# matplotlib.rc('text', usetex=True)\n",
    "\n",
    "from skimage.filters import gaussian # Implementing the image sharpening filter\n",
    "from skimage.metrics import structural_similarity as ssim # Quantifying the similarities between the simulated image and the ground truth\n",
    "# # from sklearn.metrics import mean_squared_error # For the objective function\n",
    "# # from sklearn.metrics import mean_absolute_percentage_error as mape # Quantifying the difference between the simulated image and the ground truth\n",
    "# from scipy import signal # Resampling the beam spectrum\n",
    "# # import spekpy as sp # Generate a beam spectrum\n",
    "\n",
    "import datetime # For the runtime\n",
    "\n",
    "# from utils import *"
   ]
  },
  {
   "cell_type": "markdown",
   "id": "10c44b8a-46c5-47c6-959e-669210c779c6",
   "metadata": {},
   "source": [
    "Make sure the output directory exists"
   ]
  },
  {
   "cell_type": "code",
   "execution_count": null,
   "id": "cae57169-bc2e-4ae1-b1d0-16409df3ac27",
   "metadata": {},
   "outputs": [],
   "source": [
    "# The directory does not exist\n",
    "if not os.path.exists(\"output_data\"):\n",
    "    \n",
    "    # Create the directory\n",
    "    os.mkdir(\"output_data\")"
   ]
  },
  {
   "cell_type": "markdown",
   "id": "0380c0db-201b-4466-8b16-6a2b20b604df",
   "metadata": {
    "tags": []
   },
   "source": [
    "# Preparation of the ground truth image\n",
    "\n",
    "## Read the real X-ray radiograph from a DICOM file"
   ]
  },
  {
   "cell_type": "code",
   "execution_count": null,
   "id": "512e0cae-7442-4037-8c87-80b48a4e0e1c",
   "metadata": {},
   "outputs": [],
   "source": [
    "reader = sitk.ImageFileReader()\n",
    "reader.SetImageIO(\"GDCMImageIO\")\n",
    "reader.SetFileName(\"input_data/PMMA_block/DX000000\")\n",
    "reader.LoadPrivateTagsOn()\n",
    "reader.ReadImageInformation()    \n",
    "volume = reader.Execute()\n",
    "raw_real_image = sitk.GetArrayFromImage(volume)[0]"
   ]
  },
  {
   "cell_type": "markdown",
   "id": "51b9d2fb-c5ee-4e02-8bfc-1551ff28e989",
   "metadata": {},
   "source": [
    "## Extract the image size and pixel spacing from the DICOM file\n",
    "\n",
    "It will be useful to set the X-ray detector parameters for the simulation, and to display the images in millimetres."
   ]
  },
  {
   "cell_type": "code",
   "execution_count": null,
   "id": "1d76dafa-4619-4e96-9ad5-f7f7aa26458d",
   "metadata": {},
   "outputs": [],
   "source": [
    "spacing = volume.GetSpacing()[0:2]\n",
    "size = volume.GetSize()[0:2]\n",
    "\n",
    "print(\"Image size:\", size, \"[px]\")\n",
    "print(\"Pixel spacing:\", spacing, \"[mm]\")"
   ]
  },
  {
   "cell_type": "markdown",
   "id": "bd1e1091-203f-4dab-8fa3-51927553b26f",
   "metadata": {},
   "source": [
    "## Extract the kVp from the DICOM file\n",
    "\n",
    "It will be useful to generate a realistic beam spectrum."
   ]
  },
  {
   "cell_type": "code",
   "execution_count": null,
   "id": "134fa4b8-f158-4b1f-b7c9-aa6411853494",
   "metadata": {},
   "outputs": [],
   "source": [
    "kVp = float(volume.GetMetaData(\"0018|0060\"))\n",
    "print(\"Peak kilo voltage output of the x-ray generator used: \", kVp)"
   ]
  },
  {
   "cell_type": "markdown",
   "id": "dc105cc4-c8d4-4397-bb3a-e23407c94b59",
   "metadata": {},
   "source": [
    "## Display the experimental radiograph from the DICOM file"
   ]
  },
  {
   "cell_type": "code",
   "execution_count": null,
   "id": "21b9a4a3-456f-4855-ae17-4e05fa8868ed",
   "metadata": {},
   "outputs": [],
   "source": [
    "plt.figure(figsize= (20,10))\n",
    "xrange=range(raw_real_image.shape[1])\n",
    "yrange=range(raw_real_image.shape[0])\n",
    "\n",
    "plt.xlabel(\"Pixel position\\n(in mm)\")\n",
    "plt.ylabel(\"Pixel position\\n(in mm)\")\n",
    "plt.title(\"X-ray image\\nkVp:\" + str(kVp))\n",
    "plt.imshow(raw_real_image, cmap=\"gray\", \n",
    "           vmin=3934, vmax = 11045,\n",
    "           extent=[0,(raw_real_image.shape[1]-1)*spacing[0],0,(raw_real_image.shape[0]-1)*spacing[1]])\n",
    "plt.colorbar(orientation='vertical')\n",
    "\n",
    "plt.savefig('output_data/07-PMMA_experimental_image.pdf')\n",
    "plt.savefig('output_data/07-PMMA_experimental_image.png')"
   ]
  },
  {
   "cell_type": "code",
   "execution_count": null,
   "id": "46e8bf06-afd3-49d2-98c1-96590ea131fc",
   "metadata": {},
   "outputs": [],
   "source": [
    "plt.figure(figsize= (20,10))\n",
    "\n",
    "plt.xlabel(\"Pixel position\\n(in px)\")\n",
    "plt.ylabel(\"Pixel intensity\")\n",
    "plt.title(\"Horizontal profile\\n(middle row of the image)\")\n",
    "plt.plot(raw_real_image[raw_real_image.shape[0] // 2])\n",
    "# plt.colorbar(orientation='vertical')\n",
    "\n",
    "plt.savefig('output_data/07-PMMA_experimental_image-horizontal_profile.pdf')\n",
    "plt.savefig('output_data/07-PMMA_experimental_image-horizontal_profile.png')"
   ]
  },
  {
   "cell_type": "markdown",
   "id": "a39a9fc7-cbfd-4f6c-9183-f08613d9499d",
   "metadata": {},
   "source": [
    "The image is displayed in negative (low attenuation in black, high attenuation in white). We can see on the pictures above that the pixel-to-pixel sensitivity of the detector varries. Pixels on the left-hand side of the image are brighter than on the right-hand side. On the top of that, a sharpening filter is applied to enhance edges. This is common on medical devices to automatially apply image post-processing filters. A collimator (lead plates) is also used to limit the X-ray beam on the PMMA block only."
   ]
  },
  {
   "cell_type": "markdown",
   "id": "5e8f33ce-0606-40ca-ac7c-09dd314bd861",
   "metadata": {},
   "source": [
    "## Flat-field correction\n",
    "\n",
    "We are going to correct the pixel-to-pixel sensitivity of the detector and implement a mock flat-field correction. We extract two lines from the image where there is no object. The two lines are stored in two 1D arrays. We create a new array as the element-wise average of the two arrays. Every line of the image is then corrected with an element-wise division."
   ]
  },
  {
   "cell_type": "code",
   "execution_count": null,
   "id": "9cb45ada-e9ad-4dfa-bbca-9321a5ce9e53",
   "metadata": {},
   "outputs": [],
   "source": [
    "line1 = raw_real_image[222,:] # A line of the image with no object\n",
    "line2 = raw_real_image[2283,:] # Another line of the image with no object\n",
    "line = 0.5 * line1 + 0.5 * line2 # Element-wise average of the two arrays\n",
    "line[line.shape[0]-1] = 1 # Make sure the last element is not zero (to avoid a division by zero)\n",
    "\n",
    "# Create the full-field image\n",
    "full_field = np.zeros(raw_real_image.shape)\n",
    "\n",
    "for i in range(raw_real_image.shape[1]):\n",
    "    full_field[:,i] = line[i]\n",
    "\n",
    "# Apply the correction\n",
    "real_image = raw_real_image / full_field\n",
    "\n",
    "# Save the corrected image\n",
    "imwrite(\"output_data/07-PMMA_block_real_image_flat.tif\", real_image.astype(np.single))"
   ]
  },
  {
   "cell_type": "markdown",
   "id": "6d370725-8b8d-4b60-8dbc-47dada41ee18",
   "metadata": {},
   "source": [
    "Display the image after correction"
   ]
  },
  {
   "cell_type": "code",
   "execution_count": null,
   "id": "d4fecb47-51b8-44f8-af9a-b70eadd1e954",
   "metadata": {},
   "outputs": [],
   "source": [
    "plt.figure(figsize= (20,10))\n",
    "xrange=range(real_image.shape[1])\n",
    "yrange=range(real_image.shape[0])\n",
    "\n",
    "plt.xlabel(\"Pixel position\\n(in mm)\")\n",
    "plt.ylabel(\"Pixel position\\n(in mm)\")\n",
    "plt.title(\"X-ray image\\nkVp:\" + str(kVp))\n",
    "plt.imshow(real_image, cmap=\"gray\", \n",
    "           # vmin=-1, vmax = 1,\n",
    "           extent=[0,(real_image.shape[1]-1)*spacing[0],0,(real_image.shape[0]-1)*spacing[1]])\n",
    "plt.colorbar(orientation='vertical')\n",
    "\n",
    "plt.savefig('output_data/07-PMMA_experimental_image_flat.pdf')\n",
    "plt.savefig('output_data/07-PMMA_experimental_image_flat.png')"
   ]
  },
  {
   "cell_type": "markdown",
   "id": "72ddbef1-c6e9-4fd4-8d0b-0cb355b3bd76",
   "metadata": {},
   "source": [
    "# Define a function for the zero-mean, unit-variance normalisation"
   ]
  },
  {
   "cell_type": "code",
   "execution_count": null,
   "id": "794fcb57-565a-413d-a970-b3b6de09a9d1",
   "metadata": {},
   "outputs": [],
   "source": [
    "def standardisation(img:np.array) -> np.array:\n",
    "    return (img - img.mean()) / img.std()"
   ]
  },
  {
   "cell_type": "markdown",
   "id": "d09e1951-9ebd-47c6-b7e4-c9575a644cb3",
   "metadata": {},
   "source": [
    "## Crop it to remove the text\n",
    "\n",
    "There are parts of the image that need to be removed, e.g. the text."
   ]
  },
  {
   "cell_type": "code",
   "execution_count": null,
   "id": "11a266ab-716f-40b9-892f-2f43238d142e",
   "metadata": {},
   "outputs": [],
   "source": [
    "plt.figure(figsize= (20,10))\n",
    "\n",
    "roi = [179, 2300, 0, 2848]\n",
    "roi_real_image = standardisation(real_image[179:2300,0:2848])\n",
    "roi_raw_real_image = standardisation(real_image[179:2300,0:2848])\n",
    "\n",
    "xrange=range(roi_real_image.shape[1])\n",
    "yrange=range(roi_real_image.shape[0])\n",
    "\n",
    "plt.xlabel(\"Pixel position\\n(in mm)\")\n",
    "plt.ylabel(\"Pixel position\\n(in mm)\")\n",
    "plt.title(\"X-ray image\\nkVp:\" + str(kVp))\n",
    "plt.imshow(roi_real_image, cmap=\"gray\", \n",
    "           extent=[roi[2] * spacing[0], (roi[3] -1) *spacing[0], roi[0]*spacing[0],(roi[1] - 1)*spacing[0]])\n",
    "plt.colorbar(orientation='vertical')\n",
    "\n",
    "plt.savefig('output_data/07-PMMA_experimental_image-cropped.pdf')\n",
    "plt.savefig('output_data/07-PMMA_experimental_image-cropped.png')"
   ]
  },
  {
   "cell_type": "markdown",
   "id": "09eeb58a-7eaa-4da9-a298-44d6d0a4c93d",
   "metadata": {},
   "source": [
    "# Initialise gVirtualXRay\n",
    "\n",
    "## Set the experimental parameters (e.g. source and detector positions, etc.)"
   ]
  },
  {
   "cell_type": "markdown",
   "id": "8f0f9c30-be07-4563-b974-90f24d4155d3",
   "metadata": {},
   "source": [
    "We use known parameters as much as possible, for example we know the size and composition of the sample. Some parameters are extracted from the DICOM file, such as detector size, pixel resolution, and voltage of the X-ray tube."
   ]
  },
  {
   "cell_type": "code",
   "execution_count": null,
   "id": "839228ac-ed14-451c-8f77-c3224c241ca3",
   "metadata": {},
   "outputs": [],
   "source": [
    "source_detector_distance_in_cm = 130  # See email Mon 05/07/2021 15:29\n",
    "block_width_in_cm = 32\n",
    "block_height_in_cm = 27\n",
    "block_thickness_in_cm = 4\n",
    "\n",
    "window_size =  [800, 450]\n",
    "source_position = [0.0, 0.0, source_detector_distance_in_cm - block_thickness_in_cm / 2, \"cm\"]\n",
    "detector_position = [0.0, 0.0, - block_thickness_in_cm / 2, \"cm\"]\n",
    "detector_up = [0, 1, 0]"
   ]
  },
  {
   "cell_type": "markdown",
   "id": "70f1d9ec-17dd-44b0-a07d-a190379201a3",
   "metadata": {},
   "source": [
    "## Initialise the simulation engine"
   ]
  },
  {
   "cell_type": "code",
   "execution_count": null,
   "id": "44b87d35-6bbd-4041-a9bf-e54689adfda5",
   "metadata": {},
   "outputs": [],
   "source": [
    "# Create an OpenGL context\n",
    "print(\"Create an OpenGL context:\",\n",
    "    str(window_size[0]) + \"x\" + str(window_size[1])\n",
    ")\n",
    "\n",
    "gvxr.createWindow(-1, True, \"EGL\")\n",
    "\n",
    "gvxr.setWindowSize(\n",
    "    window_size[0],\n",
    "    window_size[1]\n",
    ")"
   ]
  },
  {
   "cell_type": "markdown",
   "id": "af3e983d-7d0f-4fb1-a406-3e75227458b2",
   "metadata": {},
   "source": [
    "## Function to create a PMMA block"
   ]
  },
  {
   "cell_type": "code",
   "execution_count": null,
   "id": "bdd6794c-97e1-4802-8e6d-14db26ea11f9",
   "metadata": {},
   "outputs": [],
   "source": [
    "def createBlock(x, y, z, r, h):\n",
    "    # Remove all the geometries from the whole scenegraph\n",
    "    gvxr.removePolygonMeshesFromSceneGraph()\n",
    "\n",
    "    # Make a cube\n",
    "    gvxr.makeCube(\"PMMA block\", 1.0, \"mm\")\n",
    "\n",
    "    # Translation vector\n",
    "    gvxr.translateNode(\"PMMA block\", x, y, z, \"cm\")\n",
    "\n",
    "    # Rotation angle\n",
    "    gvxr.rotateNode(\"PMMA block\", r, 0, 0, 1)\n",
    "\n",
    "    # Scaling factors\n",
    "    gvxr.scaleNode(\"PMMA block\", block_width_in_cm * 10, h * 10, block_thickness_in_cm * 10);\n",
    "\n",
    "    # Apply the transformation matrix so that we can save the corresponding STL file\n",
    "    gvxr.applyCurrentLocalTransformation(\"PMMA block\");\n",
    "\n",
    "    # Set the matrix's material properties\n",
    "    gvxr.setCompound(\"PMMA block\", \"C5O2H8\")\n",
    "    gvxr.setDensity(\"PMMA block\", 1.18, \"g/cm3\")\n",
    "\n",
    "    # Add the matrix to the X-ray renderer\n",
    "    gvxr.addPolygonMeshAsInnerSurface(\"PMMA block\")\n",
    "    \n",
    "    # Change the colour\n",
    "    gvxr.setColour(\"PMMA block\", 0.5, 0.5, 0, 1)"
   ]
  },
  {
   "cell_type": "code",
   "execution_count": null,
   "id": "ceabc64e-aa7b-4c26-960b-52389c085f9b",
   "metadata": {},
   "outputs": [],
   "source": [
    "# Initial guess\n",
    "x = y = 0\n",
    "z = 0\n",
    "r = 0\n",
    "createBlock(x, y, z, r, block_height_in_cm)"
   ]
  },
  {
   "cell_type": "markdown",
   "id": "15e91c9d-559f-4dd8-aeef-000bad006e29",
   "metadata": {},
   "source": [
    "## Set the source position"
   ]
  },
  {
   "cell_type": "code",
   "execution_count": null,
   "id": "d1fbaaf7-2794-459a-bde8-3d4b8e58fb0a",
   "metadata": {},
   "outputs": [],
   "source": [
    "# Set up the beam\n",
    "print(\"Set up the beam\")\n",
    "print(\"\\tSource position:\", source_position)\n",
    "gvxr.setSourcePosition(\n",
    "    source_position[0],\n",
    "    source_position[1],\n",
    "    source_position[2],\n",
    "    source_position[3]\n",
    ");\n",
    "\n",
    "gvxr.usePointSource();\n",
    "\n",
    "focal_spot_size = volume.GetMetaData(\"0018|1413\")\n",
    "# gvxr.setFocalSpot(focal_spot_size, focal_spot_size, focal_spot_size, \"mm\");\n",
    "print(\"size of focal spot (in mm):\", focal_spot_size)"
   ]
  },
  {
   "cell_type": "markdown",
   "id": "7130d07f-4ad0-4bb9-8b39-2d5153eb09e6",
   "metadata": {},
   "source": [
    "## Get the spectrum from the DICOM file"
   ]
  },
  {
   "cell_type": "code",
   "execution_count": null,
   "id": "4fc07e5a-3231-46b0-b2fb-f158a53605fe",
   "metadata": {},
   "outputs": [],
   "source": [
    "spectrum, k, f, unit = loadSpectrumXpecgen(kVp, [[\"Al\", 3]])"
   ]
  },
  {
   "cell_type": "code",
   "execution_count": null,
   "id": "42eb127d-f97f-4356-bbb2-a93a9c723b70",
   "metadata": {},
   "outputs": [],
   "source": [
    "plt.figure()\n",
    "plt.plot(k,f)\n",
    "plt.title(\"Beam spectrum\\n(kVp: \" + str(kVp) + \", filtration: 3mm of Al)\")\n",
    "plt.xlabel(\"Energy [keV]\")\n",
    "plt.ylabel(\"Normalised number of photons\")\n",
    "plt.grid(True)"
   ]
  },
  {
   "cell_type": "markdown",
   "id": "48d35eed-aada-4d53-a8ef-ce7e44ef8359",
   "metadata": {},
   "source": [
    "## Set the X-ray detector"
   ]
  },
  {
   "cell_type": "code",
   "execution_count": null,
   "id": "11ff1399-f138-4d78-97bb-351eaac8df31",
   "metadata": {},
   "outputs": [],
   "source": [
    "# Set up the detector\n",
    "print(\"Set up the detector\");\n",
    "print(\"\\tDetector position:\", detector_position)\n",
    "gvxr.setDetectorPosition(\n",
    "    detector_position[0],\n",
    "    detector_position[1],\n",
    "    detector_position[2],\n",
    "    detector_position[3]\n",
    ");\n",
    "\n",
    "print(\"\\tDetector up vector:\", detector_up)\n",
    "gvxr.setDetectorUpVector(\n",
    "    detector_up[0],\n",
    "    detector_up[1],\n",
    "    detector_up[2]\n",
    ");"
   ]
  },
  {
   "cell_type": "code",
   "execution_count": null,
   "id": "c244ffeb-2d98-4944-ada7-e83c30ecd2a8",
   "metadata": {},
   "outputs": [],
   "source": [
    "print(\"\\tDetector number of pixels:\", size)\n",
    "gvxr.setDetectorNumberOfPixels(\n",
    "    size[0],\n",
    "    size[1]\n",
    ");\n",
    "\n",
    "print(\"\\tPixel spacing:\", spacing)\n",
    "gvxr.setDetectorPixelSize(\n",
    "    spacing[0],\n",
    "    spacing[1],\n",
    "    \"mm\"\n",
    ");"
   ]
  },
  {
   "cell_type": "markdown",
   "id": "4ec6e716-7a3a-45a6-9e25-a4f38546c74b",
   "metadata": {},
   "source": [
    "Load the detector response in energy"
   ]
  },
  {
   "cell_type": "code",
   "execution_count": null,
   "id": "be373b82-0e7f-4074-9cdd-4bb3118adb0a",
   "metadata": {},
   "outputs": [],
   "source": [
    "gvxr.clearDetectorEnergyResponse() # To be on the safe side\n",
    "gvxr.loadDetectorEnergyResponse(\"input_data/responseDetector.txt\",\n",
    "                                \"MeV\")\n"
   ]
  },
  {
   "cell_type": "markdown",
   "id": "868663ef-f086-4ca5-8b55-490bf82903f6",
   "metadata": {},
   "source": [
    "## Take a screenshot of the 3D environment"
   ]
  },
  {
   "cell_type": "code",
   "execution_count": null,
   "id": "b9383414-f770-4b28-95c5-c347478d6fef",
   "metadata": {},
   "outputs": [],
   "source": [
    "gvxr.displayScene()\n",
    "\n",
    "gvxr.useNegative()\n",
    "gvxr.useLighing()\n",
    "gvxr.useWireframe(False)\n",
    "gvxr.setSceneRotationMatrix([0.43813619017601013, 0.09238918125629425, -0.8941444158554077, 0.0,\n",
    "                             0.06627026945352554, 0.9886708855628967, 0.13463231921195984, 0.0,\n",
    "                             0.8964602947235107, -0.11824299395084381, 0.4270564019680023, 0.0,\n",
    "                             0.0, 0.0, 0.0, 1.0])\n",
    "gvxr.setZoom(1639.6787109375)\n",
    "\n",
    "gvxr.displayScene()"
   ]
  },
  {
   "cell_type": "code",
   "execution_count": null,
   "id": "a6a805d9-6228-4764-b0e0-8503dc70b045",
   "metadata": {},
   "outputs": [],
   "source": [
    "screenshot = gvxr.takeScreenshot()"
   ]
  },
  {
   "cell_type": "code",
   "execution_count": null,
   "id": "30f7a863-f771-4aac-b54f-ee20bfaf75ad",
   "metadata": {},
   "outputs": [],
   "source": [
    "plt.figure(figsize= (10,10))\n",
    "plt.title(\"Screenshot\")\n",
    "plt.imshow(screenshot)\n",
    "plt.axis('off')\n",
    "\n",
    "plt.tight_layout()\n",
    "\n",
    "plt.savefig('output_data/07-PMMA_screenshot-beam-off.pdf')\n",
    "plt.savefig('output_data/07-PMMA_screenshot-beam-off.png')"
   ]
  },
  {
   "cell_type": "code",
   "execution_count": null,
   "id": "e061be49-c203-453f-af0d-e0d211fa93e0",
   "metadata": {},
   "outputs": [],
   "source": [
    "gvxr.computeXRayImage()\n",
    "gvxr.displayScene()"
   ]
  },
  {
   "cell_type": "code",
   "execution_count": null,
   "id": "429a6724-5c0b-4e0a-9f99-4ed8e2ab3313",
   "metadata": {},
   "outputs": [],
   "source": [
    "screenshot = gvxr.takeScreenshot()\n",
    "\n",
    "plt.figure(figsize= (10,10))\n",
    "plt.title(\"Screenshot\")\n",
    "plt.imshow(screenshot)\n",
    "plt.axis('off')\n",
    "\n",
    "plt.tight_layout()\n",
    "\n",
    "plt.savefig('output_data/07-PMMA_screenshot-beam-on.pdf')\n",
    "plt.savefig('output_data/07-PMMA_screenshot-beam-on.png')"
   ]
  },
  {
   "cell_type": "markdown",
   "id": "575a6c2b-b37f-4148-b683-44e49179d105",
   "metadata": {},
   "source": [
    "# Optimise the position and orientation of the PMMA block, and refine the SDD\n",
    "\n",
    "## Create an objective function"
   ]
  },
  {
   "cell_type": "code",
   "execution_count": null,
   "id": "0087ff50-0614-4322-8224-40262c4efe9a",
   "metadata": {},
   "outputs": [],
   "source": [
    "def zncc(i1, i2):\n",
    "    return (np.mean(np.multiply(i1, i2))) / 2.0;"
   ]
  },
  {
   "cell_type": "code",
   "execution_count": null,
   "id": "d2882ccb-949d-4155-9118-500c42a93466",
   "metadata": {},
   "outputs": [],
   "source": [
    "def mean_squared_error(img1: np.array, img2: np.array) -> float:\n",
    "    return np.mean(np.square(img1 - img2))"
   ]
  },
  {
   "cell_type": "code",
   "execution_count": null,
   "id": "4b6e82b7-01be-472b-a6d3-405bfde45b3a",
   "metadata": {},
   "outputs": [],
   "source": [
    "def objectiveFunction(parameters):\n",
    "    \n",
    "    global best_fitness\n",
    "    global best_fitness_id\n",
    "    global fitness_function_call_id\n",
    "    global evolution_zncc\n",
    "    global evolution_parameters\n",
    "    \n",
    "    # Retrieve the parameters\n",
    "    x, y, z, r, h, SDD = parameters\n",
    "    \n",
    "    # Update the source position\n",
    "    source_position = [0.0, 0.0, SDD - block_thickness_in_cm / 2, \"cm\"]\n",
    "    gvxr.setSourcePosition(\n",
    "        source_position[0],\n",
    "        source_position[1],\n",
    "        source_position[2],\n",
    "        source_position[3]\n",
    "    );\n",
    "\n",
    "    # Update the block geometry\n",
    "    createBlock(x, y, z, r, h)\n",
    "    \n",
    "    # Compute an X-ray image\n",
    "    x_ray_image = np.array(gvxr.computeXRayImage())\n",
    "    \n",
    "    # Compute the negative image as it is the case for the real image\n",
    "    x_ray_image *= -1.\n",
    "    \n",
    "    # Crop the image\n",
    "    x_ray_image = x_ray_image[179:2300,0:2848]\n",
    "\n",
    "    # Zero-mean, unit-variance normalistion\n",
    "    x_ray_image = standardisation(x_ray_image)\n",
    "    \n",
    "    # Return the objective\n",
    "    objective = math.sqrt(mean_squared_error(roi_real_image, x_ray_image))\n",
    "\n",
    "    # The block below is not necessary for the registration.\n",
    "    # It is used to save the data to create animations.\n",
    "    if best_fitness > objective:\n",
    "        \n",
    "        gvxr.displayScene()\n",
    "        screenshot = (255 * np.array(gvxr.takeScreenshot())).astype(np.uint8)\n",
    "\n",
    "        # gvxr.saveSTLfile(\"PMMA block\", \"gVirtualXRay_output_data/PMMA_block_\" + str(best_fitness_id) + \".stl\")\n",
    "        # np.savetxt(\"gVirtualXRay_output_data/PMMA_block_\" + str(best_fitness_id) + \".dat\", [x, y, z, r, h, SDD], header='x,y,z,r,h,SDD')\n",
    "        imwrite(\"output_data/07-PMMA_block_xray_\" + str(best_fitness_id) + \".tif\", x_ray_image.astype(np.single))\n",
    "        imwrite(\"output_data/07-PMMA_block_screenshot_\" + str(best_fitness_id) + \".tif\", screenshot)\n",
    "    \n",
    "        zncc_value = zncc(roi_real_image, x_ray_image)\n",
    "        evolution_zncc.append([fitness_function_call_id, zncc_value])\n",
    "        evolution_parameters.append([fitness_function_call_id, x, y, z, r, h, SDD])\n",
    "        \n",
    "        best_fitness = objective\n",
    "        best_fitness_id += 1\n",
    "    \n",
    "    fitness_function_call_id += 1\n",
    "    \n",
    "    return objective"
   ]
  },
  {
   "cell_type": "code",
   "execution_count": null,
   "id": "9a88aca5-1a19-424d-8707-f4445e3fb695",
   "metadata": {},
   "outputs": [],
   "source": [
    "# Zero-mean, unit-variance normalistion\n",
    "roi_real_image = standardisation(roi_real_image)\n",
    "imwrite(\"output_data/07-PMMA_block_roi_real_image.tif\", roi_real_image)"
   ]
  },
  {
   "cell_type": "code",
   "execution_count": null,
   "id": "c52ff57b-ce48-415b-b728-3db2db2561e9",
   "metadata": {},
   "outputs": [],
   "source": [
    "# The registration has already been performed. Load the results.\n",
    "if os.path.isfile(\"output_data/07-PMMA_block.dat\") and \\\n",
    "        os.path.isfile(\"output_data/07-PMMA_block_evolution_zncc.dat\") and \\\n",
    "        os.path.isfile(\"output_data/07-PMMA_block_evolution_parameters.dat\"):\n",
    "    \n",
    "    temp = np.loadtxt(\"output_data/07-PMMA_block.dat\")\n",
    "    x = temp[0]\n",
    "    y = temp[1]\n",
    "    z = temp[2]\n",
    "    r = temp[3]\n",
    "    block_height_in_cm = temp[4]\n",
    "    source_detector_distance_in_cm = temp[5]\n",
    "    \n",
    "    # Update the source position\n",
    "    source_position = [0.0, 0.0, source_detector_distance_in_cm - block_thickness_in_cm / 2, \"cm\"]\n",
    "    gvxr.setSourcePosition(\n",
    "        source_position[0],\n",
    "        source_position[1],\n",
    "        source_position[2],\n",
    "        source_position[3]\n",
    "    );\n",
    "    \n",
    "    # Update the block geometry\n",
    "    createBlock(x, y, z, r, block_height_in_cm)\n",
    "\n",
    "    evolution_zncc = np.loadtxt(\"output_data/07-PMMA_block_evolution_zncc.dat\")\n",
    "    evolution_parameters = np.loadtxt(\"output_data/07-PMMA_block_evolution_parameters.dat\")\n",
    "\n",
    "else:\n",
    "    # Optimise\n",
    "    opts = cma.CMAOptions()\n",
    "    opts.set('tolfun', 1e-2)\n",
    "    opts['tolx'] = 1e-2\n",
    "    opts['bounds'] = [[-20, -20, detector_position[2] + block_thickness_in_cm / 2, -90, block_height_in_cm * 0.80, source_detector_distance_in_cm * 0.80],\n",
    "                      [20, 20, source_position[2] - block_thickness_in_cm / 2, 90, block_height_in_cm * 1.20, source_detector_distance_in_cm * 1.20]]\n",
    "    opts['CMA_stds'] = []\n",
    "\n",
    "    for min_val, max_val in zip(opts['bounds'][0], opts['bounds'][1]):\n",
    "        opts['CMA_stds'].append(abs(max_val - min_val) * 0.05)\n",
    "\n",
    "    best_fitness = sys.float_info.max;\n",
    "    best_fitness_id = 0;\n",
    "    fitness_function_call_id = 0\n",
    "    evolution_zncc = []\n",
    "    evolution_parameters = []\n",
    "        \n",
    "    # Optimise\n",
    "    res = cma.fmin(objectiveFunction,\n",
    "              [x, y, z, r, block_height_in_cm, source_detector_distance_in_cm],\n",
    "              0.5,\n",
    "              opts) \n",
    "    x, y, z, r, block_height_in_cm, source_detector_distance_in_cm = res[0]\n",
    "    \n",
    "    # Save the parameters\n",
    "    np.savetxt(\"output_data/07-PMMA_block.dat\", [x, y, z, r, block_height_in_cm, source_detector_distance_in_cm], header='x,y,z,r,h,SDD')\n",
    "\n",
    "    # Update the source position\n",
    "    source_position = [0.0, 0.0, source_detector_distance_in_cm - block_thickness_in_cm / 2, \"cm\"]\n",
    "    gvxr.setSourcePosition(\n",
    "        source_position[0],\n",
    "        source_position[1],\n",
    "        source_position[2],\n",
    "        source_position[3]\n",
    "    );\n",
    "    \n",
    "    # Update the block geometry\n",
    "    createBlock(x, y, z, r, block_height_in_cm)\n",
    "    gvxr.saveSTLfile(\"PMMA block\", \"output_data/07-PMMA_block.stl\")\n",
    "\n",
    "    evolution_zncc = np.array(evolution_zncc)\n",
    "    np.savetxt(\"output_data/07-PMMA_block_evolution_zncc.dat\", evolution_zncc, header='t,ZNCC')\n",
    "\n",
    "    evolution_parameters = np.array(evolution_parameters)\n",
    "    np.savetxt(\"output_data/07-PMMA_block_evolution_parameters.dat\", evolution_parameters, header='t,x,y,z,r,h,SDD')"
   ]
  },
  {
   "cell_type": "code",
   "execution_count": null,
   "id": "7c9ec4ec-ddf2-42d9-b8d2-b3d4cd83cf97",
   "metadata": {},
   "outputs": [],
   "source": [
    "print(\"SDD (in cm):\", source_detector_distance_in_cm)\n",
    "print(\"Block centre (in cm):\", x, y, z)\n",
    "print(\"Block size (in cm):\", block_width_in_cm, block_height_in_cm, block_thickness_in_cm)\n",
    "print(\"Rotation angle (in degrees):\", r)"
   ]
  },
  {
   "cell_type": "code",
   "execution_count": null,
   "id": "9ab4780c-3f10-4e06-b75e-1acc98f19654",
   "metadata": {},
   "outputs": [],
   "source": [
    "evolution_parameters = np.array(evolution_parameters)\n",
    "\n",
    "plt.figure(figsize= (20,10))\n",
    "plt.title(\"Evolution of the PMMA block centre of mass along the three carthesian coordinates\")\n",
    "plt.plot(evolution_parameters[:,0], evolution_parameters[:,1], label=\"x\")\n",
    "plt.plot(evolution_parameters[:,0], evolution_parameters[:,2], label=\"y\")\n",
    "plt.plot(evolution_parameters[:,0], evolution_parameters[:,3], label=\"z\")\n",
    "plt.xlabel(\"Timeline\\n(in number of fitness function calls)\")\n",
    "plt.ylabel(\"Position (in cm)\")\n",
    "plt.legend()\n",
    "plt.savefig('output_data/07-PMMA_block_evolution_centre_of_mass.pdf')\n",
    "plt.savefig('output_data/07-PMMA_block_volution_centre_of_mass.png')\n",
    "\n",
    "plt.figure(figsize= (20,10))\n",
    "plt.title(\"Evolution of the rotation angle of the PMMA block\")\n",
    "plt.plot(evolution_parameters[:,0], evolution_parameters[:,4], label=\"angle\")\n",
    "plt.xlabel(\"Timeline\\n(in number of fitness function calls)\")\n",
    "plt.ylabel(\"Rotation angle (in degrees)\")\n",
    "plt.savefig('output_data/07-PMMA_block_evolution_centre_of_mass.pdf')\n",
    "plt.savefig('output_data/07-PMMA_block_evolution_centre_of_mass.png')\n",
    "\n",
    "plt.figure(figsize= (20,10))\n",
    "plt.title(\"Evolution of the height of the PMMA block\")\n",
    "plt.plot(evolution_parameters[:,0], evolution_parameters[:,5], label=\"angle\")\n",
    "plt.xlabel(\"Timeline\\n(in number of fitness function calls)\")\n",
    "plt.ylabel(\"Height (in cm)\")\n",
    "plt.savefig('output_data/07-PMMA_block_evolution_height.pdf')\n",
    "plt.savefig('output_data/07-PMMA_block_evolution_height.png')\n",
    "\n",
    "plt.figure(figsize= (20,10))\n",
    "plt.title(\"Evolution of the source-detector distance\")\n",
    "plt.plot(evolution_parameters[:,0], evolution_parameters[:,6])\n",
    "plt.xlabel(\"Timeline\\n(in number of fitness function calls)\")\n",
    "plt.ylabel(\"Distance (in mm)\")\n",
    "plt.savefig('output_data/07-PMMA_block_evolution_SDD.pdf')\n",
    "plt.savefig('output_data/07-PMMA_block_evolution_SDD.png')"
   ]
  },
  {
   "cell_type": "markdown",
   "id": "94e33614-c5d3-4e74-9304-b396af56f467",
   "metadata": {},
   "source": [
    "## Apply the result of the optimisation"
   ]
  },
  {
   "cell_type": "code",
   "execution_count": null,
   "id": "3394d9f5-57bc-4068-b35d-5312f3229e40",
   "metadata": {},
   "outputs": [],
   "source": [
    "# Compute an X-ray image\n",
    "raw_x_ray_image = np.array(gvxr.computeXRayImage())\n",
    "\n",
    "gvxr.displayScene()\n",
    "\n",
    "# Compute the negative image as it is the case for the real image\n",
    "x_ray_image = raw_x_ray_image * -1.\n",
    "\n",
    "# Crop the image\n",
    "x_ray_image = x_ray_image[179:2300,0:2848]\n",
    "\n",
    "# Zero-mean, unit-variance normalistion\n",
    "x_ray_image = standardisation(x_ray_image)"
   ]
  },
  {
   "cell_type": "markdown",
   "id": "054fea75-030f-4cb9-923d-441eee05d54c",
   "metadata": {},
   "source": [
    "## Plot the evolution of the quality of the simulated image"
   ]
  },
  {
   "cell_type": "code",
   "execution_count": null,
   "id": "8ce67511-b49b-476d-8888-008077a2a412",
   "metadata": {},
   "outputs": [],
   "source": [
    "plt.figure(figsize= (20,10))\n",
    "plt.title(\"Evolution of the ZNCC between the experimental and simulated images\")\n",
    "plt.plot(evolution_zncc[:,0], 100.0 * evolution_zncc[:,1], \"go-\")\n",
    "plt.xlabel(\"Timeline\\n(in number of fitness function calls)\")\n",
    "plt.ylabel(\"ZNCC\\n(in \\%)\")\n",
    "plt.savefig('output_data/07-PMMA_block_evolution_ZNCC1.pdf')\n",
    "plt.savefig('output_data/07-PMMA_block_evolution_ZNCC1.png')"
   ]
  },
  {
   "cell_type": "code",
   "execution_count": null,
   "id": "1b50fb01-9098-4fed-b8b8-313e707d9d38",
   "metadata": {},
   "outputs": [],
   "source": [
    "def compareImages(real_image, x_ray_image, colorbar=True, rows = 1, cols = 3):\n",
    "    comp_equalized = compare_images(real_image, x_ray_image, method='checkerboard');\n",
    "    \n",
    "#     plt.figure(figsize= (20,10))\n",
    "\n",
    "    # plt.suptitle(\"Image simulated using gVirtualXRay without the energy response of the detector\", y=1.02)\n",
    "\n",
    "    plt.subplot(rows, cols, 1)\n",
    "    plt.imshow(real_image, cmap=\"gray\", vmin=-1, vmax=1,\n",
    "               extent=[0,(real_image.shape[1]-1)*spacing[0],0,(real_image.shape[0]-1)*spacing[1]])\n",
    "    if colorbar:\n",
    "        plt.colorbar(orientation='horizontal')\n",
    "    plt.title(\"Experimental image\")\n",
    "    plt.xlabel(\"Pixel position\\n(in mm)\")\n",
    "    plt.ylabel(\"Pixel position\\n(in mm)\")\n",
    "\n",
    "    plt.subplot(rows, cols, 2)\n",
    "    plt.imshow(x_ray_image, cmap=\"gray\", vmin=-1, vmax=1,\n",
    "               extent=[0,(real_image.shape[1]-1)*spacing[0],0,(real_image.shape[0]-1)*spacing[1]])\n",
    "    if colorbar:\n",
    "        plt.colorbar(orientation='horizontal')\n",
    "    plt.title(\"Simulated image\")\n",
    "    plt.xlabel(\"Pixel position\\n(in mm)\")\n",
    "    plt.ylabel(\"Pixel position\\n(in mm)\")\n",
    "\n",
    "    plt.subplot(rows, cols, 3)\n",
    "    plt.imshow(comp_equalized, cmap=\"gray\", vmin=-1, vmax=1,\n",
    "               extent=[0,(real_image.shape[1]-1)*spacing[0],0,(real_image.shape[0]-1)*spacing[1]])\n",
    "    if colorbar:\n",
    "        plt.colorbar(orientation='horizontal')\n",
    "    plt.title(\"Checkerboard comparison\")\n",
    "    plt.xlabel(\"Pixel position\\n(in mm)\")\n",
    "    plt.ylabel(\"Pixel position\\n(in mm)\")\n",
    "\n",
    "    plt.tight_layout()"
   ]
  },
  {
   "cell_type": "code",
   "execution_count": null,
   "id": "bdad42f9-5e5d-405c-b3fc-542ca0e10daf",
   "metadata": {},
   "outputs": [],
   "source": [
    "compareWithGroundTruth(roi_raw_real_image, x_ray_image, figsize=(12.5, 5))"
   ]
  },
  {
   "cell_type": "code",
   "execution_count": null,
   "id": "5895fae9-8828-4c20-a4b1-2a2171a12552",
   "metadata": {},
   "outputs": [],
   "source": [
    "def drawHorizontalProfiles(real_image, x_ray_image, x_ray_image_noise=None):\n",
    "\n",
    "    horizontal_profile_real_image = real_image[real_image.shape[1] // 2]\n",
    "    horizontal_profile_simulated_image = x_ray_image[x_ray_image.shape[1] // 2]\n",
    "\n",
    "    x_val = np.linspace(0.0,\n",
    "                        spacing[0] * real_image.shape[1],\n",
    "                        real_image.shape[1], endpoint=True)\n",
    "\n",
    "    plt.plot(x_val, horizontal_profile_real_image, label=\"Experimental image\")\n",
    "    \n",
    "    if x_ray_image_noise is not None:\n",
    "        horizontal_profile_simulated_image_noise = x_ray_image_noise[x_ray_image_noise.shape[1] // 2]\n",
    "        plt.plot(x_val, horizontal_profile_simulated_image_noise, label=\"Simulated image with noise\")\n",
    "\n",
    "    plt.plot(x_val, horizontal_profile_simulated_image, label=\"Simulated image without noise\")\n",
    "\n",
    "    plt.xlabel(\"Pixel position\\n(in mm)\")\n",
    "    plt.ylabel(\"Relative intensity\")"
   ]
  },
  {
   "cell_type": "code",
   "execution_count": null,
   "id": "50641efe-9a93-444a-90d3-da4492dc07f8",
   "metadata": {},
   "outputs": [],
   "source": [
    "def drawVerticalProfiles(real_image, x_ray_image, x_ray_image_noise=None):\n",
    "    vertical_profile_real_image = real_image[:,real_image.shape[0] // 2]\n",
    "    vertical_profile_simulated_image = x_ray_image[:,x_ray_image.shape[0] // 2]\n",
    "\n",
    "    x_val = np.linspace(0.0,\n",
    "                        spacing[1] * real_image.shape[0],\n",
    "                        real_image.shape[0], endpoint=True)\n",
    "\n",
    "    plt.plot(x_val, vertical_profile_real_image, label=\"Experimental image\")\n",
    "    \n",
    "    if x_ray_image_noise is not None:\n",
    "        vertical_profile_simulated_image_noise = x_ray_image_noise[:,x_ray_image_noise.shape[0] // 2]\n",
    "        plt.plot(x_val, vertical_profile_simulated_image_noise, label=\"Simulated image with noise\")\n",
    "\n",
    "    plt.plot(x_val, vertical_profile_simulated_image, label=\"Simulated image without noise\")\n",
    "\n",
    "    plt.xlabel(\"Pixel position\\n(in mm)\")\n",
    "    plt.ylabel(\"Relative intensity\")"
   ]
  },
  {
   "cell_type": "code",
   "execution_count": null,
   "id": "a18dfdb7-59a6-4023-a0f7-5019daf4416f",
   "metadata": {},
   "outputs": [],
   "source": [
    "plt.figure(figsize= (20,10))\n",
    "drawHorizontalProfiles(roi_real_image, x_ray_image)\n",
    "plt.legend()\n",
    "plt.savefig('output_data/07-PMMA_block_compare_horizontal_profile1.pdf')\n",
    "plt.savefig('output_data/07-PMMA_block_compare_horizontal_profile1.png')"
   ]
  },
  {
   "cell_type": "code",
   "execution_count": null,
   "id": "b145fb8f-0fd8-4bc0-9752-a614b6793eaa",
   "metadata": {},
   "outputs": [],
   "source": [
    "plt.figure(figsize= (20,10))\n",
    "drawVerticalProfiles(roi_real_image, x_ray_image)\n",
    "plt.legend()\n",
    "plt.savefig('output_data/07-PMMA_block_compare_vertical_profile1.pdf')\n",
    "plt.savefig('output_data/07-PMMA_block_compare_vertical_profile1.png')"
   ]
  },
  {
   "cell_type": "code",
   "execution_count": null,
   "id": "65d237b2-4175-4929-9c83-b51a18c3209b",
   "metadata": {},
   "outputs": [],
   "source": [
    "def createAnimation(evolution_parameters, real_image):\n",
    "    # Create the GIF file\n",
    "    with imageio.get_writer(\"output_data/07-PMMA_block_evolution.gif\", mode='I') as writer:\n",
    "\n",
    "        # Store the PNG filenames\n",
    "        png_filename_set = [];\n",
    "\n",
    "        # Process all the images\n",
    "        for i, [t, x, y, z, r, w, SDD] in enumerate(evolution_parameters):\n",
    "            t = int(t)\n",
    "            \n",
    "            x_ray_image = imread(\"output_data/07-PMMA_block_xray_\" + str(i) + \".tif\")\n",
    "            screenshot = imread(\"output_data/07-PMMA_block_screenshot_\" + str(i) + \".tif\")\n",
    "            \n",
    "            # Create the figure\n",
    "            fig, axs = plt.subplots(nrows=2, ncols=3, figsize= (20,10))\n",
    "            plt.suptitle(\"Iteration \" + str(t+1) + \"/\" + str(int(evolution_parameters[-1][0]+1)))\n",
    "            compareImages(real_image, x_ray_image, False, 2, 3)\n",
    "      \n",
    "            plt.subplot(234)\n",
    "            drawHorizontalProfiles(real_image, x_ray_image)\n",
    "\n",
    "            plt.subplot(235)\n",
    "            drawVerticalProfiles(real_image, x_ray_image)\n",
    "  \n",
    "\n",
    "            plt.subplot(236)\n",
    "            plt.imshow(screenshot)\n",
    "\n",
    "            # Save the figure as a PNG file\n",
    "            plt.savefig(\"temp.png\")\n",
    "\n",
    "            # Close the figure\n",
    "            plt.close()\n",
    "\n",
    "            # Open the PNG file with imageio and add it to the GIF file\n",
    "            image = imageio.imread(\"temp.png\")\n",
    "            writer.append_data(image)\n",
    "\n",
    "            # Delete the PNG file\n",
    "            os.remove(\"temp.png\");\n",
    "\n",
    "        for i in range(15):\n",
    "            writer.append_data(image)"
   ]
  },
  {
   "cell_type": "code",
   "execution_count": null,
   "id": "9105c08f-112b-46d5-a465-973fbe8add4d",
   "metadata": {},
   "outputs": [],
   "source": [
    "if not os.path.exists(\"output_data/07-PMMA_block_evolution.gif\"):\n",
    "    createAnimation(evolution_parameters, roi_real_image)"
   ]
  },
  {
   "cell_type": "code",
   "execution_count": null,
   "id": "c6ce9fb4-c505-4681-881f-c7081b09a01c",
   "metadata": {},
   "outputs": [],
   "source": [
    "with open('output_data/07-PMMA_block_evolution.gif','rb') as f:\n",
    "    display(Image(data=f.read(), format='png', width=1000))"
   ]
  },
  {
   "cell_type": "markdown",
   "id": "ca638428-dc8e-438c-b81f-322e36f6ef5c",
   "metadata": {},
   "source": [
    "# Post-processing using image sharpening\n",
    "\n",
    "We can see from the real image that an image sharpening filter was applied. We will implement one and optimise its parameters."
   ]
  },
  {
   "cell_type": "code",
   "execution_count": null,
   "id": "caf1eec3-3d60-43a6-88c4-27f58fbed717",
   "metadata": {},
   "outputs": [],
   "source": [
    "def sharpen(image, ksize, alpha, shift, scale):\n",
    "    details = image - gaussian(image, ksize)    \n",
    "\n",
    "    return scale * (shift + image) + alpha * details"
   ]
  },
  {
   "cell_type": "code",
   "execution_count": null,
   "id": "0b453c38-a2a0-49a2-8995-be19863400ad",
   "metadata": {},
   "outputs": [],
   "source": [
    "def postProcessing(raw_x_ray_image, sigma1, sigma2, alpha, shift, scale):\n",
    "    # Compute an X-ray image\n",
    "    x_ray_image = sharpen(raw_x_ray_image, [sigma1, sigma2], alpha, shift, scale)\n",
    "    \n",
    "    # Compute the negative image as it is the case for the real image\n",
    "    x_ray_image *= -1.\n",
    "    \n",
    "    # Crop the image\n",
    "    x_ray_image = x_ray_image[179:2300,0:2848]\n",
    "\n",
    "    # Zero-mean, unit-variance normalistion\n",
    "    x_ray_image = standardisation(x_ray_image)\n",
    "    \n",
    "    return x_ray_image"
   ]
  },
  {
   "cell_type": "markdown",
   "id": "e0aa920a-5957-49d7-925b-672b47a2bcd0",
   "metadata": {},
   "source": [
    "## Define an objective function"
   ]
  },
  {
   "cell_type": "code",
   "execution_count": null,
   "id": "be35006b-41e3-48f9-91b6-be75381003d5",
   "metadata": {},
   "outputs": [],
   "source": [
    "def objectiveFunctionSharpen(parameters):\n",
    "    \n",
    "    global best_fitness\n",
    "    global best_fitness_id\n",
    "    global fitness_function_call_id\n",
    "    global sharpened_evolution_zncc\n",
    "    global sharpened_evolution_parameters\n",
    "\n",
    "    global raw_x_ray_image\n",
    "    \n",
    "    # Retrieve the parameters\n",
    "    sigma1, sigma2, alpha, shift, scale = parameters\n",
    "    \n",
    "    # Compute an X-ray image\n",
    "    x_ray_image = postProcessing(raw_x_ray_image, sigma1, sigma2, alpha, shift, scale)\n",
    "        \n",
    "    # Return the objective\n",
    "    objective = math.sqrt(mean_squared_error(roi_real_image, x_ray_image))\n",
    "\n",
    "    # The block below is not necessary for the registration.\n",
    "    # It is used to save the data to create animations.\n",
    "    if best_fitness > objective:\n",
    "        \n",
    "        imwrite(\"output_data/07-PMMA_block_sharpened_xray_\" + str(best_fitness_id) + \".tif\", x_ray_image.astype(np.single))\n",
    "    \n",
    "        zncc_value = zncc(roi_real_image, x_ray_image)\n",
    "        sharpened_evolution_zncc.append([fitness_function_call_id, zncc_value])\n",
    "        sharpened_evolution_parameters.append([fitness_function_call_id, sigma1, sigma2, alpha, shift, scale])\n",
    "        \n",
    "        best_fitness = objective\n",
    "        best_fitness_id += 1\n",
    "    \n",
    "    fitness_function_call_id += 1\n",
    "    \n",
    "    return objective"
   ]
  },
  {
   "cell_type": "markdown",
   "id": "2f1a7c63-7cbb-489b-bb1f-64e6171450ae",
   "metadata": {},
   "source": [
    "## Minimise the objective function"
   ]
  },
  {
   "cell_type": "code",
   "execution_count": null,
   "id": "87edb81b-7355-45ac-acdb-5b786a50447c",
   "metadata": {},
   "outputs": [],
   "source": [
    "old_zncc = evolution_zncc[-1][1]"
   ]
  },
  {
   "cell_type": "code",
   "execution_count": null,
   "id": "0ed6e20a-0d08-4869-8ba7-ae35e920c0d0",
   "metadata": {},
   "outputs": [],
   "source": [
    "best_fitness = sys.float_info.max;\n",
    "best_fitness_id = 0;\n",
    "fitness_function_call_id = 0\n",
    "sharpened_evolution_zncc = []\n",
    "sharpened_evolution_parameters = []\n",
    "\n",
    "sigma1 = 100\n",
    "sigma2 = 100\n",
    "alpha = 2.5\n",
    "shift = 0\n",
    "scale = 1\n",
    "\n",
    "xl = [3, 3, 0, -5, 0]\n",
    "xu = [200, 200, 15, 5, 2]\n",
    "x_init = [sigma1, sigma2, alpha, shift, scale]"
   ]
  },
  {
   "cell_type": "code",
   "execution_count": null,
   "id": "6f91c5a2-1d5d-4e83-80e6-a25108152585",
   "metadata": {},
   "outputs": [],
   "source": [
    "# The registration has already been performed. Load the results.\n",
    "if os.path.isfile(\"output_data/07-PMMA_block_sharpen.dat\") and \\\n",
    "        os.path.isfile(\"output_data/07-PMMA_block_sharpen_evolution_zncc.dat\") and \\\n",
    "        os.path.isfile(\"output_data/07-PMMA_block_sharpen_evolution_parameters.dat\"):\n",
    "\n",
    "    temp = np.loadtxt(\"output_data/07-PMMA_block_sharpen.dat\")\n",
    "    sigma1 = temp[0]\n",
    "    sigma2 = temp[1]\n",
    "    alpha = temp[2]\n",
    "    shift = temp[3]\n",
    "    scale = temp[4]\n",
    "    \n",
    "    sharpened_evolution_zncc = np.loadtxt(\"output_data/07-PMMA_block_sharpen_evolution_zncc.dat\")\n",
    "    sharpened_evolution_parameters = np.loadtxt(\"output_data/07-PMMA_block_sharpen_evolution_parameters.dat\")\n",
    "\n",
    "else:\n",
    "    # Optimise\n",
    "    timeout_in_sec = 20 * 60 # 20 minutes\n",
    "    opts = cma.CMAOptions()\n",
    "    opts.set('tolfun', 1e-5)\n",
    "    opts['tolx'] = 1e-5\n",
    "    opts['timeout'] = timeout_in_sec\n",
    "    opts['bounds'] = [xl, xu]\n",
    "    opts['CMA_stds'] = []\n",
    "\n",
    "    for min_val, max_val in zip(opts['bounds'][0], opts['bounds'][1]):\n",
    "        opts['CMA_stds'].append(abs(max_val - min_val) * 0.05)\n",
    "\n",
    "    # Optimise\n",
    "    es = cma.CMAEvolutionStrategy(x_init, 0.5, opts)\n",
    "    es.optimize(objectiveFunctionSharpen)\n",
    "\n",
    "    # Save the parameters\n",
    "    sigma1, sigma2, alpha, shift, scale = es.result.xbest\n",
    "    np.savetxt(\"output_data/07-PMMA_block_sharpen.dat\", [sigma1, sigma2, alpha, shift, scale], header='sigma,alpha,shift,scale')\n",
    "\n",
    "    sharpened_evolution_zncc = np.array(sharpened_evolution_zncc)\n",
    "    np.savetxt(\"output_data/07-PMMA_block_sharpen_evolution_zncc.dat\", sharpened_evolution_zncc, header='t,ZNCC')\n",
    "\n",
    "    sharpened_evolution_parameters = np.array(sharpened_evolution_parameters)\n",
    "    np.savetxt(\"output_data/07-PMMA_block_sharpen_evolution_parameters.dat\", sharpened_evolution_parameters, header='t,sigma,alpha')\n",
    "\n",
    "    # Release memory\n",
    "    del es;"
   ]
  },
  {
   "cell_type": "code",
   "execution_count": null,
   "id": "7f099987-c526-476e-a21f-ff475e323673",
   "metadata": {},
   "outputs": [],
   "source": [
    "new_zncc = sharpened_evolution_zncc[-1][1]"
   ]
  },
  {
   "cell_type": "code",
   "execution_count": null,
   "id": "cdf3497e-284d-4eb3-b102-c3ede5254448",
   "metadata": {},
   "outputs": [],
   "source": [
    "print(\"ZNCC before sharpening:\", str(100 * old_zncc) + \"%\")\n",
    "print(\"ZNCC after sharpening:\", str(100 * new_zncc) + \"%\")"
   ]
  },
  {
   "cell_type": "code",
   "execution_count": null,
   "id": "d962af7d-9492-486a-ada1-17b1e648d981",
   "metadata": {},
   "outputs": [],
   "source": [
    "print(evolution_zncc[-1,0])"
   ]
  },
  {
   "cell_type": "code",
   "execution_count": null,
   "id": "d22a2f99-bc9c-42bb-8154-0535b4379a49",
   "metadata": {},
   "outputs": [],
   "source": [
    "plt.figure(figsize= (20,10))\n",
    "plt.title(\"Evolution of the ZNCC between the experimental and simulated images\")\n",
    "plt.plot(evolution_zncc[:,0], 100 * evolution_zncc[:,1], \"go-\", label=\"Optimisation of the geometry\")\n",
    "plt.plot(sharpened_evolution_zncc[:,0] + evolution_zncc[-1,0], 100 * sharpened_evolution_zncc[:,1], \"ro-\", label=\"Optimisation of the digital imaging filters\")\n",
    "plt.xlabel(\"Timeline\\n(in number of fitness function calls)\")\n",
    "plt.ylabel(\"ZNCC\\n(in \\%)\")\n",
    "plt.legend()\n",
    "plt.savefig('output_data/07-PMMA_block_evolution_ZNCC2.pdf')\n",
    "plt.savefig('output_data/07-PMMA_block_evolution_ZNCC2.png')"
   ]
  },
  {
   "cell_type": "markdown",
   "id": "460c2e22-2a58-4b7c-9ab7-463335b0e7fc",
   "metadata": {},
   "source": [
    "## Apply the result of the optimisation"
   ]
  },
  {
   "cell_type": "code",
   "execution_count": null,
   "id": "c3c8393e-45c2-4d80-a09d-5283892b2889",
   "metadata": {},
   "outputs": [],
   "source": [
    "x_ray_image = postProcessing(raw_x_ray_image, sigma1, sigma2, alpha, shift, scale)"
   ]
  },
  {
   "cell_type": "code",
   "execution_count": null,
   "id": "61b87d16-2fd0-48a3-8631-5da42c86b829",
   "metadata": {},
   "outputs": [],
   "source": [
    "compareWithGroundTruth(roi_real_image, x_ray_image, figsize=(12.5, 5))"
   ]
  },
  {
   "cell_type": "code",
   "execution_count": null,
   "id": "2344fbf0-edee-45aa-932c-aa51f576be2e",
   "metadata": {},
   "outputs": [],
   "source": [
    "plt.figure(figsize= (20,10))\n",
    "compareImages(roi_real_image, x_ray_image)\n",
    "plt.savefig('output_data/07-PMMA_block_compare_images2.pdf')\n",
    "plt.savefig('output_data/07-PMMA_block_compare_images2.png')"
   ]
  },
  {
   "cell_type": "markdown",
   "id": "eac22f47-cebc-48fe-803e-569087734d39",
   "metadata": {},
   "source": [
    "# Plot the profiles"
   ]
  },
  {
   "cell_type": "code",
   "execution_count": null,
   "id": "1ff1a4ad-b862-49da-9be0-d73bc8110430",
   "metadata": {},
   "outputs": [],
   "source": [
    "plt.figure(figsize= (20,10))\n",
    "drawHorizontalProfiles(roi_real_image, x_ray_image)\n",
    "plt.legend()\n",
    "plt.savefig('output_data/07-PMMA_block_compare_horizontal_profile2.pdf')\n",
    "plt.savefig('output_data/07-PMMA_block_compare_horizontal_profile2.png')"
   ]
  },
  {
   "cell_type": "code",
   "execution_count": null,
   "id": "07031cf6-5711-4cb1-acd7-787bf6c5e94e",
   "metadata": {},
   "outputs": [],
   "source": [
    "plt.figure(figsize= (20,10))\n",
    "drawVerticalProfiles(roi_real_image, x_ray_image)\n",
    "plt.legend()\n",
    "plt.savefig('output_data/07-PMMA_block_compare_vertical_profile2.pdf')\n",
    "plt.savefig('output_data/07-PMMA_block_compare_vertical_profile2.png')"
   ]
  },
  {
   "cell_type": "markdown",
   "id": "5e2130be-10c7-451f-b108-e87320b58c22",
   "metadata": {},
   "source": [
    "# Quantify similarities/dissimilarities"
   ]
  },
  {
   "cell_type": "code",
   "execution_count": null,
   "id": "3bb8cabc-0ea3-4a7e-b6b7-72c6b01e2797",
   "metadata": {},
   "outputs": [],
   "source": [
    "def mape(ref: np.array, test: np.array) -> float:\n",
    "    return np.mean(np.abs((ref - test) / ref))"
   ]
  },
  {
   "cell_type": "code",
   "execution_count": null,
   "id": "b212a4bf-4ad9-4742-974b-49996777f9b3",
   "metadata": {},
   "outputs": [],
   "source": [
    "# Avoid div by 0\n",
    "offset1 = min(roi_real_image.min(), x_ray_image.min())\n",
    "offset2 = 0.01 * (roi_real_image.max() - roi_real_image.min())\n",
    "offset = offset2 - offset1\n",
    "\n",
    "MAPE = mape(roi_real_image + offset, x_ray_image + offset)\n",
    "ZNCC = np.mean((roi_real_image - roi_real_image.mean()) / roi_real_image.std() * (x_ray_image - x_ray_image.mean()) / x_ray_image.std())\n",
    "SSIM = ssim(roi_real_image, x_ray_image, data_range=roi_real_image.max() - roi_real_image.min())\n",
    "\n",
    "print(\"MAPE without noise:\", \"{0:0.2f}\".format(100 * MAPE) + \"%\")\n",
    "print(\"ZNCC without noise\", \"{0:0.2f}\".format(100 * ZNCC) + \"%\")\n",
    "print(\"SSIM without noise:\", \"{0:0.2f}\".format(SSIM))"
   ]
  },
  {
   "cell_type": "markdown",
   "id": "441449d4-232f-4ed8-abc8-09eda4e98dfb",
   "metadata": {},
   "source": [
    "# Estimate the simulation time"
   ]
  },
  {
   "cell_type": "markdown",
   "id": "c1729cc7-0a58-4d5f-830b-30bebef8eef3",
   "metadata": {},
   "source": [
    "Get the total number of triangles"
   ]
  },
  {
   "cell_type": "code",
   "execution_count": null,
   "id": "d87eb35f-a6ba-49e7-b5eb-794c493e9570",
   "metadata": {},
   "outputs": [],
   "source": [
    "number_of_triangles = gvxr.getNumberOfPrimitives(\"PMMA block\")"
   ]
  },
  {
   "cell_type": "markdown",
   "id": "d46c77e7-fd70-4bdc-8368-55b6c47cb833",
   "metadata": {},
   "source": [
    "Compute an X-ray image 25 times (to gather performance statistics)"
   ]
  },
  {
   "cell_type": "code",
   "execution_count": null,
   "id": "1e33a901-1145-4b49-b2d6-106018b65e91",
   "metadata": {},
   "outputs": [],
   "source": [
    "# gvxr.enableArtefactFilteringOnCPU()\n",
    "gvxr.enableArtefactFilteringOnGPU()\n",
    "# gvxr.disableArtefactFiltering() # Spere inserts are missing with GPU integration when a outer surface is used for the matrix\n",
    "\n",
    "runtimes = []\n",
    "\n",
    "for i in range(25):\n",
    "    start_time = datetime.datetime.now()\n",
    "\n",
    "    raw_x_ray_image = np.array(gvxr.computeXRayImage())\n",
    "\n",
    "    # Compute and post-process an X-ray image\n",
    "    x_ray_image = sharpen(raw_x_ray_image, [sigma1, sigma2], alpha, shift, scale)\n",
    "\n",
    "    end_time = datetime.datetime.now()\n",
    "    delta_time = end_time - start_time\n",
    "    runtimes.append(delta_time.total_seconds() * 1000)"
   ]
  },
  {
   "cell_type": "code",
   "execution_count": null,
   "id": "06b5c3b4-f682-4b9c-a856-63f97ecc8c6d",
   "metadata": {},
   "outputs": [],
   "source": [
    "runtime_avg = round(np.mean(runtimes))\n",
    "runtime_std = round(np.std(runtimes))"
   ]
  },
  {
   "cell_type": "markdown",
   "id": "fe1e0b94-432d-4513-b7bf-a7cdcd656359",
   "metadata": {},
   "source": [
    "# Print a row of the table for the paper"
   ]
  },
  {
   "cell_type": "code",
   "execution_count": null,
   "id": "7b430411-b721-4041-b522-29325bac1a08",
   "metadata": {},
   "outputs": [],
   "source": [
    "print(\"Registration PMMA block & Real image & \" + \n",
    "      \"{0:0.2f}\".format(100 * MAPE) + \"\\\\%    &    \" +\n",
    "      \"{0:0.2f}\".format(100 * ZNCC) + \"\\\\%    &    \" +\n",
    "      \"{0:0.2f}\".format(SSIM) + \"    &    $\" +\n",
    "      str(raw_x_ray_image.shape[1]) + \" \\\\times \" + str(raw_x_ray_image.shape[0]) + \"$    &    \" +\n",
    "      str(number_of_triangles) + \"    &    \" +\n",
    "      \"N/A    &    \" +\n",
    "      \"$\" + str(runtime_avg) + \" \\\\pm \" + str(runtime_std) + \"$ \\\\\\\\\")"
   ]
  },
  {
   "cell_type": "code",
   "execution_count": null,
   "id": "ffa99344-cf43-4b06-a7ac-5874f322f480",
   "metadata": {},
   "outputs": [],
   "source": []
  }
 ],
 "metadata": {
  "kernelspec": {
   "display_name": "Python 3 (ipykernel)",
   "language": "python",
   "name": "python3"
  },
  "language_info": {
   "codemirror_mode": {
    "name": "ipython",
    "version": 3
   },
   "file_extension": ".py",
   "mimetype": "text/x-python",
   "name": "python",
   "nbconvert_exporter": "python",
   "pygments_lexer": "ipython3",
   "version": "3.10.5"
  }
 },
 "nbformat": 4,
 "nbformat_minor": 5
}
