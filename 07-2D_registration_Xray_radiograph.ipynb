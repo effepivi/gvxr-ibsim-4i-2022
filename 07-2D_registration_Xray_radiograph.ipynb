{
 "cells": [
  {
   "cell_type": "markdown",
   "metadata": {},
   "source": [
    "# Session 7: Recreating experiments using Registration"
   ]
  },
  {
   "cell_type": "markdown",
   "metadata": {},
   "source": [
    "# Session 4\n",
    "\n",
    "## Recreating experiments using registration\n",
    "\n",
    "- Authors: Iwan Mitchell\n",
    "- Version: 1.0 2022-09-22"
   ]
  },
  {
   "cell_type": "markdown",
   "metadata": {},
   "source": [
    "## Aims of this session\n",
    "\n",
    "- Introduction to registration techniques\n",
    "- Introduction to optimisers\n",
    "- Learn how to use gVirtualXRay and CMA-ES to register sample location"
   ]
  },
  {
   "cell_type": "markdown",
   "metadata": {},
   "source": [
    "## Introduction to simulated real experiments\n",
    "\n",
    "As you have seen, gVXR provides a strong basis for running x-ray simulations. With the speed provided of GPU acceleration, we are able to quickly produce accurate images.\n",
    "However, X-ray scanners are never perfect, and a large amount of facts influence the final result. We are able to try and paramaterise these scanning artefacts, and with the use of rapid simulations, obtain images closer to the ground truth.\n",
    "\n",
    "Some examples of artefacts are polychromatic beam spectra, material density, detector energy response, line spread functions, etc. In this session we will take a look at sample positioning as a use case, but the same approach can be used for all methods.\n",
    "\n",
    "<!-- \n",
    "- gvxr is able to account for most real artefact sources\n",
    "- therefore we should be able to recreate real experiment scenarios\n",
    "- however, we can't know a bunch of paramaters just from scans, inc exact sample positioning\n",
    "- with the strength of fast simulations, we can perform optimisation loops to discovered these paramaters -->"
   ]
  },
  {
   "cell_type": "markdown",
   "metadata": {},
   "source": [
    "## Quick explanation of registration with CMA-ES stochastic optimizer\n",
    "\n",
    "Image Registration in xCT is a method to align images on the same set of coordinates.\n",
    "\n",
    "\n",
    "- What is registration\n",
    "- Quick mention of 'scoring' images\n",
    "- Optimiser changes paramaters to get a reduced (error) score\n",
    "- What is Covariance Matrix Adaption-Evolution Strategy?\n",
    "    - https://arxiv.org/abs/1604.00772\n",
    "- What does this mean for us?"
   ]
  },
  {
   "cell_type": "markdown",
   "metadata": {},
   "source": [
    "## Example of using registration to locate a square\n",
    "- Step-by-step animation of a square moving with a simple loss fuction"
   ]
  },
  {
   "cell_type": "markdown",
   "metadata": {},
   "source": [
    "## Task 1: Comparison of image comparison operators (which one is best?)\n",
    "\n",
    "<!-- - We need a method to score an image, we want the fastest method since images are large\n",
    "- There exists multiple methods used in compvis and graphics\n",
    "- As a task, show the speed and score difference of different strategies -->"
   ]
  },
  {
   "cell_type": "markdown",
   "metadata": {},
   "source": [
    "## Task 2: Using gvxr, register a plexiglass cube to locate its position\n",
    "- We know how to change the position of models in gvxr, use cma-es to adjust these paramaters\n",
    "- As a task, create your own scoring function with help from the previous task\n",
    "- How fast does yours converge? is it a good result?\n",
    "\n",
    "- plexiglass data has a lot of post-processing due to using a medical device\n",
    "    - we have no idea what these methods are\n",
    "    - includes a sharpening filter, hence the edges"
   ]
  },
  {
   "cell_type": "markdown",
   "metadata": {},
   "source": [
    "## Task 3: Case Study; Register swansea data, compare to real scan data\n",
    "- You're able to now register the position of any model, do this on a real-life experiment (swansea data)\n",
    "- Notice how even with the correct position, the results are not exactly the same. What is different?\n",
    "- Simulate all the projections and create a reconstruction, compare this to the real data, what artefacts are present in the real data compared to simulated? How good is the reconstruction quality?\n",
    "\n",
    "(Congrats, we now have data for use in CIL the next day)"
   ]
  },
  {
   "cell_type": "markdown",
   "metadata": {},
   "source": [
    "## Ext Task A: Recreate a scan with a paramaterised model\n",
    "- We can do much more than model positioning\n",
    "- What if we wanted to create an accurate cad model instead?\n",
    "- Take a look at creating a cad model of a fibre to match the real data"
   ]
  },
  {
   "cell_type": "markdown",
   "metadata": {},
   "source": []
  }
 ],
 "metadata": {
  "kernelspec": {
   "display_name": "Python 3.9.13 64-bit ('gvxr-ibsim')",
   "language": "python",
   "name": "python3"
  },
  "language_info": {
   "name": "python",
   "version": "3.9.13"
  },
  "orig_nbformat": 4,
  "vscode": {
   "interpreter": {
    "hash": "843ea80654b1ee4129d8bd7048f1fed851de47b7d318c186f1cc66efd5240e93"
   }
  }
 },
 "nbformat": 4,
 "nbformat_minor": 2
}
