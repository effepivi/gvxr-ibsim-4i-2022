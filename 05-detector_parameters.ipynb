{
 "cells": [
  {
   "cell_type": "markdown",
   "metadata": {},
   "source": [
    "# Session 3.2: Detector Paramaters"
   ]
  },
  {
   "cell_type": "markdown",
   "metadata": {},
   "source": [
    "## Aims of this session\n",
    "- Introduction to more advanced detector properties\n",
    "- Learn the effect of magnification on tube-based scanners\n",
    "- See how the detector's Line Spread Function dramatically change result quality (pixels are not everything!)"
   ]
  },
  {
   "cell_type": "code",
   "execution_count": null,
   "metadata": {},
   "outputs": [],
   "source": [
    "from gvxrPython3 import gvxr, json2gvxr\n",
    "import matplotlib.pyplot as plt\n",
    "\n",
    "# Load in gvxr paramaters from a json file\n"
   ]
  },
  {
   "cell_type": "markdown",
   "metadata": {},
   "source": [
    "# Introduction to the Detector\n",
    "The Detector is a core component of all scanning systems. It is the part recieving X-rays from the beam source, converting them into signals (the images we see).\n",
    "\n",
    "In a previous setting you quickly looked at defining a detector's spacial location, along with the number and size of pixels the detector will recieve. In this notebook, we will take a further in-depth look into how these paramaters are not enough to accurately simulate real-life detectors.\n",
    "\n",
    "In GVXR, the detector is modelled as a simple 2D plane in the path of the beam source. This virtual detector by default has perfect properties, resulting in a theoretical perfect image. Real life detectors are unfortunately not perfect, and obtaining high quality images relies on more than resolution.\n",
    "\n",
    "![](img/scene-detector.drawio.png)\n",
    "\n",
    "\n",
    "Just like a camera, detectors can be built in many different ways. One common detector type uses scintillators to absorb x-rays and re-emit the absorbed energy as light. This light is then detected using transistors to produce an electrical image.\n",
    "\n",
    "![](img/detector-scintillator.drawio.png)\n",
    "\n",
    "Keep in mind that this process isn't perfect! the generated light energy is picked up by neighbouring transistors, causing blurring. Depending on the quality of the detector, this effect can drastically effect the quality of the produced scan. This phenomenon can be measured and used to calibrate detectors. The measured response is called the Line Spread Function.\n"
   ]
  },
  {
   "cell_type": "markdown",
   "metadata": {},
   "source": []
  },
  {
   "cell_type": "markdown",
   "metadata": {},
   "source": [
    "## Resolution and Pixel Size\n",
    "\n",
    "Detectors come in many different sizes, and are represented in different formats.\n",
    "GVXR only supports denoting detector sizes using pixel size, and resolution.\n",
    "\n",
    "Sometimes, the term *pixel pitch* is used. Pixel pitch is the distance between the centre of two pixels. It is often assumed that the edge of pixels have no width;- resulting in a pixel size equal to the pixel pitch.\n",
    "\n",
    "![](img/detector-size.drawio.png)"
   ]
  },
  {
   "cell_type": "markdown",
   "metadata": {},
   "source": [
    "### Task: Setting Pixel Size and Resolution\n",
    "\n",
    "Setting the detector size in gvxr is easy, but it only supports pixel values.\n",
    "The detector's resolution *must* be in pixels, you will have to convert the values yourself."
   ]
  },
  {
   "cell_type": "code",
   "execution_count": null,
   "metadata": {},
   "outputs": [],
   "source": [
    "# Set resolution to 512x512 with a pixel size of 200μm\n",
    "gvxr.setDetectorPixelSize()\n",
    "\n",
    "# Create a detector with a width of 8.192mm, height of 12.046mm and with a pixel size of 8μm\n",
    "gvxr.setDetectorPixelSize()\n",
    "\n",
    "# Using a resolution of 500x1000, create a detector with a width of 10mm and height of 20mm\n",
    "gvxr.setDetectorPixelSize()\n",
    "\n",
    "# Create a detector with a resolution of 512x512 with a pixel pitch of 20μm\n",
    "gvxr.setDetectorPixelSize()"
   ]
  },
  {
   "cell_type": "markdown",
   "metadata": {},
   "source": [
    "### Task: Pixel Stride\n",
    "\n",
    "Pixel stride is a method to reduce noise by combining values from multiple pixels and resulting in a lower resultion image.\n",
    "The result may have less total resolution, but the overall noise is decreased as more samples per pixel are used.\n",
    "\n",
    "![](img/detector-stride.drawio.png)\n",
    "\n",
    "GVXR does not directly support detector stride, however there are two approaches to recreate this detector feature:\n",
    "1. Double the pixel size to directly reduce the resolution\n",
    "2. Sample a full-resolution image\n",
    "\n",
    "Method 2. can be done using [scikit-learn's `downscale_local_mean`](https://scikit-image.org/docs/stable/api/skimage.transform.html#skimage.transform.downscale_local_mean) but that will not be convered in this lesson."
   ]
  },
  {
   "cell_type": "code",
   "execution_count": 12,
   "metadata": {},
   "outputs": [
    {
     "ename": "TypeError",
     "evalue": "setDetectorPixelSize() missing 3 required positional arguments: 'aWidth', 'aHeight', and 'aUnitOfLength'",
     "output_type": "error",
     "traceback": [
      "\u001b[1;31m---------------------------------------------------------------------------\u001b[0m",
      "\u001b[1;31mTypeError\u001b[0m                                 Traceback (most recent call last)",
      "Cell \u001b[1;32mIn [12], line 4\u001b[0m\n\u001b[0;32m      1\u001b[0m \u001b[38;5;66;03m# Approach 1 - Doubling pixel size\u001b[39;00m\n\u001b[0;32m      2\u001b[0m \n\u001b[0;32m      3\u001b[0m \u001b[38;5;66;03m# Create a detector with a width of 10mm, height of 12mm and with a pixel size of 8μm\u001b[39;00m\n\u001b[1;32m----> 4\u001b[0m \u001b[43mgvxr\u001b[49m\u001b[38;5;241;43m.\u001b[39;49m\u001b[43msetDetectorPixelSize\u001b[49m\u001b[43m(\u001b[49m\u001b[43m)\u001b[49m\n\u001b[0;32m      6\u001b[0m refImg \u001b[38;5;241m=\u001b[39m gvxr\u001b[38;5;241m.\u001b[39mcomputeXRayImage()\n\u001b[0;32m      8\u001b[0m \u001b[38;5;66;03m# Create the same detector, but with a pixel size of 16μm to recreate a pixel stride of 2\u001b[39;00m\n",
      "\u001b[1;31mTypeError\u001b[0m: setDetectorPixelSize() missing 3 required positional arguments: 'aWidth', 'aHeight', and 'aUnitOfLength'"
     ]
    }
   ],
   "source": [
    "# Approach 1 - Doubling pixel size\n",
    "\n",
    "# Create a detector with a width of 10mm, height of 12mm and with a pixel size of 8μm\n",
    "gvxr.setDetectorPixelSize()\n",
    "\n",
    "refImg = gvxr.computeXRayImage()\n",
    "\n",
    "# Create the same detector, but with a pixel size of 16μm to recreate a pixel stride of 2\n",
    "gvxr.setDetectorPixelSize()\n",
    "\n",
    "newImg = gvxr.computeXRayImage()\n",
    "\n",
    "# -----\n",
    "# Make a simple side-by-side with matplotlib\n",
    "fig, axes = plt.subplots(1,2)\n",
    "axes[0].imshow(refImg)\n",
    "axes[1].imshow(newImg)\n",
    "fig.show()"
   ]
  },
  {
   "cell_type": "markdown",
   "metadata": {},
   "source": [
    "Here we can see that the physical pane size has not changed, but the resolution is halved."
   ]
  },
  {
   "cell_type": "markdown",
   "metadata": {},
   "source": [
    "## OTF, MTF, PSF, ESF, and LSF\n",
    "\n",
    "OTF, MTF, PSF, and LSF are all values used to represent the 'spillover' caused by imperfect detectors. Since scintillator detectors are not perfect there is light leakage causing other nearby pixels to be effected. This has a dramatic effect on scans.\n",
    "\n",
    "The Optical Transfer Function (OTF) specifies how the detector system reacts to different spacial frequencies. It describes in the Fourier domain the transform of the Point Spread Function (PSF) applied to an image recieved by the detector. The Modulation Transfer Function (MTF) is defined as the magnitude of the OTF and has similar uses in different fields.\n",
    "\n",
    "In our specific case, we are interested in the Point Spread Fuction (PSF) and Line Spread Function (LSF).\n",
    "The PSF can be seen as the effect a single pixel has on the surrounding pixels, whereas LSF is a single line of this PSF though the origin.\n",
    "LSF is used as the measurement as it can be calculated from an image by using a sharp gradient change, and calculating the Edge Spread Function (ESF). The first derivative of the ESF is the LSF, and the LSF is the PSF along one axis.\n",
    "\n",
    "Confusing? Here is a useful flowchart with images to help visualise the relationships between transfer functions:\n",
    "\n",
    "![otf.png](otf.png)\n",
    "\n",
    "<!-- ![Detector LSF](img/detector-lsf.png) -->\n",
    "\n",
    "Shown below are two images; one of a Siemens Star with no LSF applied, and another with a LSF calibrated from a physical detector\n",
    "\n",
    "| Perfect Detector | Real Detector |\n",
    "| --- | --- |\n",
    "| ![](img/siemens-perfect.png) | ![](img/siemens-real.png) |\n",
    "\n",
    "Notice how even with the same detector paramaters, the image is heavily blurred.\n",
    "Another example with the same setup, but taken as a CT acquisition and reconstruction:\n",
    "\n",
    "| Plate CT Perfect Detector | Plate CT Real Detector |\n",
    "| --- | --- |\n",
    "| ![](img/plate-recon-perfect.png) | ![](img/plate-recon-real.png) |\n",
    "<small>(reconstructed using 360 projections with FDK)</small>"
   ]
  },
  {
   "cell_type": "markdown",
   "metadata": {},
   "source": [
    "## Energy Response"
   ]
  }
 ],
 "metadata": {
  "kernelspec": {
   "display_name": "Python 3.9.13 64-bit ('gvxr-ibsim')",
   "language": "python",
   "name": "python3"
  },
  "language_info": {
   "codemirror_mode": {
    "name": "ipython",
    "version": 3
   },
   "file_extension": ".py",
   "mimetype": "text/x-python",
   "name": "python",
   "nbconvert_exporter": "python",
   "pygments_lexer": "ipython3",
   "version": "3.9.13"
  },
  "orig_nbformat": 4,
  "vscode": {
   "interpreter": {
    "hash": "843ea80654b1ee4129d8bd7048f1fed851de47b7d318c186f1cc66efd5240e93"
   }
  }
 },
 "nbformat": 4,
 "nbformat_minor": 2
}
