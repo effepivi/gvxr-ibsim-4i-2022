{
 "cells": [
  {
   "cell_type": "markdown",
   "metadata": {},
   "source": [
    "# Session 3.2: Detector Paramaters"
   ]
  },
  {
   "cell_type": "markdown",
   "metadata": {},
   "source": [
    "## Aims of this session\n",
    "- Introduction to more advanced detector properties\n",
    "- Learn the effect of magnification on tube-based scanners\n",
    "- See how the detector's Line Spread Function dramatically change result quality (pixels are not everything!)"
   ]
  },
  {
   "cell_type": "code",
   "execution_count": null,
   "metadata": {},
   "outputs": [],
   "source": [
    "from gvxrPython3 import gvxr, json2gvxr\n",
    "import matplotlib.pyplot as plt\n",
    "import matplotlib.ticker as plttick\n",
    "import ipywidgets as widgets\n",
    "from IPython.display import display, clear_output\n",
    "import numpy as np\n",
    "from math import e, pi, sqrt\n",
    "from scipy.signal import unit_impulse\n",
    "\n",
    "# Load in gvxr paramaters from a json file\n",
    "json2gvxr.initGVXR(\"JSON/notebook5-detector-lsf.json\")\n",
    "json2gvxr.initDetector()\n",
    "json2gvxr.initSourceGeometry()\n",
    "json2gvxr.initSpectrum()\n",
    "json2gvxr.initSamples()\n",
    "\n",
    "# Remove the current LSF\n",
    "gvxr.setLSF((0,1,0))"
   ]
  },
  {
   "cell_type": "markdown",
   "metadata": {},
   "source": [
    "# Introduction to the Detector\n",
    "The Detector is a core component of all scanning systems. It is the part recieving X-rays from the beam source, converting them into signals (the images we see).\n",
    "\n",
    "In a previous setting you quickly looked at defining a detector's spacial location, along with the number and size of pixels the detector will recieve. In this notebook, we will take a further in-depth look into how these paramaters are not enough to accurately simulate real-life detectors.\n",
    "\n",
    "In GVXR, the detector is modelled as a simple 2D plane in the path of the beam source. This virtual detector by default has perfect properties, resulting in a theoretical perfect image. Real life detectors are unfortunately not perfect, and obtaining high quality images relies on more than resolution.\n",
    "\n",
    "![](img/scene-detector.drawio.png)\n",
    "\n",
    "\n",
    "Just like a camera, detectors can be built in many different ways. One common detector type uses scintillators to absorb x-rays and re-emit the absorbed energy as light. This light is then detected using transistors to produce an electrical image.\n",
    "\n",
    "![](img/detector-scintillator.drawio.png)\n",
    "\n",
    "Keep in mind that this process isn't perfect! the generated light energy is picked up by neighbouring transistors, causing blurring. Depending on the quality of the detector, this effect can drastically effect the quality of the produced scan. This phenomenon can be measured and used to calibrate detectors. The measured response is called the Line Spread Function.\n"
   ]
  },
  {
   "cell_type": "markdown",
   "metadata": {},
   "source": []
  },
  {
   "cell_type": "markdown",
   "metadata": {},
   "source": [
    "## Resolution and Pixel Size\n",
    "\n",
    "Detectors come in many different sizes, and are represented in different formats.\n",
    "GVXR only supports denoting detector sizes using pixel size, and resolution.\n",
    "\n",
    "Sometimes, the term *pixel pitch* is used. Pixel pitch is the distance between the centre of two pixels. It is often assumed that the edge of pixels have no width;- resulting in a pixel size equal to the pixel pitch.\n",
    "\n",
    "![](img/detector-size.drawio.png)"
   ]
  },
  {
   "cell_type": "markdown",
   "metadata": {},
   "source": [
    "### Task: Setting Pixel Size and Resolution\n",
    "\n",
    "Setting the detector size in gvxr is easy, but it only supports pixel values.\n",
    "The detector's resolution *must* be in pixels, you will have to convert the values yourself."
   ]
  },
  {
   "cell_type": "code",
   "execution_count": null,
   "metadata": {},
   "outputs": [],
   "source": [
    "# Set resolution to 512x512 with a pixel size of 200μm\n",
    "gvxr.setDetectorNumberOfPixels(512, 512)\n",
    "gvxr.setDetectorPixelSize(200, 200, \"um\")\n",
    "\n",
    "# Create a detector with a width of 8.192mm, height of 12.046mm and with a pixel size of 8μm\n",
    "gvxr.setDetectorPixelSize(8, 8, \"um\")\n",
    "gvxr.setDetectorNumberOfPixels(1024, 1506)\n",
    "\n",
    "# Using a resolution of 500x1000, create a detector with a width of 10mm and height of 20mm\n",
    "gvxr.setDetectorNumberOfPixels(500, 1000)\n",
    "gvxr.setDetectorPixelSize(20,20,\"um\")\n",
    "\n",
    "# Create a detector with a resolution of 512x512 with a pixel pitch of 20μm\n",
    "gvxr.setDetectorNumberOfPixels(512, 512)\n",
    "gvxr.setDetectorPixelSize(20,20,\"um\")\n"
   ]
  },
  {
   "cell_type": "markdown",
   "metadata": {},
   "source": [
    "### Task: Pixel Stride\n",
    "\n",
    "Pixel stride is a method to reduce noise by combining values from multiple pixels and resulting in a lower resultion image.\n",
    "The result may have less total resolution, but the overall noise is decreased as more samples per pixel are used.\n",
    "\n",
    "![](img/detector-stride.drawio.png)\n",
    "\n",
    "GVXR does not directly support detector stride, however there are two approaches to recreate this detector feature:\n",
    "1. Double the pixel size to directly reduce the resolution\n",
    "2. Sample a full-resolution image\n",
    "\n",
    "Method 2. can be done using [scikit-learn's `downscale_local_mean`](https://scikit-image.org/docs/stable/api/skimage.transform.html#skimage.transform.downscale_local_mean) but that will not be convered in this lesson."
   ]
  },
  {
   "cell_type": "code",
   "execution_count": null,
   "metadata": {},
   "outputs": [],
   "source": [
    "# Approach 1 - Doubling pixel size\n",
    "\n",
    "# Create a detector with a width of 100cm, height of 120cm and with a pixel size of 80μm\n",
    "gvxr.setDetectorPixelSize(80,80,\"um\")\n",
    "gvxr.setDetectorNumberOfPixels(1250,1500)\n",
    "\n",
    "refImg = gvxr.computeXRayImage()\n",
    "\n",
    "# Create the same detector, but with a pixel size of 160μm to recreate a pixel stride of 2\n",
    "gvxr.setDetectorPixelSize(160,160,\"um\")\n",
    "gvxr.setDetectorNumberOfPixels(625, 750)\n",
    "\n",
    "newImg = gvxr.computeXRayImage()\n",
    "\n",
    "# -----\n",
    "# Make a simple side-by-side with matplotlib\n",
    "fig, axes = plt.subplots(1,2)\n",
    "axes[0].imshow(refImg,cmap=\"gray\")\n",
    "axes[1].imshow(newImg,cmap=\"gray\")"
   ]
  },
  {
   "cell_type": "markdown",
   "metadata": {},
   "source": [
    "Here we can see that the physical pane size has not changed, but the resolution is halved."
   ]
  },
  {
   "cell_type": "markdown",
   "metadata": {},
   "source": [
    "## OTF, MTF, PSF, ESF, and LSF\n",
    "\n",
    "OTF, MTF, PSF, and LSF are all values used to represent the 'spillover' caused by imperfect detectors. Since scintillator detectors are not perfect there is light leakage causing other nearby pixels to be effected. This has a dramatic effect on scans. Although the large number of acronyms can be confusing, we are only interested in LSF and PSF.\n",
    "\n",
    "The Optical Transfer Function (OTF) specifies how the detector system reacts to different spacial frequencies. It describes in the Fourier domain the transform of the Point Spread Function (PSF) applied to an image recieved by the detector. The Modulation Transfer Function (MTF) is defined as the magnitude of the OTF and has similar uses in different fields.\n",
    "\n",
    "![OTF relationship](img/otf.drawio.png)\n",
    "\n",
    "In our specific case, we are interested in the Point Spread Fuction (PSF) and Line Spread Function (LSF).\n",
    "The PSF can be seen as the effect a single pixel has on the surrounding pixels, whereas LSF is a single line of this PSF though the origin. As mentioned previously in this notebook, a detector's consutrction is not perfect, and the scintillators commonly used in detectors are picked up by neighbouring pixels.\n",
    "\n",
    "![](img/detector-scintillator.drawio.png)\n",
    "\n",
    "LSF is used rather than PSF as the measurement can be calculated from an image by using a sharp gradient change, and calculating the Edge Spread Function (ESF). The first derivative of the ESF is the LSF.\n",
    "Although it would be more mathematically correct to use the PSF; this cannot be calculated using experiments, as the original obtained LSF is already been affected by the vertical component of the PSF.\n",
    "This is regarded as generally a non-issue, since the common usage of xCT is to assume slices are independent of each other.\n",
    "\n",
    "If the above explanation has confused you, don't worry. The key influenceing factor on scans is the Line Spread Function, as it is responsible for blurring in images.\n",
    "\n",
    "![Detector LSF](img/detector-lsf.png)\n",
    "\n",
    "Shown below are two images; one of a Siemens Star with no LSF applied, and another with a LSF calibrated from a physical detector\n",
    "\n",
    "| Perfect Detector | Real Detector |\n",
    "| --- | --- |\n",
    "| ![](img/siemens-perfect.png) | ![](img/siemens-real.png) |\n",
    "\n",
    "Notice how even with the same detector paramaters, the image is heavily blurred.\n",
    "Another example with the same setup, but taken as a CT acquisition and reconstruction:\n",
    "\n",
    "| Plate CT Perfect Detector | Plate CT Real Detector |\n",
    "| --- | --- |\n",
    "| ![](img/plate-recon-perfect.png) | ![](img/plate-recon-real.png) |\n",
    "\n",
    "<small>(Reconstructed using 360 projections with FDK)</small>"
   ]
  },
  {
   "cell_type": "markdown",
   "metadata": {},
   "source": [
    "### LSF Playground\n",
    "\n",
    "Now that you know what the LSF is, this is a small demo where you can adjust the 'Spikiness' of an LSF function.\n",
    "\n",
    "Use the slider to adjust the peak size, and click simulate to generate a quick projection. Feel free to look at the code and see how it works!"
   ]
  },
  {
   "cell_type": "code",
   "execution_count": null,
   "metadata": {},
   "outputs": [],
   "source": [
    "%matplotlib widget\n",
    "\n",
    "# Widgets\n",
    "slider = widgets.FloatSlider(value=0.9,min=0.1,max=0.90,step=0.01,description=\"LSF Peak\",readout=True)\n",
    "button = widgets.Button(description=\"Simulate\")\n",
    "color = widgets.Checkbox(description=\"Grayscale\")\n",
    "output = widgets.Output(layout=widgets.Layout(height='600px'))\n",
    "\n",
    "# Simulate LSF\n",
    "def simulate_lsf(b):\n",
    "    with output:\n",
    "        # Create a Dirac\n",
    "        a = slider.value * -1 + 1\n",
    "        x = np.linspace(-2,2,41)\n",
    "        lsf = ((1 / abs(a) * sqrt(pi)) * e) ** (((x / a) ** 2) * -1)\n",
    "        lsf /= np.sum(lsf)\n",
    "\n",
    "        # Simulate Projection\n",
    "        gvxr.setLSF(lsf)\n",
    "        image = gvxr.computeXRayImage()\n",
    "\n",
    "        # Plot LSF\n",
    "        output.clear_output()\n",
    "        fig, axes = plt.subplots(1,2)\n",
    "        axes[0].set_title(\"Detector LSF\")\n",
    "        axes[0].set_xlabel(\"Pixel\")\n",
    "        axes[0].set_ylabel(\"Pixel Contribution\")\n",
    "        axes[0].set_ybound(0,1)\n",
    "        axes[0].set_xbound(-20,20)\n",
    "        axes[0].set_autoscale_on(False)\n",
    "        axes[0].plot(np.linspace(-20,20,41), lsf)\n",
    "        cmap = \"gray\" if color.value else None\n",
    "        axes[1].imshow(image,cmap=cmap)\n",
    "        plt.show()\n",
    "\n",
    "# Bind and display\n",
    "button.on_click(simulate_lsf)\n",
    "display(output)\n",
    "display(widgets.HBox((button,slider,color)))\n",
    "simulate_lsf(None)"
   ]
  },
  {
   "cell_type": "markdown",
   "metadata": {},
   "source": [
    "## Flatfield Correction\n",
    "\n",
    "So far, apart from scintillator paramaters, we've been assuming the detector itself is mostly perfect. In the real case, this is incorrect.\n",
    "The detector can build up defects over time, such as dust, and the beam itself is not a uniform spread of intensity across the detector.\n",
    "Flatfield Correction is an approach to remove this fixed-pattern noise, and reduce image quality loss.\n",
    "\n",
    "In order to overcome this, scanners use flatfields as a way to calibrate and correct scanners to ensure a high quality image.\n",
    "A lightfield is a scan image with no sample in place, and represents the maximum beam intensity for each pixel.\n",
    "This lightfield is then used with a darkfield;- an image where the beam is off and represents the minimum intensity of each pixel.\n",
    "\n",
    "$$ corrected = \\frac{raw - darkfield}{lightfield - darkfield} $$\n",
    "\n",
    "\n",
    "Below is the lightfield of our simulated scanner;- it is a uniform white image as every pixel recieves the same beam intensity.\n",
    "Next to it is a lightfield from a beamline at the Diamond Light Source taken from a recent experiment.\n",
    "\n",
    "|Ideal Lightfield | Real Lightfield |\n",
    "| --- | --- |\n",
    "| ![](img/lightfield-simulated.png)|![](img/lightfield-diamond.png)|\n",
    "\n",
    "In industral machines this process is automatic, and result images have already been normalized. In more specialised scenarios such as synchrotrons and some lab systems, this has to be done manually. In simulations, the effect of flatfield correction is neglible on the final result, and therefore when using GVXR we assume the detector is perfect in this sense.\n",
    "\n",
    "*Note: flatfield correction still has to be done in order to balance out photon energy, even if no fixed-pattern noise is present!*\n"
   ]
  },
  {
   "cell_type": "markdown",
   "metadata": {},
   "source": [
    "# Energy Response\n",
    "\n",
    "Another often overlooked property of a detector is its response to different energies. As with all optical systems, X-ray detectors do not respond equally to all energies.\n",
    "This behaviour is not linear, and will effect the values of a recovered material's mu. However this non-linear relationship can be solved by assuming a lower or upper energy bound based on the scanner and experiment."
   ]
  },
  {
   "cell_type": "code",
   "execution_count": null,
   "metadata": {},
   "outputs": [],
   "source": [
    "# Read response data\n",
    "energy_response = np.loadtxt(\"input_data/responseDetector.txt\")[:200] * 1000\n",
    "fig, ax = plt.subplots()\n",
    "plt.plot(energy_response[:,0], energy_response[:,1])\n",
    "plt.title(\"Detector Energy Response\")\n",
    "plt.xlabel(\"Power Input (keV)\")\n",
    "plt.ylabel(\"Power Output (keV)\")"
   ]
  },
  {
   "cell_type": "markdown",
   "metadata": {},
   "source": [
    "As seen in the graph above, a recieved power input of 40keV will result in a 40keV output. However, an input of 104keV will also show 40keV!"
   ]
  }
 ],
 "metadata": {
  "kernelspec": {
   "display_name": "Python 3.10.5 64-bit ('gvxr-ibsim-4i-2022')",
   "language": "python",
   "name": "python3"
  },
  "language_info": {
   "codemirror_mode": {
    "name": "ipython",
    "version": 3
   },
   "file_extension": ".py",
   "mimetype": "text/x-python",
   "name": "python",
   "nbconvert_exporter": "python",
   "pygments_lexer": "ipython3",
   "version": "3.10.5"
  },
  "orig_nbformat": 4,
  "vscode": {
   "interpreter": {
    "hash": "7cb52200ce58d0990af40dfb29272ed58ebf24dc16709b96f71cbdb887d325ae"
   }
  }
 },
 "nbformat": 4,
 "nbformat_minor": 2
}
