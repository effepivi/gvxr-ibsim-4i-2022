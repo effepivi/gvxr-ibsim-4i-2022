{
 "cells": [
  {
   "cell_type": "markdown",
   "metadata": {},
   "source": [
    "# Session 3.2: Detector Paramaters"
   ]
  },
  {
   "cell_type": "markdown",
   "metadata": {},
   "source": [
    "## Aims of this session\n",
    "- Introduction to more advanced detector properties\n",
    "- Learn the effect of magnification on tube-based scanners\n",
    "- See how the detector's Line Spread Function dramatically change result quality (pixels are not everything!)"
   ]
  },
  {
   "cell_type": "markdown",
   "metadata": {},
   "source": [
    "# Introduction to the Detector\n",
    "The Detector is a core component of all scanning systems. It is the part recieving X-rays from the beam source, converting them into signals (the images we see).\n",
    "\n"
   ]
  },
  {
   "cell_type": "markdown",
   "metadata": {},
   "source": [
    "## Size and Pixel Size"
   ]
  },
  {
   "cell_type": "markdown",
   "metadata": {},
   "source": [
    "## PSF MTF and LSF\n",
    "- PSF: Point Spread Function\n",
    "- LSF: Line Spread Function\n",
    "- MTF: "
   ]
  },
  {
   "cell_type": "markdown",
   "metadata": {},
   "source": [
    "## Energy Response"
   ]
  }
 ],
 "metadata": {
  "kernelspec": {
   "display_name": "Python 3.9.13 64-bit ('gvxr-ibsim')",
   "language": "python",
   "name": "python3"
  },
  "language_info": {
   "codemirror_mode": {
    "name": "ipython",
    "version": 3
   },
   "file_extension": ".py",
   "mimetype": "text/x-python",
   "name": "python",
   "nbconvert_exporter": "python",
   "pygments_lexer": "ipython3",
   "version": "3.9.13"
  },
  "orig_nbformat": 4,
  "vscode": {
   "interpreter": {
    "hash": "843ea80654b1ee4129d8bd7048f1fed851de47b7d318c186f1cc66efd5240e93"
   }
  }
 },
 "nbformat": 4,
 "nbformat_minor": 2
}
